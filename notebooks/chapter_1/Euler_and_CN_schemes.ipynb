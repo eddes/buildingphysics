{
 "cells": [
  {
   "cell_type": "markdown",
   "metadata": {
    "colab_type": "text",
    "id": "view-in-github"
   },
   "source": [
    "<a href=\"https://colab.research.google.com/github/eddes/buildingphysics/blob/feature%2Fpipenv_and_notebooks/notebooks/chapter_1/Euler_and_CN_schemes.ipynb\" target=\"_parent\"><img src=\"https://colab.research.google.com/assets/colab-badge.svg\" alt=\"Open In Colab\"/></a>"
   ]
  },
  {
   "cell_type": "markdown",
   "metadata": {
    "colab_type": "text",
    "id": "WU1953pjtoy7"
   },
   "source": [
    "# **Stability for Euler’s explicit and  Crank-Nicolson’ schemes**\n",
    "## Building Physics - Applications in python - Chapter 1\n",
    "\n",
    "The notebook present examples of numerical integration methods for partial differential equations. The objective here is to integrate a 1D heat equation \n",
    "$ \\frac{\\partial T}{\\partial t}\n",
    "   = \\alpha \\frac{\\partial^2 T}{\\partial x^2} $. The media will be considered homogeneous.\n",
    "  \n",
    "  "
   ]
  },
  {
   "cell_type": "code",
   "execution_count": 1,
   "metadata": {
    "colab": {},
    "colab_type": "code",
    "id": "hyIs2ktQuPk1"
   },
   "outputs": [],
   "source": [
    "# Importing dependencies for calculus and plots\n",
    "import numpy as np\n",
    "import matplotlib.pyplot as plt\n",
    "from  scipy.optimize import fsolve\n",
    "\n",
    "# Widget to create interactive graphs\n",
    "from ipywidgets import  interact_manual\n",
    "import ipywidgets as widgets\n",
    "# Fixing figures plot size\n",
    "from pylab import rcParams\n",
    "rcParams['figure.figsize'] = 8, 5"
   ]
  },
  {
   "cell_type": "markdown",
   "metadata": {
    "colab_type": "text",
    "id": "K6C2DEReviTU"
   },
   "source": [
    "### Euler explicit scheme - vector\n",
    "**Book reference page 11** \n",
    "\n",
    "We define `n` as the amount of nodes we split the media into, `T` an array of size `n`, representing the temperature for each node at time `t`, `T_plus` an array of size `n`, representing the temperature for each node at time `t + dt`.\n",
    "\n",
    "`L` is the length of the media (supposed of dimension 1 here). `dt` is the elementary time step of the simulation (s), for a total simulation time of `sim_time` (s)\n",
    "\n",
    "We introduce Fourier’s non-dimensional number Fo = $ \\alpha \\frac{ \\Delta T}{\\Delta x^2} $\n",
    " the ratio of conduction heat transfer to thermal storage in the material slice.\n",
    "\n",
    "By default in this example, the media starts with a homogenous temperature of 0 degC. At the start of the simulation, the left border of the media is set to 10 degC as a boundary condition.\n"
   ]
  },
  {
   "cell_type": "markdown",
   "metadata": {},
   "source": [
    "Let's define some variables"
   ]
  },
  {
   "cell_type": "code",
   "execution_count": 2,
   "metadata": {
    "colab": {
     "base_uri": "https://localhost:8080/",
     "height": 36
    },
    "colab_type": "code",
    "id": "lKMSOvOlvfyb",
    "outputId": "c8584c1e-886d-4c18-aa77-81c388c43f17"
   },
   "outputs": [],
   "source": [
    "# The media is discretized in a 1D mesh of n units \n",
    "n=100\n",
    "\n",
    "# Initializing array storing temperature values for T + dt\n",
    "T_plus=np.zeros(n)\n",
    "# Initializing storing temperatures values for T\n",
    "T=np.zeros(n)\n",
    "\n",
    "# Time variable (s)\n",
    "t=0\n",
    "#Duration of the simulation (s)\n",
    "sim_time=600\n",
    "# Time step of the simulation\n",
    "dt=1\n",
    "\n",
    "# The length of the media\n",
    "L=0.1 # m\n",
    "# thermal diffusivity coefficient\n",
    "alpha=1e-7 #m2/s\n",
    "\n",
    "# The length of space unit\n",
    "dx=L/n # \n"
   ]
  },
  {
   "cell_type": "markdown",
   "metadata": {},
   "source": [
    "The Fourier coefficient is defined as"
   ]
  },
  {
   "cell_type": "code",
   "execution_count": 3,
   "metadata": {},
   "outputs": [],
   "source": [
    "Fo=alpha*dt/dx**2"
   ]
  },
  {
   "cell_type": "markdown",
   "metadata": {
    "colab_type": "text",
    "id": "dlx0N5iO0kcl"
   },
   "source": [
    "As per 2.1 in the book, the heat equation can be transformed as (1.12) :\n",
    "\n",
    "$ {T_{i}}^+ = T_i (1-2 F_0)+ F_0 * (T_{i+1} +T_{i-1})  $\n",
    "\n",
    "For each timestep, the temperature evolution in node i can be computed as : \n",
    "\n"
   ]
  },
  {
   "cell_type": "code",
   "execution_count": 4,
   "metadata": {},
   "outputs": [],
   "source": [
    "for i in range(1,n-1):\n",
    "    T_plus[i]=T[i]*(1-2*Fo)+Fo*(T[i+1]+T[i-1])"
   ]
  },
  {
   "cell_type": "markdown",
   "metadata": {},
   "source": [
    "The equation (1.12) is stable for $(1-2 F_0) > 0 $\n",
    "\n",
    "Let's run the simulation a first time. In this case, `Fo = 0.1`, respecting the empirical stability criteria of Fo < 0.5.\n"
   ]
  },
  {
   "cell_type": "code",
   "execution_count": 5,
   "metadata": {
    "colab": {
     "base_uri": "https://localhost:8080/",
     "height": 369
    },
    "colab_type": "code",
    "id": "p9LczwS9vf9H",
    "outputId": "ca10bd66-f076-4bea-a118-dd87e7bd7c44"
   },
   "outputs": [
    {
     "name": "stdout",
     "output_type": "stream",
     "text": [
      "Fo = 0.1\n"
     ]
    },
    {
     "data": {
      "text/plain": [
       "[<matplotlib.lines.Line2D at 0x7f8058339da0>]"
      ]
     },
     "execution_count": 5,
     "metadata": {},
     "output_type": "execute_result"
    },
    {
     "data": {
      "image/png": "[encoded data removed]",
      "text/plain": [
       "<Figure size 576x360 with 1 Axes>"
      ]
     },
     "metadata": {
      "needs_background": "light"
     },
     "output_type": "display_data"
    }
   ],
   "source": [
    "# Initializing array storing temperature values for T + dt\n",
    "T_plus=np.zeros(n)\n",
    "# Initializing storing temperatures values for T\n",
    "T=np.zeros(n)\n",
    "\n",
    "t = 0\n",
    "\n",
    "# Calculating Fo\n",
    "Fo=alpha*dt/dx**2\n",
    "print(\"Fo = {}\".format(Fo))\n",
    "\n",
    "# Assert if Fo respects the stability criteria\n",
    "if Fo>0.5:\n",
    "    print(\"stability issue\")\n",
    "\n",
    "# Running the simulation for t in [0, sim_time]\n",
    "while t < sim_time:\n",
    "    # Initializing boundary conditions (these temperatures are fixed during the simulation)\n",
    "    T[0]=0\n",
    "    T[n-1]=10\n",
    "    # Updating each node as per equation (1.12) \n",
    "    for i in range(1,n-1):\n",
    "        T_plus[i]=T[i]*(1-2*Fo)+Fo*(T[i+1]+T[i-1])\n",
    "    \n",
    "    # T becomes T+\n",
    "    T=T_plus # replace \n",
    "    # Updating to next time step\n",
    "    t+=dt\n",
    "\n",
    "# The T array is displayed at the end of the simulation\n",
    "x_pos=np.arange(0,L,dx)\n",
    "plt.xlabel(\"x position [m]\")\n",
    "plt.ylabel(\"Temperature [°C]\")\n",
    "plt.plot(x_pos, T_plus, 'o-', alpha=0.65)\n"
   ]
  },
  {
   "cell_type": "markdown",
   "metadata": {
    "colab_type": "text",
    "id": "BphnE_YB1Odv"
   },
   "source": [
    "Let's now plot the same simulation with a different value of Fo. The interactive plot allows you to pick a value then run the simulation. Click on the **Run Interact** button to start the simulation and display the resulting graph."
   ]
  },
  {
   "cell_type": "code",
   "execution_count": 6,
   "metadata": {
    "colab": {
     "base_uri": "https://localhost:8080/",
     "height": 100,
     "referenced_widgets": [
      "c5b6fe7642a146dba1028e27805e4148",
      "f7fb5fb2ec894fec9e77e1b2cecaf59b",
      "cc1472f46a064f6295ee0fcb30d708c9",
      "1dfee540fa5e432d80da9ebae3ffe0b4",
      "e92569833b1d411e90f43a0fd570a38a",
      "89340e43cd6b42588ab1905106f8f910",
      "ae95054d59c4437b9e4867c449d1804b",
      "ed6204af561f4f818b56c3057e8a4470",
      "40fbb4d8f62145ac8709daa9bcd36b1d",
      "dd0e1031431f443e96deb9d8a262afe2"
     ]
    },
    "colab_type": "code",
    "id": "s_rIEfbBvgAI",
    "outputId": "8bd03692-e690-4a07-e398-0f63cfeeed02"
   },
   "outputs": [
    {
     "data": {
      "application/vnd.jupyter.widget-view+json": {
       "model_id": "85f5c851569740d5abd70700d9fd274b",
       "version_major": 2,
       "version_minor": 0
      },
      "text/plain": [
       "interactive(children=(FloatSlider(value=0.2, description='Fo', max=1.0, step=0.05), Button(description='Run In…"
      ]
     },
     "metadata": {},
     "output_type": "display_data"
    },
    {
     "data": {
      "text/plain": [
       "<function __main__.plot_temperature_evolution(Fo)>"
      ]
     },
     "execution_count": 6,
     "metadata": {},
     "output_type": "execute_result"
    }
   ],
   "source": [
    "# Defining the simulation as a method with Fo as an argument.\n",
    "\n",
    "def plot_temperature_evolution(Fo):\n",
    "  n=100\n",
    "  T_plus=np.zeros(n)\n",
    "  T=np.zeros(n)\n",
    "  t=0\n",
    "  sim_time=60\n",
    "  dt=1\n",
    "  while t < sim_time:\n",
    "    T[0]=0\n",
    "    T[n-1]=200\n",
    "    for i in range(1,n-1):\n",
    "      T_plus[i]=T[i]*(1-2*Fo)+Fo*(T[i+1]+T[i-1])\n",
    "    T=T_plus \n",
    "    t+=dt\n",
    "\t\n",
    "  x_pos=np.arange(0,L,dx)\n",
    "  plt.xlabel(\"x position [m]\")\n",
    "  plt.ylabel(\"Temperature [°C]\")\n",
    "  plt.plot(x_pos, T_plus, 'o-', alpha=0.65)\n",
    "\n",
    "# Creating an interactive graph based on IPython Widgets\n",
    "interact_manual(plot_temperature_evolution, Fo = widgets.FloatSlider(value=0.2,    min=0,\n",
    "                                               max=1,\n",
    "                                               step=0.05))"
   ]
  },
  {
   "cell_type": "markdown",
   "metadata": {},
   "source": [
    "The instability can be seen for Fo values near 1, as a discontinuity in the temperature distribution appears."
   ]
  },
  {
   "cell_type": "markdown",
   "metadata": {
    "colab_type": "text",
    "id": "uiAi_8KH4aQ7"
   },
   "source": [
    "### Euler explicit scheme - matrix\n",
    "**Book reference page 12** \n",
    "\n",
    "Same exemple, yet described with a matrix implementation. The instability can be clearly seen for `Fo > 0.5`."
   ]
  },
  {
   "cell_type": "code",
   "execution_count": 7,
   "metadata": {
    "colab": {
     "base_uri": "https://localhost:8080/",
     "height": 417,
     "referenced_widgets": [
      "e69bb7da17ca48398ed66c9ede16ffb4",
      "9011e1fc2c60456f985ad4c0370596f5",
      "297be0228fc4472c9115af9fc03576e8",
      "1009dae3c27e4c57beebd40288e19f22",
      "ce8500de10a545da9f9ee3e1b5c86668",
      "1e1b16a7b5c941ec8ab3a87e0656a01d",
      "cd19eb87c91642bca218fceb5593b015",
      "0ce658f67af34dd5af384d2a21a8d1bd",
      "95604a383ddf45b3834430bd1eaaa556",
      "db1c12ca31f44e32b896453d32005171"
     ]
    },
    "colab_type": "code",
    "id": "_mUvz_mY4u0N",
    "outputId": "43585fc0-aa1a-4bce-a2e5-2dc38cf83d80",
    "scrolled": false
   },
   "outputs": [
    {
     "data": {
      "application/vnd.jupyter.widget-view+json": {
       "model_id": "0f4631021e3c4ab795cab31aa18976e1",
       "version_major": 2,
       "version_minor": 0
      },
      "text/plain": [
       "interactive(children=(FloatSlider(value=0.2, description='Fo', max=1.0, step=0.05), Button(description='Run In…"
      ]
     },
     "metadata": {},
     "output_type": "display_data"
    },
    {
     "data": {
      "text/plain": [
       "<function __main__.plot_temperature_evolution_matrix(Fo)>"
      ]
     },
     "execution_count": 7,
     "metadata": {},
     "output_type": "execute_result"
    }
   ],
   "source": [
    "# Defining the simulation as a method with Fo as an argument.\n",
    "\n",
    "def plot_temperature_evolution_matrix(Fo):\n",
    "    n=50+2 # number of nodes\n",
    "    t=0\n",
    "    sim_time=600\n",
    "    dt=1\n",
    "\n",
    "    L=0.1 # m\n",
    "\n",
    "    # Defining the matrix as per (1.13)\n",
    "    K=np.eye(n,n,k=-1)*1 + np.eye(n,n)*-2 + np.eye(n,n,k=1)*1\n",
    "\n",
    "    K[0,0]=0\n",
    "    K[0,1]=0\n",
    "    K[-1,-1]=0\n",
    "    K[-1,-2]=0\n",
    "\n",
    "    # Initializing array storing temperature values for T + dt\n",
    "    T_plus=np.zeros(n)\n",
    "    # Initializing storing temperatures values for T\n",
    "    T=np.zeros(n)\n",
    "\n",
    "    dx = L/n\n",
    "\n",
    "    # Starting simulation \n",
    "    while t < sim_time:\n",
    "            \n",
    "        T[0]=0\n",
    "        T[n-1]=10\n",
    "\n",
    "        # matrix multiplicatio K*T as per (1.13)\n",
    "        T_plus=Fo*np.dot(K,T) + T\n",
    "\n",
    "        # T becomes T+\n",
    "        T=T_plus # replace \n",
    "        # Updating to next time step\n",
    "        t+=dt\n",
    "    \n",
    "    #Plotting results\n",
    "    x_pos=np.arange(0,L,dx)\n",
    "    plt.xlabel(\"x position [m]\")\n",
    "    plt.ylabel(\"Temperature [°C]\")\n",
    "    plt.plot(x_pos, T_plus, 'o-', alpha=0.65)\n",
    "\n",
    "\n",
    "# Creating an interactive graph based on IPython Widgets\n",
    "interact_manual(plot_temperature_evolution_matrix, Fo = widgets.FloatSlider(value=0.2,    min=0,\n",
    "                                                max=1,\n",
    "                                                step=0.05))"
   ]
  },
  {
   "cell_type": "markdown",
   "metadata": {
    "colab_type": "text",
    "id": "5URTJ4Po2_lM"
   },
   "source": [
    "### Crank-Nicolson scheme \n",
    "**Book reference page 16** \n",
    "\n",
    "Euler’s explicit scheme has the advantage of simplicity and straightforward implementation. However, its stability conditions are often detrimental to execution time. A way to increase its stability is to change the explicit numerical scheme for an implicit scheme. As per (1.32), the integration scheme can be generalized as \n",
    "\n",
    "$ [T^+] = [T] + (1 - \\beta) * [K][T] + \\beta * [K][T] $\n",
    "\n",
    "with $\\beta$ called \"relaxation factor\". Crank-Nicolson being a particular form of this scheme for $ \\beta = 0.5 $. We define this scheme in the following methods:"
   ]
  },
  {
   "cell_type": "code",
   "execution_count": 8,
   "metadata": {},
   "outputs": [],
   "source": [
    "# function for Crank-Nicolson's scheme\n",
    "def fc_CN(T_plus,T,K,beta):\n",
    "    return  T_plus - T - beta*np.dot(K,T) - beta*np.dot(K,T_plus)"
   ]
  },
  {
   "cell_type": "markdown",
   "metadata": {},
   "source": [
    "Let's apply this scheme with two different materials. The media has 3/4 of his length in material 1, 1/4 of his length in material 2.\n"
   ]
  },
  {
   "cell_type": "code",
   "execution_count": 9,
   "metadata": {},
   "outputs": [
    {
     "name": "stdout",
     "output_type": "stream",
     "text": [
      "L_tot=0.9, L_layer1=0.678,x_interace=0.22199999999999998,i_interace=4\n"
     ]
    }
   ],
   "source": [
    "# Relaxation factor\n",
    "beta=0.5\n",
    "# Solid nodes \n",
    "n_solid=19\n",
    "# Total nodes\n",
    "n=n_solid+2\n",
    "\n",
    "# Init time\n",
    "t=0\n",
    "# Simulation time\n",
    "hours=4\n",
    "sim_time=hours*3600\n",
    "# Time step\n",
    "dt=50\n",
    "\n",
    "# Length of the media\n",
    "L_tot=0.9 # m\n",
    "# Node length\n",
    "dx=L_tot/(n_solid) # m\n",
    "\n",
    "\n",
    "# x discretization of the media\n",
    "x_pos=np.arange(0,L_tot+2*dx,dx)\n",
    "#Definition of the layer of material 1\n",
    "L_layer1= 3*L_tot/4 + 0.003 # add epsilon to avoid falling straight on a node\n",
    "\n",
    "# for the interface property\n",
    "# Location of the material interface\n",
    "x_interface=L_tot-L_layer1\n",
    "# Node number in which falls the interface\n",
    "i_interface=int(x_interface/dx)\n",
    "\n",
    "\n",
    "\n",
    "Tmin=-5\n",
    "Tmax=20\n",
    "T_init=Tmin #0.5*(Tmin+Tmax)\n",
    "T=np.ones(n)*T_init\n",
    "T[0]=Tmin\n",
    "T[n-1]=Tmax\n",
    "\n",
    "print(\"L_tot={}, L_layer1={},x_interace={},i_interace={}\".format(L_tot,L_layer1, x_interface, i_interface))"
   ]
  },
  {
   "cell_type": "markdown",
   "metadata": {},
   "source": [
    "The media properties and the interface localisation are described below"
   ]
  },
  {
   "cell_type": "code",
   "execution_count": 23,
   "metadata": {},
   "outputs": [
    {
     "data": {
      "text/plain": [
       "[<matplotlib.lines.Line2D at 0x7f8057b21208>]"
      ]
     },
     "execution_count": 23,
     "metadata": {},
     "output_type": "execute_result"
    },
    {
     "data": {
      "image/png": "[encoded data removed]",
      "text/plain": [
       "<Figure size 576x360 with 1 Axes>"
      ]
     },
     "metadata": {
      "needs_background": "light"
     },
     "output_type": "display_data"
    }
   ],
   "source": [
    "\n",
    "# material 1 and 2 (1 = on the side of i=0)\n",
    "lambda1,rho1,Cp1 =1.6,2200,1100 # 8.1*1e-7\n",
    "lambda2,rho2,Cp2 =  0.04,300,900 # 1.2*1e-7\n",
    "\n",
    "alpha1 = lambda1/(rho1*Cp1)\n",
    "alpha2 = lambda2/(rho2*Cp2)\n",
    "\n",
    "# fourier for both layers\n",
    "Fo1=alpha1*dt/dx**2\n",
    "Fo2=alpha2*dt/dx**2\n",
    "\n",
    "# fourier-biot\n",
    "hi=7.7 # W/m2/K heat transfer side i\n",
    "FoBi_i=dt/(dx*rho1*Cp1)*np.power((1/hi+dx/lambda1/2),-1)\n",
    "he=25 # W/m2/K heat transfer side e\n",
    "FoBi_e=dt/(dx*rho2*Cp1)*np.power((1/he+dx/lambda2/2),-1)\n",
    "\n",
    "\n",
    "Fo=np.zeros(n)\n",
    "\n",
    "\n",
    "dx1=max(i_interface*dx-x_interface,x_interface-i_interface*dx)\n",
    "dx2=dx-dx1\n",
    "\n",
    "\n",
    "# lambda_eq at the interface\n",
    "k_eq=1/(dx1/lambda1+dx2/lambda2)\n",
    "# Fo_eq\n",
    "Fo_eq=dt*k_eq/(rho1*Cp1*dx**2)\n",
    "\n",
    "# let's build the conductivity matrix\n",
    "K=np.eye(n,n,k=-1)*1 + np.eye(n,n)*-2+ np.eye(n,n,k=1)*1\n",
    "K[0,0],K[0,1],K[-1,-1],K[-1,-2]=0,0,0,0 # ghost lines for BC\n",
    "\n",
    "coeffs_Fo=np.ones(len(T))\n",
    "coeffs_Fo[0:i_interface+1]=Fo1 # prepare the upper part of the matrix\n",
    "coeffs_Fo[i_interface+1:]=Fo2 # ... the lower part of the matrix\n",
    "\n",
    "\n",
    "K=coeffs_Fo*K\n",
    "# diagonal terms around interface\n",
    "K[i_interface,i_interface]=-(Fo1+Fo_eq)\n",
    "K[i_interface+1,i_interface+1]=-(Fo2+Fo_eq)\n",
    "# sub and supra diag terms around interface\n",
    "K[i_interface,i_interface+1]=Fo_eq\n",
    "K[i_interface+1,i_interface]=Fo_eq\n",
    "# exchange with air\n",
    "K[1,0]=FoBi_i\n",
    "K[1,1]=-FoBi_i-Fo1\n",
    "# exchange with air\n",
    "K[-2,-1]=FoBi_e\n",
    "K[-2,-2]=-FoBi_e-Fo2\n",
    "\n",
    "plt.xlabel(\"x position [m]\")\n",
    "plt.ylabel(\"Fo \")\n",
    "plt.plot(coeffs_Fo)"
   ]
  },
  {
   "cell_type": "markdown",
   "metadata": {},
   "source": [
    "Interactive plot of CN scheme"
   ]
  },
  {
   "cell_type": "code",
   "execution_count": 24,
   "metadata": {
    "colab": {
     "base_uri": "https://localhost:8080/",
     "height": 415,
     "referenced_widgets": [
      "34ce1ba652f1416fac75daaab2ed76ce",
      "0ea38de225b441f68004d5635946a73e",
      "024a976a018a4b3aaa26b25cd47ef59e",
      "f75e7f976cc14e8b92e87515ccb6d68c",
      "a822b3dd0de64a639b93f339e1e2448e",
      "255518ad6a8842f38bd9884b16a4026d",
      "687df892e1b54e259228b449adda3637",
      "64d6798e451346589858b0734bcd9560",
      "ab0f879da5f2446dbdc7b22284ee5730",
      "822dc0f4a078418ca24f77db6f89e75b"
     ]
    },
    "colab_type": "code",
    "id": "lCierOQ23Q5O",
    "outputId": "cc1dd853-7af8-4f4a-8c24-14848ac83efe"
   },
   "outputs": [
    {
     "data": {
      "application/vnd.jupyter.widget-view+json": {
       "model_id": "2a84ba83abe449cba2fd57bd1cdf7a44",
       "version_major": 2,
       "version_minor": 0
      },
      "text/plain": [
       "interactive(children=(FloatSlider(value=20.0, description='dt', max=200.0, step=1.0), Button(description='Run …"
      ]
     },
     "metadata": {},
     "output_type": "display_data"
    },
    {
     "data": {
      "text/plain": [
       "<function __main__.run_simulation_CN(dt)>"
      ]
     },
     "execution_count": 24,
     "metadata": {},
     "output_type": "execute_result"
    }
   ],
   "source": [
    "def run_simulation_CN(dt):\n",
    "  Tmin=-5\n",
    "  Tmax=20\n",
    "  T_init=Tmin #0.5*(Tmin+Tmax)\n",
    "  T=np.ones(n)*T_init\n",
    "  T[0]=Tmax\n",
    "  \n",
    "  T[n-1]=Tmin\n",
    "  t=0\n",
    "  while t < sim_time:\n",
    "    T_plus = fsolve(fc_CN, T, args=(T,K,beta))\n",
    "    T = T_plus\n",
    "    t+=dt\n",
    "\n",
    "  plt.xlabel(\"x position [m]\")\n",
    "  plt.ylabel(\"Temperature [°C]\")\n",
    "  plt.plot(x_pos, T, 'o-', alpha=0.65,label='crank-nicolson')\n",
    "  plt.legend()\n",
    "  plt.arrow(L_tot-L_layer1,Tmin,0,abs(Tmax-Tmin))\n",
    "\n",
    "# Creating an interactive graph based on IPython Widgets\n",
    "interact_manual(run_simulation_CN, dt = widgets.FloatSlider(value=20,    min=0,\n",
    "                                                max=200,\n",
    "                                                step=1))"
   ]
  },
  {
   "cell_type": "code",
   "execution_count": null,
   "metadata": {
    "colab": {},
    "colab_type": "code",
    "id": "gREVYA6JLxMH"
   },
   "outputs": [],
   "source": []
  },
  {
   "cell_type": "code",
   "execution_count": null,
   "metadata": {},
   "outputs": [],
   "source": []
  }
 ],
 "metadata": {
  "colab": {
   "include_colab_link": true,
   "name": "Untitled0.ipynb",
   "provenance": []
  },
  "kernelspec": {
   "display_name": "Python 3",
   "language": "python",
   "name": "python3"
  },
  "language_info": {
   "codemirror_mode": {
    "name": "ipython",
    "version": 3
   },
   "file_extension": ".py",
   "mimetype": "text/x-python",
   "name": "python",
   "nbconvert_exporter": "python",
   "pygments_lexer": "ipython3",
   "version": "3.6.9"
  },
  "widgets": {
   "application/vnd.jupyter.widget-state+json": {
    "024a976a018a4b3aaa26b25cd47ef59e": {
     "model_module": "@jupyter-widgets/controls",
     "model_name": "FloatSliderModel",
     "state": {
      "_dom_classes": [],
      "_model_module": "@jupyter-widgets/controls",
      "_model_module_version": "1.5.0",
      "_model_name": "FloatSliderModel",
      "_view_count": null,
      "_view_module": "@jupyter-widgets/controls",
      "_view_module_version": "1.5.0",
      "_view_name": "FloatSliderView",
      "continuous_update": true,
      "description": "dt",
      "description_tooltip": null,
      "disabled": false,
      "layout": "IPY_MODEL_687df892e1b54e259228b449adda3637",
      "max": 200,
      "min": 0,
      "orientation": "horizontal",
      "readout": true,
      "readout_format": ".2f",
      "step": 1,
      "style": "IPY_MODEL_255518ad6a8842f38bd9884b16a4026d",
      "value": 3
     }
    },
    "0ce658f67af34dd5af384d2a21a8d1bd": {
     "model_module": "@jupyter-widgets/controls",
     "model_name": "ButtonStyleModel",
     "state": {
      "_model_module": "@jupyter-widgets/controls",
      "_model_module_version": "1.5.0",
      "_model_name": "ButtonStyleModel",
      "_view_count": null,
      "_view_module": "@jupyter-widgets/base",
      "_view_module_version": "1.2.0",
      "_view_name": "StyleView",
      "button_color": null,
      "font_weight": ""
     }
    },
    "0ea38de225b441f68004d5635946a73e": {
     "model_module": "@jupyter-widgets/base",
     "model_name": "LayoutModel",
     "state": {
      "_model_module": "@jupyter-widgets/base",
      "_model_module_version": "1.2.0",
      "_model_name": "LayoutModel",
      "_view_count": null,
      "_view_module": "@jupyter-widgets/base",
      "_view_module_version": "1.2.0",
      "_view_name": "LayoutView",
      "align_content": null,
      "align_items": null,
      "align_self": null,
      "border": null,
      "bottom": null,
      "display": null,
      "flex": null,
      "flex_flow": null,
      "grid_area": null,
      "grid_auto_columns": null,
      "grid_auto_flow": null,
      "grid_auto_rows": null,
      "grid_column": null,
      "grid_gap": null,
      "grid_row": null,
      "grid_template_areas": null,
      "grid_template_columns": null,
      "grid_template_rows": null,
      "height": null,
      "justify_content": null,
      "justify_items": null,
      "left": null,
      "margin": null,
      "max_height": null,
      "max_width": null,
      "min_height": null,
      "min_width": null,
      "object_fit": null,
      "object_position": null,
      "order": null,
      "overflow": null,
      "overflow_x": null,
      "overflow_y": null,
      "padding": null,
      "right": null,
      "top": null,
      "visibility": null,
      "width": null
     }
    },
    "1009dae3c27e4c57beebd40288e19f22": {
     "model_module": "@jupyter-widgets/controls",
     "model_name": "ButtonModel",
     "state": {
      "_dom_classes": [],
      "_model_module": "@jupyter-widgets/controls",
      "_model_module_version": "1.5.0",
      "_model_name": "ButtonModel",
      "_view_count": null,
      "_view_module": "@jupyter-widgets/controls",
      "_view_module_version": "1.5.0",
      "_view_name": "ButtonView",
      "button_style": "",
      "description": "Run Interact",
      "disabled": false,
      "icon": "",
      "layout": "IPY_MODEL_95604a383ddf45b3834430bd1eaaa556",
      "style": "IPY_MODEL_0ce658f67af34dd5af384d2a21a8d1bd",
      "tooltip": ""
     }
    },
    "1dfee540fa5e432d80da9ebae3ffe0b4": {
     "model_module": "@jupyter-widgets/controls",
     "model_name": "ButtonModel",
     "state": {
      "_dom_classes": [],
      "_model_module": "@jupyter-widgets/controls",
      "_model_module_version": "1.5.0",
      "_model_name": "ButtonModel",
      "_view_count": null,
      "_view_module": "@jupyter-widgets/controls",
      "_view_module_version": "1.5.0",
      "_view_name": "ButtonView",
      "button_style": "",
      "description": "Run Interact",
      "disabled": false,
      "icon": "",
      "layout": "IPY_MODEL_40fbb4d8f62145ac8709daa9bcd36b1d",
      "style": "IPY_MODEL_ed6204af561f4f818b56c3057e8a4470",
      "tooltip": ""
     }
    },
    "1e1b16a7b5c941ec8ab3a87e0656a01d": {
     "model_module": "@jupyter-widgets/controls",
     "model_name": "SliderStyleModel",
     "state": {
      "_model_module": "@jupyter-widgets/controls",
      "_model_module_version": "1.5.0",
      "_model_name": "SliderStyleModel",
      "_view_count": null,
      "_view_module": "@jupyter-widgets/base",
      "_view_module_version": "1.2.0",
      "_view_name": "StyleView",
      "description_width": "",
      "handle_color": null
     }
    },
    "255518ad6a8842f38bd9884b16a4026d": {
     "model_module": "@jupyter-widgets/controls",
     "model_name": "SliderStyleModel",
     "state": {
      "_model_module": "@jupyter-widgets/controls",
      "_model_module_version": "1.5.0",
      "_model_name": "SliderStyleModel",
      "_view_count": null,
      "_view_module": "@jupyter-widgets/base",
      "_view_module_version": "1.2.0",
      "_view_name": "StyleView",
      "description_width": "",
      "handle_color": null
     }
    },
    "297be0228fc4472c9115af9fc03576e8": {
     "model_module": "@jupyter-widgets/controls",
     "model_name": "FloatSliderModel",
     "state": {
      "_dom_classes": [],
      "_model_module": "@jupyter-widgets/controls",
      "_model_module_version": "1.5.0",
      "_model_name": "FloatSliderModel",
      "_view_count": null,
      "_view_module": "@jupyter-widgets/controls",
      "_view_module_version": "1.5.0",
      "_view_name": "FloatSliderView",
      "continuous_update": true,
      "description": "Fo",
      "description_tooltip": null,
      "disabled": false,
      "layout": "IPY_MODEL_cd19eb87c91642bca218fceb5593b015",
      "max": 1,
      "min": 0,
      "orientation": "horizontal",
      "readout": true,
      "readout_format": ".2f",
      "step": 0.1,
      "style": "IPY_MODEL_1e1b16a7b5c941ec8ab3a87e0656a01d",
      "value": 0.5
     }
    },
    "34ce1ba652f1416fac75daaab2ed76ce": {
     "model_module": "@jupyter-widgets/controls",
     "model_name": "VBoxModel",
     "state": {
      "_dom_classes": [
       "widget-interact"
      ],
      "_model_module": "@jupyter-widgets/controls",
      "_model_module_version": "1.5.0",
      "_model_name": "VBoxModel",
      "_view_count": null,
      "_view_module": "@jupyter-widgets/controls",
      "_view_module_version": "1.5.0",
      "_view_name": "VBoxView",
      "box_style": "",
      "children": [
       "IPY_MODEL_024a976a018a4b3aaa26b25cd47ef59e",
       "IPY_MODEL_f75e7f976cc14e8b92e87515ccb6d68c",
       "IPY_MODEL_a822b3dd0de64a639b93f339e1e2448e"
      ],
      "layout": "IPY_MODEL_0ea38de225b441f68004d5635946a73e"
     }
    },
    "40fbb4d8f62145ac8709daa9bcd36b1d": {
     "model_module": "@jupyter-widgets/base",
     "model_name": "LayoutModel",
     "state": {
      "_model_module": "@jupyter-widgets/base",
      "_model_module_version": "1.2.0",
      "_model_name": "LayoutModel",
      "_view_count": null,
      "_view_module": "@jupyter-widgets/base",
      "_view_module_version": "1.2.0",
      "_view_name": "LayoutView",
      "align_content": null,
      "align_items": null,
      "align_self": null,
      "border": null,
      "bottom": null,
      "display": null,
      "flex": null,
      "flex_flow": null,
      "grid_area": null,
      "grid_auto_columns": null,
      "grid_auto_flow": null,
      "grid_auto_rows": null,
      "grid_column": null,
      "grid_gap": null,
      "grid_row": null,
      "grid_template_areas": null,
      "grid_template_columns": null,
      "grid_template_rows": null,
      "height": null,
      "justify_content": null,
      "justify_items": null,
      "left": null,
      "margin": null,
      "max_height": null,
      "max_width": null,
      "min_height": null,
      "min_width": null,
      "object_fit": null,
      "object_position": null,
      "order": null,
      "overflow": null,
      "overflow_x": null,
      "overflow_y": null,
      "padding": null,
      "right": null,
      "top": null,
      "visibility": null,
      "width": null
     }
    },
    "64d6798e451346589858b0734bcd9560": {
     "model_module": "@jupyter-widgets/controls",
     "model_name": "ButtonStyleModel",
     "state": {
      "_model_module": "@jupyter-widgets/controls",
      "_model_module_version": "1.5.0",
      "_model_name": "ButtonStyleModel",
      "_view_count": null,
      "_view_module": "@jupyter-widgets/base",
      "_view_module_version": "1.2.0",
      "_view_name": "StyleView",
      "button_color": null,
      "font_weight": ""
     }
    },
    "687df892e1b54e259228b449adda3637": {
     "model_module": "@jupyter-widgets/base",
     "model_name": "LayoutModel",
     "state": {
      "_model_module": "@jupyter-widgets/base",
      "_model_module_version": "1.2.0",
      "_model_name": "LayoutModel",
      "_view_count": null,
      "_view_module": "@jupyter-widgets/base",
      "_view_module_version": "1.2.0",
      "_view_name": "LayoutView",
      "align_content": null,
      "align_items": null,
      "align_self": null,
      "border": null,
      "bottom": null,
      "display": null,
      "flex": null,
      "flex_flow": null,
      "grid_area": null,
      "grid_auto_columns": null,
      "grid_auto_flow": null,
      "grid_auto_rows": null,
      "grid_column": null,
      "grid_gap": null,
      "grid_row": null,
      "grid_template_areas": null,
      "grid_template_columns": null,
      "grid_template_rows": null,
      "height": null,
      "justify_content": null,
      "justify_items": null,
      "left": null,
      "margin": null,
      "max_height": null,
      "max_width": null,
      "min_height": null,
      "min_width": null,
      "object_fit": null,
      "object_position": null,
      "order": null,
      "overflow": null,
      "overflow_x": null,
      "overflow_y": null,
      "padding": null,
      "right": null,
      "top": null,
      "visibility": null,
      "width": null
     }
    },
    "822dc0f4a078418ca24f77db6f89e75b": {
     "model_module": "@jupyter-widgets/base",
     "model_name": "LayoutModel",
     "state": {
      "_model_module": "@jupyter-widgets/base",
      "_model_module_version": "1.2.0",
      "_model_name": "LayoutModel",
      "_view_count": null,
      "_view_module": "@jupyter-widgets/base",
      "_view_module_version": "1.2.0",
      "_view_name": "LayoutView",
      "align_content": null,
      "align_items": null,
      "align_self": null,
      "border": null,
      "bottom": null,
      "display": null,
      "flex": null,
      "flex_flow": null,
      "grid_area": null,
      "grid_auto_columns": null,
      "grid_auto_flow": null,
      "grid_auto_rows": null,
      "grid_column": null,
      "grid_gap": null,
      "grid_row": null,
      "grid_template_areas": null,
      "grid_template_columns": null,
      "grid_template_rows": null,
      "height": null,
      "justify_content": null,
      "justify_items": null,
      "left": null,
      "margin": null,
      "max_height": null,
      "max_width": null,
      "min_height": null,
      "min_width": null,
      "object_fit": null,
      "object_position": null,
      "order": null,
      "overflow": null,
      "overflow_x": null,
      "overflow_y": null,
      "padding": null,
      "right": null,
      "top": null,
      "visibility": null,
      "width": null
     }
    },
    "89340e43cd6b42588ab1905106f8f910": {
     "model_module": "@jupyter-widgets/controls",
     "model_name": "SliderStyleModel",
     "state": {
      "_model_module": "@jupyter-widgets/controls",
      "_model_module_version": "1.5.0",
      "_model_name": "SliderStyleModel",
      "_view_count": null,
      "_view_module": "@jupyter-widgets/base",
      "_view_module_version": "1.2.0",
      "_view_name": "StyleView",
      "description_width": "",
      "handle_color": null
     }
    },
    "9011e1fc2c60456f985ad4c0370596f5": {
     "model_module": "@jupyter-widgets/base",
     "model_name": "LayoutModel",
     "state": {
      "_model_module": "@jupyter-widgets/base",
      "_model_module_version": "1.2.0",
      "_model_name": "LayoutModel",
      "_view_count": null,
      "_view_module": "@jupyter-widgets/base",
      "_view_module_version": "1.2.0",
      "_view_name": "LayoutView",
      "align_content": null,
      "align_items": null,
      "align_self": null,
      "border": null,
      "bottom": null,
      "display": null,
      "flex": null,
      "flex_flow": null,
      "grid_area": null,
      "grid_auto_columns": null,
      "grid_auto_flow": null,
      "grid_auto_rows": null,
      "grid_column": null,
      "grid_gap": null,
      "grid_row": null,
      "grid_template_areas": null,
      "grid_template_columns": null,
      "grid_template_rows": null,
      "height": null,
      "justify_content": null,
      "justify_items": null,
      "left": null,
      "margin": null,
      "max_height": null,
      "max_width": null,
      "min_height": null,
      "min_width": null,
      "object_fit": null,
      "object_position": null,
      "order": null,
      "overflow": null,
      "overflow_x": null,
      "overflow_y": null,
      "padding": null,
      "right": null,
      "top": null,
      "visibility": null,
      "width": null
     }
    },
    "95604a383ddf45b3834430bd1eaaa556": {
     "model_module": "@jupyter-widgets/base",
     "model_name": "LayoutModel",
     "state": {
      "_model_module": "@jupyter-widgets/base",
      "_model_module_version": "1.2.0",
      "_model_name": "LayoutModel",
      "_view_count": null,
      "_view_module": "@jupyter-widgets/base",
      "_view_module_version": "1.2.0",
      "_view_name": "LayoutView",
      "align_content": null,
      "align_items": null,
      "align_self": null,
      "border": null,
      "bottom": null,
      "display": null,
      "flex": null,
      "flex_flow": null,
      "grid_area": null,
      "grid_auto_columns": null,
      "grid_auto_flow": null,
      "grid_auto_rows": null,
      "grid_column": null,
      "grid_gap": null,
      "grid_row": null,
      "grid_template_areas": null,
      "grid_template_columns": null,
      "grid_template_rows": null,
      "height": null,
      "justify_content": null,
      "justify_items": null,
      "left": null,
      "margin": null,
      "max_height": null,
      "max_width": null,
      "min_height": null,
      "min_width": null,
      "object_fit": null,
      "object_position": null,
      "order": null,
      "overflow": null,
      "overflow_x": null,
      "overflow_y": null,
      "padding": null,
      "right": null,
      "top": null,
      "visibility": null,
      "width": null
     }
    },
    "a822b3dd0de64a639b93f339e1e2448e": {
     "model_module": "@jupyter-widgets/output",
     "model_name": "OutputModel",
     "state": {
      "_dom_classes": [],
      "_model_module": "@jupyter-widgets/output",
      "_model_module_version": "1.0.0",
      "_model_name": "OutputModel",
      "_view_count": null,
      "_view_module": "@jupyter-widgets/output",
      "_view_module_version": "1.0.0",
      "_view_name": "OutputView",
      "layout": "IPY_MODEL_822dc0f4a078418ca24f77db6f89e75b",
      "msg_id": "f1b08a6865f1478ac2c2bcbe7ed34fdc",
      "outputs": [
       {
        "image/png": "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\n",
        "metadata": {
         "needs_background": "light",
         "tags": []
        },
        "output_type": "display_data",
        "text/plain": "<Figure size 576x360 with 1 Axes>"
       }
      ]
     }
    },
    "ab0f879da5f2446dbdc7b22284ee5730": {
     "model_module": "@jupyter-widgets/base",
     "model_name": "LayoutModel",
     "state": {
      "_model_module": "@jupyter-widgets/base",
      "_model_module_version": "1.2.0",
      "_model_name": "LayoutModel",
      "_view_count": null,
      "_view_module": "@jupyter-widgets/base",
      "_view_module_version": "1.2.0",
      "_view_name": "LayoutView",
      "align_content": null,
      "align_items": null,
      "align_self": null,
      "border": null,
      "bottom": null,
      "display": null,
      "flex": null,
      "flex_flow": null,
      "grid_area": null,
      "grid_auto_columns": null,
      "grid_auto_flow": null,
      "grid_auto_rows": null,
      "grid_column": null,
      "grid_gap": null,
      "grid_row": null,
      "grid_template_areas": null,
      "grid_template_columns": null,
      "grid_template_rows": null,
      "height": null,
      "justify_content": null,
      "justify_items": null,
      "left": null,
      "margin": null,
      "max_height": null,
      "max_width": null,
      "min_height": null,
      "min_width": null,
      "object_fit": null,
      "object_position": null,
      "order": null,
      "overflow": null,
      "overflow_x": null,
      "overflow_y": null,
      "padding": null,
      "right": null,
      "top": null,
      "visibility": null,
      "width": null
     }
    },
    "ae95054d59c4437b9e4867c449d1804b": {
     "model_module": "@jupyter-widgets/base",
     "model_name": "LayoutModel",
     "state": {
      "_model_module": "@jupyter-widgets/base",
      "_model_module_version": "1.2.0",
      "_model_name": "LayoutModel",
      "_view_count": null,
      "_view_module": "@jupyter-widgets/base",
      "_view_module_version": "1.2.0",
      "_view_name": "LayoutView",
      "align_content": null,
      "align_items": null,
      "align_self": null,
      "border": null,
      "bottom": null,
      "display": null,
      "flex": null,
      "flex_flow": null,
      "grid_area": null,
      "grid_auto_columns": null,
      "grid_auto_flow": null,
      "grid_auto_rows": null,
      "grid_column": null,
      "grid_gap": null,
      "grid_row": null,
      "grid_template_areas": null,
      "grid_template_columns": null,
      "grid_template_rows": null,
      "height": null,
      "justify_content": null,
      "justify_items": null,
      "left": null,
      "margin": null,
      "max_height": null,
      "max_width": null,
      "min_height": null,
      "min_width": null,
      "object_fit": null,
      "object_position": null,
      "order": null,
      "overflow": null,
      "overflow_x": null,
      "overflow_y": null,
      "padding": null,
      "right": null,
      "top": null,
      "visibility": null,
      "width": null
     }
    },
    "c5b6fe7642a146dba1028e27805e4148": {
     "model_module": "@jupyter-widgets/controls",
     "model_name": "VBoxModel",
     "state": {
      "_dom_classes": [
       "widget-interact"
      ],
      "_model_module": "@jupyter-widgets/controls",
      "_model_module_version": "1.5.0",
      "_model_name": "VBoxModel",
      "_view_count": null,
      "_view_module": "@jupyter-widgets/controls",
      "_view_module_version": "1.5.0",
      "_view_name": "VBoxView",
      "box_style": "",
      "children": [
       "IPY_MODEL_cc1472f46a064f6295ee0fcb30d708c9",
       "IPY_MODEL_1dfee540fa5e432d80da9ebae3ffe0b4",
       "IPY_MODEL_e92569833b1d411e90f43a0fd570a38a"
      ],
      "layout": "IPY_MODEL_f7fb5fb2ec894fec9e77e1b2cecaf59b"
     }
    },
    "cc1472f46a064f6295ee0fcb30d708c9": {
     "model_module": "@jupyter-widgets/controls",
     "model_name": "FloatSliderModel",
     "state": {
      "_dom_classes": [],
      "_model_module": "@jupyter-widgets/controls",
      "_model_module_version": "1.5.0",
      "_model_name": "FloatSliderModel",
      "_view_count": null,
      "_view_module": "@jupyter-widgets/controls",
      "_view_module_version": "1.5.0",
      "_view_name": "FloatSliderView",
      "continuous_update": true,
      "description": "Fo",
      "description_tooltip": null,
      "disabled": false,
      "layout": "IPY_MODEL_ae95054d59c4437b9e4867c449d1804b",
      "max": 1,
      "min": 0,
      "orientation": "horizontal",
      "readout": true,
      "readout_format": ".2f",
      "step": 0.1,
      "style": "IPY_MODEL_89340e43cd6b42588ab1905106f8f910",
      "value": 0.2
     }
    },
    "cd19eb87c91642bca218fceb5593b015": {
     "model_module": "@jupyter-widgets/base",
     "model_name": "LayoutModel",
     "state": {
      "_model_module": "@jupyter-widgets/base",
      "_model_module_version": "1.2.0",
      "_model_name": "LayoutModel",
      "_view_count": null,
      "_view_module": "@jupyter-widgets/base",
      "_view_module_version": "1.2.0",
      "_view_name": "LayoutView",
      "align_content": null,
      "align_items": null,
      "align_self": null,
      "border": null,
      "bottom": null,
      "display": null,
      "flex": null,
      "flex_flow": null,
      "grid_area": null,
      "grid_auto_columns": null,
      "grid_auto_flow": null,
      "grid_auto_rows": null,
      "grid_column": null,
      "grid_gap": null,
      "grid_row": null,
      "grid_template_areas": null,
      "grid_template_columns": null,
      "grid_template_rows": null,
      "height": null,
      "justify_content": null,
      "justify_items": null,
      "left": null,
      "margin": null,
      "max_height": null,
      "max_width": null,
      "min_height": null,
      "min_width": null,
      "object_fit": null,
      "object_position": null,
      "order": null,
      "overflow": null,
      "overflow_x": null,
      "overflow_y": null,
      "padding": null,
      "right": null,
      "top": null,
      "visibility": null,
      "width": null
     }
    },
    "ce8500de10a545da9f9ee3e1b5c86668": {
     "model_module": "@jupyter-widgets/output",
     "model_name": "OutputModel",
     "state": {
      "_dom_classes": [],
      "_model_module": "@jupyter-widgets/output",
      "_model_module_version": "1.0.0",
      "_model_name": "OutputModel",
      "_view_count": null,
      "_view_module": "@jupyter-widgets/output",
      "_view_module_version": "1.0.0",
      "_view_name": "OutputView",
      "layout": "IPY_MODEL_db1c12ca31f44e32b896453d32005171",
      "msg_id": "",
      "outputs": [
       {
        "image/png": "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\n",
        "metadata": {
         "needs_background": "light",
         "tags": []
        },
        "output_type": "display_data",
        "text/plain": "<Figure size 576x360 with 1 Axes>"
       }
      ]
     }
    },
    "db1c12ca31f44e32b896453d32005171": {
     "model_module": "@jupyter-widgets/base",
     "model_name": "LayoutModel",
     "state": {
      "_model_module": "@jupyter-widgets/base",
      "_model_module_version": "1.2.0",
      "_model_name": "LayoutModel",
      "_view_count": null,
      "_view_module": "@jupyter-widgets/base",
      "_view_module_version": "1.2.0",
      "_view_name": "LayoutView",
      "align_content": null,
      "align_items": null,
      "align_self": null,
      "border": null,
      "bottom": null,
      "display": null,
      "flex": null,
      "flex_flow": null,
      "grid_area": null,
      "grid_auto_columns": null,
      "grid_auto_flow": null,
      "grid_auto_rows": null,
      "grid_column": null,
      "grid_gap": null,
      "grid_row": null,
      "grid_template_areas": null,
      "grid_template_columns": null,
      "grid_template_rows": null,
      "height": null,
      "justify_content": null,
      "justify_items": null,
      "left": null,
      "margin": null,
      "max_height": null,
      "max_width": null,
      "min_height": null,
      "min_width": null,
      "object_fit": null,
      "object_position": null,
      "order": null,
      "overflow": null,
      "overflow_x": null,
      "overflow_y": null,
      "padding": null,
      "right": null,
      "top": null,
      "visibility": null,
      "width": null
     }
    },
    "dd0e1031431f443e96deb9d8a262afe2": {
     "model_module": "@jupyter-widgets/base",
     "model_name": "LayoutModel",
     "state": {
      "_model_module": "@jupyter-widgets/base",
      "_model_module_version": "1.2.0",
      "_model_name": "LayoutModel",
      "_view_count": null,
      "_view_module": "@jupyter-widgets/base",
      "_view_module_version": "1.2.0",
      "_view_name": "LayoutView",
      "align_content": null,
      "align_items": null,
      "align_self": null,
      "border": null,
      "bottom": null,
      "display": null,
      "flex": null,
      "flex_flow": null,
      "grid_area": null,
      "grid_auto_columns": null,
      "grid_auto_flow": null,
      "grid_auto_rows": null,
      "grid_column": null,
      "grid_gap": null,
      "grid_row": null,
      "grid_template_areas": null,
      "grid_template_columns": null,
      "grid_template_rows": null,
      "height": null,
      "justify_content": null,
      "justify_items": null,
      "left": null,
      "margin": null,
      "max_height": null,
      "max_width": null,
      "min_height": null,
      "min_width": null,
      "object_fit": null,
      "object_position": null,
      "order": null,
      "overflow": null,
      "overflow_x": null,
      "overflow_y": null,
      "padding": null,
      "right": null,
      "top": null,
      "visibility": null,
      "width": null
     }
    },
    "e69bb7da17ca48398ed66c9ede16ffb4": {
     "model_module": "@jupyter-widgets/controls",
     "model_name": "VBoxModel",
     "state": {
      "_dom_classes": [
       "widget-interact"
      ],
      "_model_module": "@jupyter-widgets/controls",
      "_model_module_version": "1.5.0",
      "_model_name": "VBoxModel",
      "_view_count": null,
      "_view_module": "@jupyter-widgets/controls",
      "_view_module_version": "1.5.0",
      "_view_name": "VBoxView",
      "box_style": "",
      "children": [
       "IPY_MODEL_297be0228fc4472c9115af9fc03576e8",
       "IPY_MODEL_1009dae3c27e4c57beebd40288e19f22",
       "IPY_MODEL_ce8500de10a545da9f9ee3e1b5c86668"
      ],
      "layout": "IPY_MODEL_9011e1fc2c60456f985ad4c0370596f5"
     }
    },
    "e92569833b1d411e90f43a0fd570a38a": {
     "model_module": "@jupyter-widgets/output",
     "model_name": "OutputModel",
     "state": {
      "_dom_classes": [],
      "_model_module": "@jupyter-widgets/output",
      "_model_module_version": "1.0.0",
      "_model_name": "OutputModel",
      "_view_count": null,
      "_view_module": "@jupyter-widgets/output",
      "_view_module_version": "1.0.0",
      "_view_name": "OutputView",
      "layout": "IPY_MODEL_dd0e1031431f443e96deb9d8a262afe2",
      "msg_id": "",
      "outputs": []
     }
    },
    "ed6204af561f4f818b56c3057e8a4470": {
     "model_module": "@jupyter-widgets/controls",
     "model_name": "ButtonStyleModel",
     "state": {
      "_model_module": "@jupyter-widgets/controls",
      "_model_module_version": "1.5.0",
      "_model_name": "ButtonStyleModel",
      "_view_count": null,
      "_view_module": "@jupyter-widgets/base",
      "_view_module_version": "1.2.0",
      "_view_name": "StyleView",
      "button_color": null,
      "font_weight": ""
     }
    },
    "f75e7f976cc14e8b92e87515ccb6d68c": {
     "model_module": "@jupyter-widgets/controls",
     "model_name": "ButtonModel",
     "state": {
      "_dom_classes": [],
      "_model_module": "@jupyter-widgets/controls",
      "_model_module_version": "1.5.0",
      "_model_name": "ButtonModel",
      "_view_count": null,
      "_view_module": "@jupyter-widgets/controls",
      "_view_module_version": "1.5.0",
      "_view_name": "ButtonView",
      "button_style": "",
      "description": "Run Interact",
      "disabled": true,
      "icon": "",
      "layout": "IPY_MODEL_ab0f879da5f2446dbdc7b22284ee5730",
      "style": "IPY_MODEL_64d6798e451346589858b0734bcd9560",
      "tooltip": ""
     }
    },
    "f7fb5fb2ec894fec9e77e1b2cecaf59b": {
     "model_module": "@jupyter-widgets/base",
     "model_name": "LayoutModel",
     "state": {
      "_model_module": "@jupyter-widgets/base",
      "_model_module_version": "1.2.0",
      "_model_name": "LayoutModel",
      "_view_count": null,
      "_view_module": "@jupyter-widgets/base",
      "_view_module_version": "1.2.0",
      "_view_name": "LayoutView",
      "align_content": null,
      "align_items": null,
      "align_self": null,
      "border": null,
      "bottom": null,
      "display": null,
      "flex": null,
      "flex_flow": null,
      "grid_area": null,
      "grid_auto_columns": null,
      "grid_auto_flow": null,
      "grid_auto_rows": null,
      "grid_column": null,
      "grid_gap": null,
      "grid_row": null,
      "grid_template_areas": null,
      "grid_template_columns": null,
      "grid_template_rows": null,
      "height": null,
      "justify_content": null,
      "justify_items": null,
      "left": null,
      "margin": null,
      "max_height": null,
      "max_width": null,
      "min_height": null,
      "min_width": null,
      "object_fit": null,
      "object_position": null,
      "order": null,
      "overflow": null,
      "overflow_x": null,
      "overflow_y": null,
      "padding": null,
      "right": null,
      "top": null,
      "visibility": null,
      "width": null
     }
    }
   }
  }
 },
 "nbformat": 4,
 "nbformat_minor": 1
}
