{
  "nbformat": 4,
  "nbformat_minor": 0,
  "metadata": {
    "colab": {
      "name": "Untitled0.ipynb",
      "provenance": [],
      "include_colab_link": true
    },
    "kernelspec": {
      "display_name": "Python 3",
      "language": "python",
      "name": "python3"
    },
    "language_info": {
      "codemirror_mode": {
        "name": "ipython",
        "version": 3
      },
      "file_extension": ".py",
      "mimetype": "text/x-python",
      "name": "python",
      "nbconvert_exporter": "python",
      "pygments_lexer": "ipython3",
      "version": "3.6.9"
    },
    "widgets": {
      "application/vnd.jupyter.widget-state+json": {
        "087793049ae54d3a9508fb955f464473": {
          "model_module": "@jupyter-widgets/controls",
          "model_name": "VBoxModel",
          "state": {
            "_view_name": "VBoxView",
            "_dom_classes": [
              "widget-interact"
            ],
            "_model_name": "VBoxModel",
            "_view_module": "@jupyter-widgets/controls",
            "_model_module_version": "1.5.0",
            "_view_count": null,
            "_view_module_version": "1.5.0",
            "box_style": "",
            "layout": "IPY_MODEL_79ad8598744a42f788929e1b8ed676f3",
            "_model_module": "@jupyter-widgets/controls",
            "children": [
              "IPY_MODEL_e5e4097c7e21404587e14f52e54bac18",
              "IPY_MODEL_556f329363bd4e8aaa5c1f35cee7e48c",
              "IPY_MODEL_8b11b0154edc47c1a190891ca4c6d325"
            ]
          }
        },
        "79ad8598744a42f788929e1b8ed676f3": {
          "model_module": "@jupyter-widgets/base",
          "model_name": "LayoutModel",
          "state": {
            "_view_name": "LayoutView",
            "grid_template_rows": null,
            "right": null,
            "justify_content": null,
            "_view_module": "@jupyter-widgets/base",
            "overflow": null,
            "_model_module_version": "1.2.0",
            "_view_count": null,
            "flex_flow": null,
            "width": null,
            "min_width": null,
            "border": null,
            "align_items": null,
            "bottom": null,
            "_model_module": "@jupyter-widgets/base",
            "top": null,
            "grid_column": null,
            "overflow_y": null,
            "overflow_x": null,
            "grid_auto_flow": null,
            "grid_area": null,
            "grid_template_columns": null,
            "flex": null,
            "_model_name": "LayoutModel",
            "justify_items": null,
            "grid_row": null,
            "max_height": null,
            "align_content": null,
            "visibility": null,
            "align_self": null,
            "height": null,
            "min_height": null,
            "padding": null,
            "grid_auto_rows": null,
            "grid_gap": null,
            "max_width": null,
            "order": null,
            "_view_module_version": "1.2.0",
            "grid_template_areas": null,
            "object_position": null,
            "object_fit": null,
            "grid_auto_columns": null,
            "margin": null,
            "display": null,
            "left": null
          }
        },
        "e5e4097c7e21404587e14f52e54bac18": {
          "model_module": "@jupyter-widgets/controls",
          "model_name": "FloatSliderModel",
          "state": {
            "_view_name": "FloatSliderView",
            "style": "IPY_MODEL_f0d0f79187f94c558e00ea991d3ce203",
            "_dom_classes": [],
            "description": "dt",
            "step": 0.1,
            "_model_name": "FloatSliderModel",
            "orientation": "horizontal",
            "max": 2,
            "_view_module": "@jupyter-widgets/controls",
            "_model_module_version": "1.5.0",
            "value": 1.2,
            "_view_count": null,
            "disabled": false,
            "_view_module_version": "1.5.0",
            "min": 0,
            "continuous_update": true,
            "readout_format": ".2f",
            "description_tooltip": null,
            "readout": true,
            "_model_module": "@jupyter-widgets/controls",
            "layout": "IPY_MODEL_3dc6a531c0e24ba284ce6d16f1b0f778"
          }
        },
        "556f329363bd4e8aaa5c1f35cee7e48c": {
          "model_module": "@jupyter-widgets/controls",
          "model_name": "ButtonModel",
          "state": {
            "_view_name": "ButtonView",
            "style": "IPY_MODEL_bb7f19aac10c405da3d6a39d198e9699",
            "_dom_classes": [],
            "description": "Run Interact",
            "_model_name": "ButtonModel",
            "button_style": "",
            "_view_module": "@jupyter-widgets/controls",
            "_model_module_version": "1.5.0",
            "tooltip": "",
            "_view_count": null,
            "disabled": false,
            "_view_module_version": "1.5.0",
            "layout": "IPY_MODEL_5352f1aff2314e6d9f2a3784f5188474",
            "_model_module": "@jupyter-widgets/controls",
            "icon": ""
          }
        },
        "8b11b0154edc47c1a190891ca4c6d325": {
          "model_module": "@jupyter-widgets/output",
          "model_name": "OutputModel",
          "state": {
            "_view_name": "OutputView",
            "msg_id": "",
            "_dom_classes": [],
            "_model_name": "OutputModel",
            "outputs": [
              {
                "output_type": "display_data",
                "metadata": {
                  "tags": [],
                  "needs_background": "light"
                },
                "image/png": "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\n",
                "text/plain": "<Figure size 576x360 with 1 Axes>"
              }
            ],
            "_view_module": "@jupyter-widgets/output",
            "_model_module_version": "1.0.0",
            "_view_count": null,
            "_view_module_version": "1.0.0",
            "layout": "IPY_MODEL_66fa9e1f4680486e840e6c5710f10aea",
            "_model_module": "@jupyter-widgets/output"
          }
        },
        "f0d0f79187f94c558e00ea991d3ce203": {
          "model_module": "@jupyter-widgets/controls",
          "model_name": "SliderStyleModel",
          "state": {
            "_view_name": "StyleView",
            "handle_color": null,
            "_model_name": "SliderStyleModel",
            "description_width": "",
            "_view_module": "@jupyter-widgets/base",
            "_model_module_version": "1.5.0",
            "_view_count": null,
            "_view_module_version": "1.2.0",
            "_model_module": "@jupyter-widgets/controls"
          }
        },
        "3dc6a531c0e24ba284ce6d16f1b0f778": {
          "model_module": "@jupyter-widgets/base",
          "model_name": "LayoutModel",
          "state": {
            "_view_name": "LayoutView",
            "grid_template_rows": null,
            "right": null,
            "justify_content": null,
            "_view_module": "@jupyter-widgets/base",
            "overflow": null,
            "_model_module_version": "1.2.0",
            "_view_count": null,
            "flex_flow": null,
            "width": null,
            "min_width": null,
            "border": null,
            "align_items": null,
            "bottom": null,
            "_model_module": "@jupyter-widgets/base",
            "top": null,
            "grid_column": null,
            "overflow_y": null,
            "overflow_x": null,
            "grid_auto_flow": null,
            "grid_area": null,
            "grid_template_columns": null,
            "flex": null,
            "_model_name": "LayoutModel",
            "justify_items": null,
            "grid_row": null,
            "max_height": null,
            "align_content": null,
            "visibility": null,
            "align_self": null,
            "height": null,
            "min_height": null,
            "padding": null,
            "grid_auto_rows": null,
            "grid_gap": null,
            "max_width": null,
            "order": null,
            "_view_module_version": "1.2.0",
            "grid_template_areas": null,
            "object_position": null,
            "object_fit": null,
            "grid_auto_columns": null,
            "margin": null,
            "display": null,
            "left": null
          }
        },
        "bb7f19aac10c405da3d6a39d198e9699": {
          "model_module": "@jupyter-widgets/controls",
          "model_name": "ButtonStyleModel",
          "state": {
            "_view_name": "StyleView",
            "_model_name": "ButtonStyleModel",
            "_view_module": "@jupyter-widgets/base",
            "_model_module_version": "1.5.0",
            "_view_count": null,
            "button_color": null,
            "font_weight": "",
            "_view_module_version": "1.2.0",
            "_model_module": "@jupyter-widgets/controls"
          }
        },
        "5352f1aff2314e6d9f2a3784f5188474": {
          "model_module": "@jupyter-widgets/base",
          "model_name": "LayoutModel",
          "state": {
            "_view_name": "LayoutView",
            "grid_template_rows": null,
            "right": null,
            "justify_content": null,
            "_view_module": "@jupyter-widgets/base",
            "overflow": null,
            "_model_module_version": "1.2.0",
            "_view_count": null,
            "flex_flow": null,
            "width": null,
            "min_width": null,
            "border": null,
            "align_items": null,
            "bottom": null,
            "_model_module": "@jupyter-widgets/base",
            "top": null,
            "grid_column": null,
            "overflow_y": null,
            "overflow_x": null,
            "grid_auto_flow": null,
            "grid_area": null,
            "grid_template_columns": null,
            "flex": null,
            "_model_name": "LayoutModel",
            "justify_items": null,
            "grid_row": null,
            "max_height": null,
            "align_content": null,
            "visibility": null,
            "align_self": null,
            "height": null,
            "min_height": null,
            "padding": null,
            "grid_auto_rows": null,
            "grid_gap": null,
            "max_width": null,
            "order": null,
            "_view_module_version": "1.2.0",
            "grid_template_areas": null,
            "object_position": null,
            "object_fit": null,
            "grid_auto_columns": null,
            "margin": null,
            "display": null,
            "left": null
          }
        },
        "66fa9e1f4680486e840e6c5710f10aea": {
          "model_module": "@jupyter-widgets/base",
          "model_name": "LayoutModel",
          "state": {
            "_view_name": "LayoutView",
            "grid_template_rows": null,
            "right": null,
            "justify_content": null,
            "_view_module": "@jupyter-widgets/base",
            "overflow": null,
            "_model_module_version": "1.2.0",
            "_view_count": null,
            "flex_flow": null,
            "width": null,
            "min_width": null,
            "border": null,
            "align_items": null,
            "bottom": null,
            "_model_module": "@jupyter-widgets/base",
            "top": null,
            "grid_column": null,
            "overflow_y": null,
            "overflow_x": null,
            "grid_auto_flow": null,
            "grid_area": null,
            "grid_template_columns": null,
            "flex": null,
            "_model_name": "LayoutModel",
            "justify_items": null,
            "grid_row": null,
            "max_height": null,
            "align_content": null,
            "visibility": null,
            "align_self": null,
            "height": null,
            "min_height": null,
            "padding": null,
            "grid_auto_rows": null,
            "grid_gap": null,
            "max_width": null,
            "order": null,
            "_view_module_version": "1.2.0",
            "grid_template_areas": null,
            "object_position": null,
            "object_fit": null,
            "grid_auto_columns": null,
            "margin": null,
            "display": null,
            "left": null
          }
        },
        "ce6d784d6d574ce0b2ea35b6ce60c17a": {
          "model_module": "@jupyter-widgets/controls",
          "model_name": "VBoxModel",
          "state": {
            "_view_name": "VBoxView",
            "_dom_classes": [
              "widget-interact"
            ],
            "_model_name": "VBoxModel",
            "_view_module": "@jupyter-widgets/controls",
            "_model_module_version": "1.5.0",
            "_view_count": null,
            "_view_module_version": "1.5.0",
            "box_style": "",
            "layout": "IPY_MODEL_f0ca35f2f22b472fbed211bdb3a4c7a2",
            "_model_module": "@jupyter-widgets/controls",
            "children": [
              "IPY_MODEL_e5032c8de37e44ee982157263e12e766",
              "IPY_MODEL_e901b2c69d3843049754cb628b044c82",
              "IPY_MODEL_d7046b21cf754b1987fa1009a0cdd6ca"
            ]
          }
        },
        "f0ca35f2f22b472fbed211bdb3a4c7a2": {
          "model_module": "@jupyter-widgets/base",
          "model_name": "LayoutModel",
          "state": {
            "_view_name": "LayoutView",
            "grid_template_rows": null,
            "right": null,
            "justify_content": null,
            "_view_module": "@jupyter-widgets/base",
            "overflow": null,
            "_model_module_version": "1.2.0",
            "_view_count": null,
            "flex_flow": null,
            "width": null,
            "min_width": null,
            "border": null,
            "align_items": null,
            "bottom": null,
            "_model_module": "@jupyter-widgets/base",
            "top": null,
            "grid_column": null,
            "overflow_y": null,
            "overflow_x": null,
            "grid_auto_flow": null,
            "grid_area": null,
            "grid_template_columns": null,
            "flex": null,
            "_model_name": "LayoutModel",
            "justify_items": null,
            "grid_row": null,
            "max_height": null,
            "align_content": null,
            "visibility": null,
            "align_self": null,
            "height": null,
            "min_height": null,
            "padding": null,
            "grid_auto_rows": null,
            "grid_gap": null,
            "max_width": null,
            "order": null,
            "_view_module_version": "1.2.0",
            "grid_template_areas": null,
            "object_position": null,
            "object_fit": null,
            "grid_auto_columns": null,
            "margin": null,
            "display": null,
            "left": null
          }
        },
        "e5032c8de37e44ee982157263e12e766": {
          "model_module": "@jupyter-widgets/controls",
          "model_name": "FloatSliderModel",
          "state": {
            "_view_name": "FloatSliderView",
            "style": "IPY_MODEL_c51d1fb5e766422083f9c4571a9283f0",
            "_dom_classes": [],
            "description": "dt",
            "step": 0.1,
            "_model_name": "FloatSliderModel",
            "orientation": "horizontal",
            "max": 3,
            "_view_module": "@jupyter-widgets/controls",
            "_model_module_version": "1.5.0",
            "value": 1.5,
            "_view_count": null,
            "disabled": false,
            "_view_module_version": "1.5.0",
            "min": 0,
            "continuous_update": true,
            "readout_format": ".2f",
            "description_tooltip": null,
            "readout": true,
            "_model_module": "@jupyter-widgets/controls",
            "layout": "IPY_MODEL_0c38e81a9bce45f69c0616bf1150d998"
          }
        },
        "e901b2c69d3843049754cb628b044c82": {
          "model_module": "@jupyter-widgets/controls",
          "model_name": "ButtonModel",
          "state": {
            "_view_name": "ButtonView",
            "style": "IPY_MODEL_a9b0f97696f94600b0757975c0b7fcc4",
            "_dom_classes": [],
            "description": "Run Interact",
            "_model_name": "ButtonModel",
            "button_style": "",
            "_view_module": "@jupyter-widgets/controls",
            "_model_module_version": "1.5.0",
            "tooltip": "",
            "_view_count": null,
            "disabled": false,
            "_view_module_version": "1.5.0",
            "layout": "IPY_MODEL_769a03b5184d40348e82f64ab7e5cde5",
            "_model_module": "@jupyter-widgets/controls",
            "icon": ""
          }
        },
        "d7046b21cf754b1987fa1009a0cdd6ca": {
          "model_module": "@jupyter-widgets/output",
          "model_name": "OutputModel",
          "state": {
            "_view_name": "OutputView",
            "msg_id": "",
            "_dom_classes": [],
            "_model_name": "OutputModel",
            "outputs": [],
            "_view_module": "@jupyter-widgets/output",
            "_model_module_version": "1.0.0",
            "_view_count": null,
            "_view_module_version": "1.0.0",
            "layout": "IPY_MODEL_1667b6a78b5a45359702acb15d6bdc9c",
            "_model_module": "@jupyter-widgets/output"
          }
        },
        "c51d1fb5e766422083f9c4571a9283f0": {
          "model_module": "@jupyter-widgets/controls",
          "model_name": "SliderStyleModel",
          "state": {
            "_view_name": "StyleView",
            "handle_color": null,
            "_model_name": "SliderStyleModel",
            "description_width": "",
            "_view_module": "@jupyter-widgets/base",
            "_model_module_version": "1.5.0",
            "_view_count": null,
            "_view_module_version": "1.2.0",
            "_model_module": "@jupyter-widgets/controls"
          }
        },
        "0c38e81a9bce45f69c0616bf1150d998": {
          "model_module": "@jupyter-widgets/base",
          "model_name": "LayoutModel",
          "state": {
            "_view_name": "LayoutView",
            "grid_template_rows": null,
            "right": null,
            "justify_content": null,
            "_view_module": "@jupyter-widgets/base",
            "overflow": null,
            "_model_module_version": "1.2.0",
            "_view_count": null,
            "flex_flow": null,
            "width": null,
            "min_width": null,
            "border": null,
            "align_items": null,
            "bottom": null,
            "_model_module": "@jupyter-widgets/base",
            "top": null,
            "grid_column": null,
            "overflow_y": null,
            "overflow_x": null,
            "grid_auto_flow": null,
            "grid_area": null,
            "grid_template_columns": null,
            "flex": null,
            "_model_name": "LayoutModel",
            "justify_items": null,
            "grid_row": null,
            "max_height": null,
            "align_content": null,
            "visibility": null,
            "align_self": null,
            "height": null,
            "min_height": null,
            "padding": null,
            "grid_auto_rows": null,
            "grid_gap": null,
            "max_width": null,
            "order": null,
            "_view_module_version": "1.2.0",
            "grid_template_areas": null,
            "object_position": null,
            "object_fit": null,
            "grid_auto_columns": null,
            "margin": null,
            "display": null,
            "left": null
          }
        },
        "a9b0f97696f94600b0757975c0b7fcc4": {
          "model_module": "@jupyter-widgets/controls",
          "model_name": "ButtonStyleModel",
          "state": {
            "_view_name": "StyleView",
            "_model_name": "ButtonStyleModel",
            "_view_module": "@jupyter-widgets/base",
            "_model_module_version": "1.5.0",
            "_view_count": null,
            "button_color": null,
            "font_weight": "",
            "_view_module_version": "1.2.0",
            "_model_module": "@jupyter-widgets/controls"
          }
        },
        "769a03b5184d40348e82f64ab7e5cde5": {
          "model_module": "@jupyter-widgets/base",
          "model_name": "LayoutModel",
          "state": {
            "_view_name": "LayoutView",
            "grid_template_rows": null,
            "right": null,
            "justify_content": null,
            "_view_module": "@jupyter-widgets/base",
            "overflow": null,
            "_model_module_version": "1.2.0",
            "_view_count": null,
            "flex_flow": null,
            "width": null,
            "min_width": null,
            "border": null,
            "align_items": null,
            "bottom": null,
            "_model_module": "@jupyter-widgets/base",
            "top": null,
            "grid_column": null,
            "overflow_y": null,
            "overflow_x": null,
            "grid_auto_flow": null,
            "grid_area": null,
            "grid_template_columns": null,
            "flex": null,
            "_model_name": "LayoutModel",
            "justify_items": null,
            "grid_row": null,
            "max_height": null,
            "align_content": null,
            "visibility": null,
            "align_self": null,
            "height": null,
            "min_height": null,
            "padding": null,
            "grid_auto_rows": null,
            "grid_gap": null,
            "max_width": null,
            "order": null,
            "_view_module_version": "1.2.0",
            "grid_template_areas": null,
            "object_position": null,
            "object_fit": null,
            "grid_auto_columns": null,
            "margin": null,
            "display": null,
            "left": null
          }
        },
        "1667b6a78b5a45359702acb15d6bdc9c": {
          "model_module": "@jupyter-widgets/base",
          "model_name": "LayoutModel",
          "state": {
            "_view_name": "LayoutView",
            "grid_template_rows": null,
            "right": null,
            "justify_content": null,
            "_view_module": "@jupyter-widgets/base",
            "overflow": null,
            "_model_module_version": "1.2.0",
            "_view_count": null,
            "flex_flow": null,
            "width": null,
            "min_width": null,
            "border": null,
            "align_items": null,
            "bottom": null,
            "_model_module": "@jupyter-widgets/base",
            "top": null,
            "grid_column": null,
            "overflow_y": null,
            "overflow_x": null,
            "grid_auto_flow": null,
            "grid_area": null,
            "grid_template_columns": null,
            "flex": null,
            "_model_name": "LayoutModel",
            "justify_items": null,
            "grid_row": null,
            "max_height": null,
            "align_content": null,
            "visibility": null,
            "align_self": null,
            "height": null,
            "min_height": null,
            "padding": null,
            "grid_auto_rows": null,
            "grid_gap": null,
            "max_width": null,
            "order": null,
            "_view_module_version": "1.2.0",
            "grid_template_areas": null,
            "object_position": null,
            "object_fit": null,
            "grid_auto_columns": null,
            "margin": null,
            "display": null,
            "left": null
          }
        },
        "56121f18ca594469ae1de6c0bcf724e3": {
          "model_module": "@jupyter-widgets/controls",
          "model_name": "VBoxModel",
          "state": {
            "_view_name": "VBoxView",
            "_dom_classes": [
              "widget-interact"
            ],
            "_model_name": "VBoxModel",
            "_view_module": "@jupyter-widgets/controls",
            "_model_module_version": "1.5.0",
            "_view_count": null,
            "_view_module_version": "1.5.0",
            "box_style": "",
            "layout": "IPY_MODEL_4c80fd0a82f94c4c98a80cb507139a9c",
            "_model_module": "@jupyter-widgets/controls",
            "children": [
              "IPY_MODEL_bc7b02bed3a7414282a929f20567b904",
              "IPY_MODEL_85d412cf80b343f78337706c2185be9d",
              "IPY_MODEL_b39caf64893d4a8484c9a198574d3e94"
            ]
          }
        },
        "4c80fd0a82f94c4c98a80cb507139a9c": {
          "model_module": "@jupyter-widgets/base",
          "model_name": "LayoutModel",
          "state": {
            "_view_name": "LayoutView",
            "grid_template_rows": null,
            "right": null,
            "justify_content": null,
            "_view_module": "@jupyter-widgets/base",
            "overflow": null,
            "_model_module_version": "1.2.0",
            "_view_count": null,
            "flex_flow": null,
            "width": null,
            "min_width": null,
            "border": null,
            "align_items": null,
            "bottom": null,
            "_model_module": "@jupyter-widgets/base",
            "top": null,
            "grid_column": null,
            "overflow_y": null,
            "overflow_x": null,
            "grid_auto_flow": null,
            "grid_area": null,
            "grid_template_columns": null,
            "flex": null,
            "_model_name": "LayoutModel",
            "justify_items": null,
            "grid_row": null,
            "max_height": null,
            "align_content": null,
            "visibility": null,
            "align_self": null,
            "height": null,
            "min_height": null,
            "padding": null,
            "grid_auto_rows": null,
            "grid_gap": null,
            "max_width": null,
            "order": null,
            "_view_module_version": "1.2.0",
            "grid_template_areas": null,
            "object_position": null,
            "object_fit": null,
            "grid_auto_columns": null,
            "margin": null,
            "display": null,
            "left": null
          }
        },
        "bc7b02bed3a7414282a929f20567b904": {
          "model_module": "@jupyter-widgets/controls",
          "model_name": "FloatSliderModel",
          "state": {
            "_view_name": "FloatSliderView",
            "style": "IPY_MODEL_9bb7502ccd6445c4b36a4c41410784a8",
            "_dom_classes": [],
            "description": "dt",
            "step": 1,
            "_model_name": "FloatSliderModel",
            "orientation": "horizontal",
            "max": 200,
            "_view_module": "@jupyter-widgets/controls",
            "_model_module_version": "1.5.0",
            "value": 163,
            "_view_count": null,
            "disabled": false,
            "_view_module_version": "1.5.0",
            "min": 0,
            "continuous_update": true,
            "readout_format": ".2f",
            "description_tooltip": null,
            "readout": true,
            "_model_module": "@jupyter-widgets/controls",
            "layout": "IPY_MODEL_4a11d85ba3bd433781f6eb80cac3d5e0"
          }
        },
        "85d412cf80b343f78337706c2185be9d": {
          "model_module": "@jupyter-widgets/controls",
          "model_name": "ButtonModel",
          "state": {
            "_view_name": "ButtonView",
            "style": "IPY_MODEL_c229ffc3cc824ec9bd7665e9d3132b7d",
            "_dom_classes": [],
            "description": "Run Interact",
            "_model_name": "ButtonModel",
            "button_style": "",
            "_view_module": "@jupyter-widgets/controls",
            "_model_module_version": "1.5.0",
            "tooltip": "",
            "_view_count": null,
            "disabled": false,
            "_view_module_version": "1.5.0",
            "layout": "IPY_MODEL_028b65d005f24179b0b422a70890f650",
            "_model_module": "@jupyter-widgets/controls",
            "icon": ""
          }
        },
        "b39caf64893d4a8484c9a198574d3e94": {
          "model_module": "@jupyter-widgets/output",
          "model_name": "OutputModel",
          "state": {
            "_view_name": "OutputView",
            "msg_id": "",
            "_dom_classes": [],
            "_model_name": "OutputModel",
            "outputs": [
              {
                "output_type": "display_data",
                "metadata": {
                  "tags": [],
                  "needs_background": "light"
                },
                "image/png": "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\n",
                "text/plain": "<Figure size 576x360 with 1 Axes>"
              }
            ],
            "_view_module": "@jupyter-widgets/output",
            "_model_module_version": "1.0.0",
            "_view_count": null,
            "_view_module_version": "1.0.0",
            "layout": "IPY_MODEL_5e0d37df912f434881546b8d0491b7fb",
            "_model_module": "@jupyter-widgets/output"
          }
        },
        "9bb7502ccd6445c4b36a4c41410784a8": {
          "model_module": "@jupyter-widgets/controls",
          "model_name": "SliderStyleModel",
          "state": {
            "_view_name": "StyleView",
            "handle_color": null,
            "_model_name": "SliderStyleModel",
            "description_width": "",
            "_view_module": "@jupyter-widgets/base",
            "_model_module_version": "1.5.0",
            "_view_count": null,
            "_view_module_version": "1.2.0",
            "_model_module": "@jupyter-widgets/controls"
          }
        },
        "4a11d85ba3bd433781f6eb80cac3d5e0": {
          "model_module": "@jupyter-widgets/base",
          "model_name": "LayoutModel",
          "state": {
            "_view_name": "LayoutView",
            "grid_template_rows": null,
            "right": null,
            "justify_content": null,
            "_view_module": "@jupyter-widgets/base",
            "overflow": null,
            "_model_module_version": "1.2.0",
            "_view_count": null,
            "flex_flow": null,
            "width": null,
            "min_width": null,
            "border": null,
            "align_items": null,
            "bottom": null,
            "_model_module": "@jupyter-widgets/base",
            "top": null,
            "grid_column": null,
            "overflow_y": null,
            "overflow_x": null,
            "grid_auto_flow": null,
            "grid_area": null,
            "grid_template_columns": null,
            "flex": null,
            "_model_name": "LayoutModel",
            "justify_items": null,
            "grid_row": null,
            "max_height": null,
            "align_content": null,
            "visibility": null,
            "align_self": null,
            "height": null,
            "min_height": null,
            "padding": null,
            "grid_auto_rows": null,
            "grid_gap": null,
            "max_width": null,
            "order": null,
            "_view_module_version": "1.2.0",
            "grid_template_areas": null,
            "object_position": null,
            "object_fit": null,
            "grid_auto_columns": null,
            "margin": null,
            "display": null,
            "left": null
          }
        },
        "c229ffc3cc824ec9bd7665e9d3132b7d": {
          "model_module": "@jupyter-widgets/controls",
          "model_name": "ButtonStyleModel",
          "state": {
            "_view_name": "StyleView",
            "_model_name": "ButtonStyleModel",
            "_view_module": "@jupyter-widgets/base",
            "_model_module_version": "1.5.0",
            "_view_count": null,
            "button_color": null,
            "font_weight": "",
            "_view_module_version": "1.2.0",
            "_model_module": "@jupyter-widgets/controls"
          }
        },
        "028b65d005f24179b0b422a70890f650": {
          "model_module": "@jupyter-widgets/base",
          "model_name": "LayoutModel",
          "state": {
            "_view_name": "LayoutView",
            "grid_template_rows": null,
            "right": null,
            "justify_content": null,
            "_view_module": "@jupyter-widgets/base",
            "overflow": null,
            "_model_module_version": "1.2.0",
            "_view_count": null,
            "flex_flow": null,
            "width": null,
            "min_width": null,
            "border": null,
            "align_items": null,
            "bottom": null,
            "_model_module": "@jupyter-widgets/base",
            "top": null,
            "grid_column": null,
            "overflow_y": null,
            "overflow_x": null,
            "grid_auto_flow": null,
            "grid_area": null,
            "grid_template_columns": null,
            "flex": null,
            "_model_name": "LayoutModel",
            "justify_items": null,
            "grid_row": null,
            "max_height": null,
            "align_content": null,
            "visibility": null,
            "align_self": null,
            "height": null,
            "min_height": null,
            "padding": null,
            "grid_auto_rows": null,
            "grid_gap": null,
            "max_width": null,
            "order": null,
            "_view_module_version": "1.2.0",
            "grid_template_areas": null,
            "object_position": null,
            "object_fit": null,
            "grid_auto_columns": null,
            "margin": null,
            "display": null,
            "left": null
          }
        },
        "5e0d37df912f434881546b8d0491b7fb": {
          "model_module": "@jupyter-widgets/base",
          "model_name": "LayoutModel",
          "state": {
            "_view_name": "LayoutView",
            "grid_template_rows": null,
            "right": null,
            "justify_content": null,
            "_view_module": "@jupyter-widgets/base",
            "overflow": null,
            "_model_module_version": "1.2.0",
            "_view_count": null,
            "flex_flow": null,
            "width": null,
            "min_width": null,
            "border": null,
            "align_items": null,
            "bottom": null,
            "_model_module": "@jupyter-widgets/base",
            "top": null,
            "grid_column": null,
            "overflow_y": null,
            "overflow_x": null,
            "grid_auto_flow": null,
            "grid_area": null,
            "grid_template_columns": null,
            "flex": null,
            "_model_name": "LayoutModel",
            "justify_items": null,
            "grid_row": null,
            "max_height": null,
            "align_content": null,
            "visibility": null,
            "align_self": null,
            "height": null,
            "min_height": null,
            "padding": null,
            "grid_auto_rows": null,
            "grid_gap": null,
            "max_width": null,
            "order": null,
            "_view_module_version": "1.2.0",
            "grid_template_areas": null,
            "object_position": null,
            "object_fit": null,
            "grid_auto_columns": null,
            "margin": null,
            "display": null,
            "left": null
          }
        }
      }
    }
  },
  "cells": [
    {
      "cell_type": "markdown",
      "metadata": {
        "id": "view-in-github",
        "colab_type": "text"
      },
      "source": [
        "<a href=\"https://colab.research.google.com/github/eddes/buildingphysics/blob/feature%2Fpipenv_and_notebooks/notebooks/chapter_1/Euler_and_CN_schemes.ipynb\" target=\"_parent\"><img src=\"https://colab.research.google.com/assets/colab-badge.svg\" alt=\"Open In Colab\"/></a>"
      ]
    },
    {
      "cell_type": "markdown",
      "metadata": {
        "colab_type": "text",
        "id": "WU1953pjtoy7"
      },
      "source": [
        "# **Stability for Euler’s explicit and  Crank-Nicolson’ schemes**\n",
        "## Building Physics - Applications in python - Chapter 1\n",
        "\n",
        "The notebook present examples of numerical integration methods for partial differential equations. The objective here is to integrate a 1D heat equation \n",
        "$ \\frac{\\partial T}{\\partial t}\n",
        "   = \\alpha \\frac{\\partial^2 T}{\\partial x^2} $. The media will be considered homogeneous.\n",
        "  \n",
        "  "
      ]
    },
    {
      "cell_type": "code",
      "metadata": {
        "colab_type": "code",
        "id": "hyIs2ktQuPk1",
        "colab": {}
      },
      "source": [
        "# Importing dependencies for calculus and plots\n",
        "import numpy as np\n",
        "import matplotlib.pyplot as plt\n",
        "from  scipy.optimize import fsolve\n",
        "\n",
        "# Widget to create interactive graphs\n",
        "from ipywidgets import  interact_manual\n",
        "import ipywidgets as widgets\n",
        "# Fixing figures plot size\n",
        "from pylab import rcParams\n",
        "rcParams['figure.figsize'] = 8, 5"
      ],
      "execution_count": 0,
      "outputs": []
    },
    {
      "cell_type": "markdown",
      "metadata": {
        "colab_type": "text",
        "id": "K6C2DEReviTU"
      },
      "source": [
        "### Euler explicit scheme - vector\n",
        "**Book reference page 11** \n",
        "\n",
        "We define `n` as the amount of nodes we split the media into, `T` an array of size `n`, representing the temperature for each node at time `t`, `T_plus` an array of size `n`, representing the temperature for each node at time `t + dt`.\n",
        "\n",
        "`L` is the length of the media (supposed of dimension 1 here). `dt` is the elementary time step of the simulation (s), for a total simulation time of `sim_time` (s)\n",
        "\n",
        "We introduce Fourier’s non-dimensional number Fo = $ \\alpha \\frac{ \\Delta T}{\\Delta x^2} $\n",
        " the ratio of conduction heat transfer to thermal storage in the material slice.\n",
        "\n",
        "By default in this example, the media starts with a homogenous temperature of 0°C. At the start of the simulation, the left border of the media is set to 10°C as a boundary condition.\n"
      ]
    },
    {
      "cell_type": "markdown",
      "metadata": {
        "id": "NZ1Ll3OgDYNF",
        "colab_type": "text"
      },
      "source": [
        "Let's define some variables"
      ]
    },
    {
      "cell_type": "code",
      "metadata": {
        "colab_type": "code",
        "id": "lKMSOvOlvfyb",
        "colab": {}
      },
      "source": [
        "# The media is discretized in a 1D mesh of n units \n",
        "n=100\n",
        "\n",
        "# Initializing array storing temperature values for T + dt\n",
        "T_plus=np.zeros(n)\n",
        "# Initializing storing temperatures values for T\n",
        "T=np.zeros(n)\n",
        "\n",
        "# Time variable (s)\n",
        "t=0\n",
        "#Duration of the simulation (s)\n",
        "sim_time=600\n",
        "# Time step of the simulation\n",
        "dt=1\n",
        "\n",
        "# The length of the media\n",
        "L=0.1 # m\n",
        "# thermal diffusivity coefficient\n",
        "alpha=1e-7 #m2/s\n",
        "\n",
        "# The length of space unit\n",
        "dx=L/n # \n"
      ],
      "execution_count": 0,
      "outputs": []
    },
    {
      "cell_type": "markdown",
      "metadata": {
        "id": "Ethaz0SCDYNg",
        "colab_type": "text"
      },
      "source": [
        "The Fourier coefficient is defined as"
      ]
    },
    {
      "cell_type": "code",
      "metadata": {
        "id": "cvuTzM6qDYNj",
        "colab_type": "code",
        "colab": {}
      },
      "source": [
        "Fo=alpha*dt/dx**2"
      ],
      "execution_count": 0,
      "outputs": []
    },
    {
      "cell_type": "markdown",
      "metadata": {
        "colab_type": "text",
        "id": "dlx0N5iO0kcl"
      },
      "source": [
        "As per 2.1 in the book, the heat equation can be transformed as (1.12) :\n",
        "\n",
        "$ {T_{i}}^+ = T_i (1-2 F_0)+ F_0 \\times (T_{i+1} +T_{i-1})  $\n",
        "\n",
        "For each timestep, the temperature evolution in node i can be computed as : \n",
        "\n"
      ]
    },
    {
      "cell_type": "code",
      "metadata": {
        "id": "dA4AHqh7DYNy",
        "colab_type": "code",
        "colab": {}
      },
      "source": [
        "for i in range(1,n-1):\n",
        "    T_plus[i]=T[i]*(1-2*Fo)+Fo*(T[i+1]+T[i-1])"
      ],
      "execution_count": 0,
      "outputs": []
    },
    {
      "cell_type": "markdown",
      "metadata": {
        "id": "nMqbVmvbDYOA",
        "colab_type": "text"
      },
      "source": [
        "The equation (1.12) is stable for $(1-2 F_0) > 0 $\n",
        "\n",
        "Let's run the simulation a first time. In this case, `Fo = 0.1`, respecting the stability criteria of Fo < 0.5.\n"
      ]
    },
    {
      "cell_type": "code",
      "metadata": {
        "colab_type": "code",
        "id": "p9LczwS9vf9H",
        "outputId": "5e5ee762-f10c-4da4-d3cc-e73d0fdb9a0e",
        "colab": {
          "base_uri": "https://localhost:8080/",
          "height": 371
        }
      },
      "source": [
        "# Initializing array storing temperature values for T + dt\n",
        "T_plus=np.zeros(n)\n",
        "# Initializing storing temperatures values for T\n",
        "T=np.zeros(n)\n",
        "\n",
        "t = 0\n",
        "\n",
        "# Calculating Fo\n",
        "Fo=alpha*dt/dx**2\n",
        "print(\"Fo = {}\".format(Fo))\n",
        "\n",
        "# Assert if Fo respects the stability criteria\n",
        "if Fo>0.5:\n",
        "    print(\"stability issue\")\n",
        "\n",
        "# Running the simulation for t in [0, sim_time]\n",
        "while t < sim_time:\n",
        "    # Initializing boundary conditions (these temperatures are fixed during the simulation)\n",
        "    T[0]=0\n",
        "    T[n-1]=10\n",
        "    # Updating each node as per equation (1.12) \n",
        "    for i in range(1,n-1):\n",
        "        T_plus[i]=T[i]*(1-2*Fo)+Fo*(T[i+1]+T[i-1])\n",
        "    \n",
        "    # T becomes T+\n",
        "    T=T_plus # replace \n",
        "    # Updating to next time step\n",
        "    t+=dt\n",
        "\n",
        "# The T array is displayed at the end of the simulation\n",
        "x_pos=np.arange(0,L,dx)\n",
        "plt.xlabel(\"x position [m]\")\n",
        "plt.ylabel(\"Temperature [°C]\")\n",
        "plt.plot(x_pos, T_plus, 'o-', alpha=0.65)\n"
      ],
      "execution_count": 9,
      "outputs": [
        {
          "output_type": "stream",
          "text": [
            "Fo = 0.1\n"
          ],
          "name": "stdout"
        },
        {
          "output_type": "execute_result",
          "data": {
            "text/plain": [
              "[<matplotlib.lines.Line2D at 0x7f9de2f26fd0>]"
            ]
          },
          "metadata": {
            "tags": []
          },
          "execution_count": 9
        },
        {
          "output_type": "display_data",
          "data": {
            "image/png": "[encoded data removed]",
            "text/plain": [
              "<Figure size 576x360 with 1 Axes>"
            ]
          },
          "metadata": {
            "tags": [],
            "needs_background": "light"
          }
        }
      ]
    },
    {
      "cell_type": "markdown",
      "metadata": {
        "colab_type": "text",
        "id": "BphnE_YB1Odv"
      },
      "source": [
        "Let's now plot the same simulation with a different value of Fo. The interactive plot allows you to pick a value then run the simulation. Click on the **Run Interact** button to start the simulation and display the resulting graph."
      ]
    },
    {
      "cell_type": "code",
      "metadata": {
        "colab_type": "code",
        "id": "s_rIEfbBvgAI",
        "outputId": "21b76c15-306d-4c44-84b6-1e186aee5c4a",
        "colab": {
          "base_uri": "https://localhost:8080/",
          "height": 427,
          "referenced_widgets": [
            "087793049ae54d3a9508fb955f464473",
            "79ad8598744a42f788929e1b8ed676f3",
            "e5e4097c7e21404587e14f52e54bac18",
            "556f329363bd4e8aaa5c1f35cee7e48c",
            "8b11b0154edc47c1a190891ca4c6d325",
            "f0d0f79187f94c558e00ea991d3ce203",
            "3dc6a531c0e24ba284ce6d16f1b0f778",
            "bb7f19aac10c405da3d6a39d198e9699",
            "5352f1aff2314e6d9f2a3784f5188474",
            "66fa9e1f4680486e840e6c5710f10aea"
          ]
        }
      },
      "source": [
        "# Defining the simulation as a method with dt as an argument.\n",
        "\n",
        "def plot_temperature_evolution(dt):\n",
        "  n=100\n",
        "  alpha=1e-6\n",
        "  Fo=alpha*dt/dx**2\n",
        "  T_plus=np.zeros(n)\n",
        "  T=np.zeros(n)\n",
        "  t=0\n",
        "  sim_time=60\n",
        "  while t < sim_time:\n",
        "    T[0]=0\n",
        "    T[n-1]=200\n",
        "    for i in range(1,n-1):\n",
        "      T_plus[i]=T[i]*(1-2*Fo)+Fo*(T[i+1]+T[i-1])\n",
        "    T=T_plus \n",
        "    t+=dt\n",
        "\t\n",
        "  x_pos=np.arange(0,L,dx)\n",
        "  plt.xlabel(\"x position [m]\")\n",
        "  plt.ylabel(\"Temperature [°C]\")\n",
        "  plt.plot(x_pos, T_plus, 'o-', alpha=0.65)\n",
        "\n",
        "# Creating an interactive graph based on IPython Widgets\n",
        "interact_manual(plot_temperature_evolution, dt = widgets.FloatSlider(value=0.2,min=0,max=2,step=0.1))"
      ],
      "execution_count": 21,
      "outputs": [
        {
          "output_type": "display_data",
          "data": {
            "application/vnd.jupyter.widget-view+json": {
              "model_id": "087793049ae54d3a9508fb955f464473",
              "version_minor": 0,
              "version_major": 2
            },
            "text/plain": [
              "interactive(children=(FloatSlider(value=0.2, description='dt', max=2.0), Button(description='Run Interact', st…"
            ]
          },
          "metadata": {
            "tags": []
          }
        },
        {
          "output_type": "execute_result",
          "data": {
            "text/plain": [
              "<function __main__.plot_temperature_evolution>"
            ]
          },
          "metadata": {
            "tags": []
          },
          "execution_count": 21
        }
      ]
    },
    {
      "cell_type": "markdown",
      "metadata": {
        "id": "8PLMslYtDYOe",
        "colab_type": "text"
      },
      "source": [
        "The instability can be seen for $\\Delta t$ values near 1, as a discontinuity in the temperature distribution appears, followed by intense divergence of the results on the right hand side of the domain."
      ]
    },
    {
      "cell_type": "markdown",
      "metadata": {
        "colab_type": "text",
        "id": "uiAi_8KH4aQ7"
      },
      "source": [
        "### Euler explicit scheme - matrix\n",
        "**Book reference page 12** \n",
        "\n",
        "Same exemple, yet described with a matrix implementation. The instability can be clearly seen for `dt > 1.84`, which is the stability limit of the explicit scheme in the this case."
      ]
    },
    {
      "cell_type": "code",
      "metadata": {
        "colab_type": "code",
        "id": "_mUvz_mY4u0N",
        "outputId": "39851afd-d7e6-4c88-ae02-c9c226ceabe9",
        "scrolled": false,
        "colab": {
          "base_uri": "https://localhost:8080/",
          "height": 99,
          "referenced_widgets": [
            "ce6d784d6d574ce0b2ea35b6ce60c17a",
            "f0ca35f2f22b472fbed211bdb3a4c7a2",
            "e5032c8de37e44ee982157263e12e766",
            "e901b2c69d3843049754cb628b044c82",
            "d7046b21cf754b1987fa1009a0cdd6ca",
            "c51d1fb5e766422083f9c4571a9283f0",
            "0c38e81a9bce45f69c0616bf1150d998",
            "a9b0f97696f94600b0757975c0b7fcc4",
            "769a03b5184d40348e82f64ab7e5cde5",
            "1667b6a78b5a45359702acb15d6bdc9c"
          ]
        }
      },
      "source": [
        "# Defining the simulation as a method with Fo as an argument.\n",
        "\n",
        "def plot_temperature_evolution_matrix(dt):\n",
        "    \n",
        "    t=0\n",
        "    sim_time=600\n",
        "    \n",
        "    n=50+2 # number of nodes\n",
        "    L=0.1 # m\n",
        "    dx = L/n\n",
        "    alpha=1e-6\n",
        "    Fo=alpha*dt/dx**2\n",
        "\n",
        "    # Defining the matrix as per (1.13)\n",
        "    K=np.eye(n,n,k=-1)*1 + np.eye(n,n)*-2 + np.eye(n,n,k=1)*1\n",
        "\n",
        "    K[0,0]=0\n",
        "    K[0,1]=0\n",
        "    K[-1,-1]=0\n",
        "    K[-1,-2]=0\n",
        "\n",
        "    # Initializing array storing temperature values for T + dt\n",
        "    T_plus=np.zeros(n)\n",
        "    # Initializing storing temperatures values for T\n",
        "    T=np.zeros(n)\n",
        "\n",
        "    # Starting simulation \n",
        "    while t < sim_time:\n",
        "            \n",
        "        T[0]=0\n",
        "        T[n-1]=10\n",
        "\n",
        "        # matrix multiplicatio K*T as per (1.13)\n",
        "        T_plus=Fo*np.dot(K,T) + T\n",
        "\n",
        "        # T becomes T+\n",
        "        T=T_plus # replace \n",
        "        # Updating to next time step\n",
        "        t+=dt\n",
        "    \n",
        "    #Plotting results\n",
        "    x_pos=np.arange(0,L,dx)\n",
        "    plt.xlabel(\"x position [m]\")\n",
        "    plt.ylabel(\"Temperature [°C]\")\n",
        "    plt.plot(x_pos, T_plus, 'o-', alpha=0.65)\n",
        "\n",
        "\n",
        "# Creating an interactive graph based on IPython Widgets\n",
        "interact_manual(plot_temperature_evolution_matrix, dt = widgets.FloatSlider(value=1.5,    min=0,\n",
        "                                                max=3,\n",
        "                                                step=0.05))"
      ],
      "execution_count": 26,
      "outputs": [
        {
          "output_type": "display_data",
          "data": {
            "application/vnd.jupyter.widget-view+json": {
              "model_id": "ce6d784d6d574ce0b2ea35b6ce60c17a",
              "version_minor": 0,
              "version_major": 2
            },
            "text/plain": [
              "interactive(children=(FloatSlider(value=1.5, description='dt', max=3.0), Button(description='Run Interact', st…"
            ]
          },
          "metadata": {
            "tags": []
          }
        },
        {
          "output_type": "execute_result",
          "data": {
            "text/plain": [
              "<function __main__.plot_temperature_evolution_matrix>"
            ]
          },
          "metadata": {
            "tags": []
          },
          "execution_count": 26
        }
      ]
    },
    {
      "cell_type": "markdown",
      "metadata": {
        "colab_type": "text",
        "id": "5URTJ4Po2_lM"
      },
      "source": [
        "### Crank-Nicolson scheme \n",
        "**Book reference page 16** \n",
        "\n",
        "Euler’s explicit scheme has the advantage of simplicity and straightforward implementation. However, its stability conditions are often detrimental to execution time. A way to increase its stability is to change the explicit numerical scheme for an implicit scheme. As per (1.32), the integration scheme can be generalized as \n",
        "\n",
        "$ [T^+] = [T] + (1 - \\beta) \\times [K][T] + \\beta \\times [K][T] $\n",
        "\n",
        "with $\\beta$ called \"relaxation factor\". Crank-Nicolson being a particular form of this scheme for $ \\beta = 0.5 $. We define this scheme in the following methods:"
      ]
    },
    {
      "cell_type": "code",
      "metadata": {
        "id": "yggtg0TNDYPJ",
        "colab_type": "code",
        "colab": {}
      },
      "source": [
        "# function for Crank-Nicolson's scheme\n",
        "def fc_CN(T_plus,T,K,beta):\n",
        "    return  T_plus - T - beta*np.dot(K,T) - beta*np.dot(K,T_plus)"
      ],
      "execution_count": 0,
      "outputs": []
    },
    {
      "cell_type": "markdown",
      "metadata": {
        "id": "vfk6zOJRDYPT",
        "colab_type": "text"
      },
      "source": [
        "Let's apply this scheme with two different materials. The media has 3/4 of his length in material 1, 1/4 of his length in material 2.\n"
      ]
    },
    {
      "cell_type": "code",
      "metadata": {
        "id": "ovq2OsynDYPV",
        "colab_type": "code",
        "colab": {
          "base_uri": "https://localhost:8080/",
          "height": 35
        },
        "outputId": "c7e0db25-bb81-4d0b-8a1b-87ceab5514f0"
      },
      "source": [
        "# Relaxation factor\n",
        "beta=0.5\n",
        "# Solid nodes \n",
        "n_solid=19\n",
        "# Total nodes\n",
        "n=n_solid+2\n",
        "\n",
        "# Init time\n",
        "t=0\n",
        "# Simulation time\n",
        "hours=4\n",
        "sim_time=hours*3600\n",
        "# Time step\n",
        "dt=50\n",
        "\n",
        "# Length of the media\n",
        "L_tot=0.9 # m\n",
        "# Node length\n",
        "dx=L_tot/(n_solid) # m\n",
        "\n",
        "\n",
        "# x discretization of the media\n",
        "x_pos=np.arange(0,L_tot+2*dx,dx)\n",
        "#Definition of the layer of material 1\n",
        "L_layer1= 3*L_tot/4 + 0.003 # add epsilon to avoid falling straight on a node\n",
        "\n",
        "# for the interface property\n",
        "# Location of the material interface\n",
        "x_interface=L_tot-L_layer1\n",
        "# Node number in which falls the interface\n",
        "i_interface=int(x_interface/dx)\n",
        "\n",
        "\n",
        "\n",
        "Tmin=-5\n",
        "Tmax=20\n",
        "T_init=Tmin #0.5*(Tmin+Tmax)\n",
        "T=np.ones(n)*T_init\n",
        "T[0]=Tmin\n",
        "T[n-1]=Tmax\n",
        "\n",
        "print(\"L_tot={}, L_layer1={},x_interace={},i_interace={}\".format(L_tot,L_layer1, x_interface, i_interface))"
      ],
      "execution_count": 29,
      "outputs": [
        {
          "output_type": "stream",
          "text": [
            "L_tot=0.9, L_layer1=0.678,x_interace=0.22199999999999998,i_interace=4\n"
          ],
          "name": "stdout"
        }
      ]
    },
    {
      "cell_type": "markdown",
      "metadata": {
        "id": "Ys4cOSMjDYPe",
        "colab_type": "text"
      },
      "source": [
        "The media properties and the interface localisation are described below"
      ]
    },
    {
      "cell_type": "code",
      "metadata": {
        "id": "LligYAIKDYPf",
        "colab_type": "code",
        "colab": {
          "base_uri": "https://localhost:8080/",
          "height": 352
        },
        "outputId": "054a9ee9-d20b-48e8-f6cb-9f4761b2f444"
      },
      "source": [
        "\n",
        "# material 1 and 2 (1 = on the side of i=0)\n",
        "lambda1,rho1,Cp1 =1.6,2200,1100 # 8.1*1e-7\n",
        "lambda2,rho2,Cp2 =  0.04,300,900 # 1.2*1e-7\n",
        "\n",
        "alpha1 = lambda1/(rho1*Cp1)\n",
        "alpha2 = lambda2/(rho2*Cp2)\n",
        "\n",
        "# fourier for both layers\n",
        "Fo1=alpha1*dt/dx**2\n",
        "Fo2=alpha2*dt/dx**2\n",
        "\n",
        "# fourier-biot\n",
        "hi=7.7 # W/m2/K heat transfer side i\n",
        "FoBi_i=dt/(dx*rho1*Cp1)*np.power((1/hi+dx/lambda1/2),-1)\n",
        "he=25 # W/m2/K heat transfer side e\n",
        "FoBi_e=dt/(dx*rho2*Cp1)*np.power((1/he+dx/lambda2/2),-1)\n",
        "\n",
        "\n",
        "Fo=np.zeros(n)\n",
        "\n",
        "\n",
        "dx1=max(i_interface*dx-x_interface,x_interface-i_interface*dx)\n",
        "dx2=dx-dx1\n",
        "\n",
        "\n",
        "# lambda_eq at the interface\n",
        "k_eq=1/(dx1/lambda1+dx2/lambda2)\n",
        "# Fo_eq\n",
        "Fo_eq=dt*k_eq/(rho1*Cp1*dx**2)\n",
        "\n",
        "# let's build the conductivity matrix\n",
        "K=np.eye(n,n,k=-1)*1 + np.eye(n,n)*-2+ np.eye(n,n,k=1)*1\n",
        "K[0,0],K[0,1],K[-1,-1],K[-1,-2]=0,0,0,0 # ghost lines for BC\n",
        "\n",
        "coeffs_Fo=np.ones(len(T))\n",
        "coeffs_Fo[0:i_interface+1]=Fo1 # prepare the upper part of the matrix\n",
        "coeffs_Fo[i_interface+1:]=Fo2 # ... the lower part of the matrix\n",
        "\n",
        "\n",
        "K=coeffs_Fo*K\n",
        "# diagonal terms around interface\n",
        "K[i_interface,i_interface]=-(Fo1+Fo_eq)\n",
        "K[i_interface+1,i_interface+1]=-(Fo2+Fo_eq)\n",
        "# sub and supra diag terms around interface\n",
        "K[i_interface,i_interface+1]=Fo_eq\n",
        "K[i_interface+1,i_interface]=Fo_eq\n",
        "# exchange with air\n",
        "K[1,0]=FoBi_i\n",
        "K[1,1]=-FoBi_i-Fo1\n",
        "# exchange with air\n",
        "K[-2,-1]=FoBi_e\n",
        "K[-2,-2]=-FoBi_e-Fo2\n",
        "\n",
        "plt.xlabel(\"x position [m]\")\n",
        "plt.ylabel(\"Fo \")\n",
        "plt.plot(coeffs_Fo)"
      ],
      "execution_count": 30,
      "outputs": [
        {
          "output_type": "execute_result",
          "data": {
            "text/plain": [
              "[<matplotlib.lines.Line2D at 0x7f9de2600c18>]"
            ]
          },
          "metadata": {
            "tags": []
          },
          "execution_count": 30
        },
        {
          "output_type": "display_data",
          "data": {
            "image/png": "[encoded data removed]",
            "text/plain": [
              "<Figure size 576x360 with 1 Axes>"
            ]
          },
          "metadata": {
            "tags": [],
            "needs_background": "light"
          }
        }
      ]
    },
    {
      "cell_type": "markdown",
      "metadata": {
        "id": "JexH1dzLDYPw",
        "colab_type": "text"
      },
      "source": [
        "Interactive plot of CN scheme"
      ]
    },
    {
      "cell_type": "code",
      "metadata": {
        "colab_type": "code",
        "id": "lCierOQ23Q5O",
        "outputId": "88e7b7db-e541-48dc-84a3-c6b5260cb53c",
        "colab": {
          "base_uri": "https://localhost:8080/",
          "height": 416,
          "referenced_widgets": [
            "56121f18ca594469ae1de6c0bcf724e3",
            "4c80fd0a82f94c4c98a80cb507139a9c",
            "bc7b02bed3a7414282a929f20567b904",
            "85d412cf80b343f78337706c2185be9d",
            "b39caf64893d4a8484c9a198574d3e94",
            "9bb7502ccd6445c4b36a4c41410784a8",
            "4a11d85ba3bd433781f6eb80cac3d5e0",
            "c229ffc3cc824ec9bd7665e9d3132b7d",
            "028b65d005f24179b0b422a70890f650",
            "5e0d37df912f434881546b8d0491b7fb"
          ]
        }
      },
      "source": [
        "def run_simulation_CN(dt):\n",
        "  Tmin=-5\n",
        "  Tmax=20\n",
        "  T_init=Tmin #0.5*(Tmin+Tmax)\n",
        "  T=np.ones(n)*T_init\n",
        "  T[0]=Tmax\n",
        "  \n",
        "  T[n-1]=Tmin\n",
        "  t=0\n",
        "  while t < sim_time:\n",
        "    T_plus = fsolve(fc_CN, T, args=(T,K,beta))\n",
        "    T = T_plus\n",
        "    t+=dt\n",
        "\n",
        "  plt.xlabel(\"x position [m]\")\n",
        "  plt.ylabel(\"Temperature [°C]\")\n",
        "  plt.plot(x_pos, T, 'o-', alpha=0.65,label='crank-nicolson')\n",
        "  plt.legend()\n",
        "  plt.arrow(L_tot-L_layer1,Tmin,0,abs(Tmax-Tmin))\n",
        "\n",
        "# Creating an interactive graph based on IPython Widgets\n",
        "interact_manual(run_simulation_CN, dt = widgets.FloatSlider(value=20,    min=0,\n",
        "                                                max=200,\n",
        "                                                step=1))"
      ],
      "execution_count": 31,
      "outputs": [
        {
          "output_type": "display_data",
          "data": {
            "application/vnd.jupyter.widget-view+json": {
              "model_id": "56121f18ca594469ae1de6c0bcf724e3",
              "version_minor": 0,
              "version_major": 2
            },
            "text/plain": [
              "interactive(children=(FloatSlider(value=20.0, description='dt', max=200.0, step=1.0), Button(description='Run …"
            ]
          },
          "metadata": {
            "tags": []
          }
        },
        {
          "output_type": "execute_result",
          "data": {
            "text/plain": [
              "<function __main__.run_simulation_CN>"
            ]
          },
          "metadata": {
            "tags": []
          },
          "execution_count": 31
        }
      ]
    },
    {
      "cell_type": "code",
      "metadata": {
        "colab_type": "code",
        "id": "gREVYA6JLxMH",
        "colab": {}
      },
      "source": [
        ""
      ],
      "execution_count": 0,
      "outputs": []
    },
    {
      "cell_type": "code",
      "metadata": {
        "id": "DD2ygdlADYQK",
        "colab_type": "code",
        "colab": {}
      },
      "source": [
        ""
      ],
      "execution_count": 0,
      "outputs": []
    }
  ]
}