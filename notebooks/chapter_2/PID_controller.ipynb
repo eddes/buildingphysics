{
  "nbformat": 4,
  "nbformat_minor": 0,
  "metadata": {
    "kernelspec": {
      "display_name": "Python 3",
      "language": "python",
      "name": "python3"
    },
    "language_info": {
      "codemirror_mode": {
        "name": "ipython",
        "version": 3
      },
      "file_extension": ".py",
      "mimetype": "text/x-python",
      "name": "python",
      "nbconvert_exporter": "python",
      "pygments_lexer": "ipython3",
      "version": "3.6.9"
    },
    "colab": {
      "name": "PID_controller.ipynb",
      "provenance": [],
      "include_colab_link": true
    },
    "widgets": {
      "application/vnd.jupyter.widget-state+json": {
        "5323f7e70aeb4a9c89bd43ae909f89fc": {
          "model_module": "@jupyter-widgets/controls",
          "model_name": "VBoxModel",
          "state": {
            "_view_name": "VBoxView",
            "_dom_classes": [
              "widget-interact"
            ],
            "_model_name": "VBoxModel",
            "_view_module": "@jupyter-widgets/controls",
            "_model_module_version": "1.5.0",
            "_view_count": null,
            "_view_module_version": "1.5.0",
            "box_style": "",
            "layout": "IPY_MODEL_8bd4ffa4e5a64a2a95ff5db949e99c90",
            "_model_module": "@jupyter-widgets/controls",
            "children": [
              "IPY_MODEL_046fb2457804450c8de48d06d4219c5a",
              "IPY_MODEL_5b41ac12c3a341879376f9ecaa6c75df",
              "IPY_MODEL_71f54e42f91e41b5805b46c6a44e610e",
              "IPY_MODEL_8f9ef5e6d8b54e2baff016a19ae8aa39",
              "IPY_MODEL_b1cb6a3eb38946c4be3809ee9a2b20ae",
              "IPY_MODEL_c84405e7211e4b3c9d4f52c71daf769a",
              "IPY_MODEL_b645618c9c1945c1aecf978d495f93cb"
            ]
          }
        },
        "8bd4ffa4e5a64a2a95ff5db949e99c90": {
          "model_module": "@jupyter-widgets/base",
          "model_name": "LayoutModel",
          "state": {
            "_view_name": "LayoutView",
            "grid_template_rows": null,
            "right": null,
            "justify_content": null,
            "_view_module": "@jupyter-widgets/base",
            "overflow": null,
            "_model_module_version": "1.2.0",
            "_view_count": null,
            "flex_flow": null,
            "width": null,
            "min_width": null,
            "border": null,
            "align_items": null,
            "bottom": null,
            "_model_module": "@jupyter-widgets/base",
            "top": null,
            "grid_column": null,
            "overflow_y": null,
            "overflow_x": null,
            "grid_auto_flow": null,
            "grid_area": null,
            "grid_template_columns": null,
            "flex": null,
            "_model_name": "LayoutModel",
            "justify_items": null,
            "grid_row": null,
            "max_height": null,
            "align_content": null,
            "visibility": null,
            "align_self": null,
            "height": null,
            "min_height": null,
            "padding": null,
            "grid_auto_rows": null,
            "grid_gap": null,
            "max_width": null,
            "order": null,
            "_view_module_version": "1.2.0",
            "grid_template_areas": null,
            "object_position": null,
            "object_fit": null,
            "grid_auto_columns": null,
            "margin": null,
            "display": null,
            "left": null
          }
        },
        "046fb2457804450c8de48d06d4219c5a": {
          "model_module": "@jupyter-widgets/controls",
          "model_name": "FloatSliderModel",
          "state": {
            "_view_name": "FloatSliderView",
            "style": "IPY_MODEL_775b2291e5214a1e9cb0050da95b5e04",
            "_dom_classes": [],
            "description": "KP",
            "step": 0.1,
            "_model_name": "FloatSliderModel",
            "orientation": "horizontal",
            "max": 10,
            "_view_module": "@jupyter-widgets/controls",
            "_model_module_version": "1.5.0",
            "value": 2,
            "_view_count": null,
            "disabled": false,
            "_view_module_version": "1.5.0",
            "min": 0.01,
            "continuous_update": true,
            "readout_format": ".2f",
            "description_tooltip": null,
            "readout": true,
            "_model_module": "@jupyter-widgets/controls",
            "layout": "IPY_MODEL_cf086a99a1f1450b9cfc23df7f7d7db5"
          }
        },
        "5b41ac12c3a341879376f9ecaa6c75df": {
          "model_module": "@jupyter-widgets/controls",
          "model_name": "FloatSliderModel",
          "state": {
            "_view_name": "FloatSliderView",
            "style": "IPY_MODEL_2e726261348f4372a37cde34c9665e5e",
            "_dom_classes": [],
            "description": "Qmax_user",
            "step": 0.5,
            "_model_name": "FloatSliderModel",
            "orientation": "horizontal",
            "max": 12,
            "_view_module": "@jupyter-widgets/controls",
            "_model_module_version": "1.5.0",
            "value": 9,
            "_view_count": null,
            "disabled": false,
            "_view_module_version": "1.5.0",
            "min": 1,
            "continuous_update": true,
            "readout_format": ".2f",
            "description_tooltip": null,
            "readout": true,
            "_model_module": "@jupyter-widgets/controls",
            "layout": "IPY_MODEL_640e915a43174d699643a2db7179991b"
          }
        },
        "71f54e42f91e41b5805b46c6a44e610e": {
          "model_module": "@jupyter-widgets/controls",
          "model_name": "IntSliderModel",
          "state": {
            "_view_name": "IntSliderView",
            "style": "IPY_MODEL_e83f01dec98f4ac39c65bb4d98cf0b52",
            "_dom_classes": [],
            "description": "Tn",
            "step": 1,
            "_model_name": "IntSliderModel",
            "orientation": "horizontal",
            "max": 100,
            "_view_module": "@jupyter-widgets/controls",
            "_model_module_version": "1.5.0",
            "value": 15,
            "_view_count": null,
            "disabled": false,
            "_view_module_version": "1.5.0",
            "min": 0,
            "continuous_update": true,
            "readout_format": "d",
            "description_tooltip": null,
            "readout": true,
            "_model_module": "@jupyter-widgets/controls",
            "layout": "IPY_MODEL_2f8b0625cf7b43d3b624d0a8138ac888"
          }
        },
        "8f9ef5e6d8b54e2baff016a19ae8aa39": {
          "model_module": "@jupyter-widgets/controls",
          "model_name": "IntSliderModel",
          "state": {
            "_view_name": "IntSliderView",
            "style": "IPY_MODEL_cd3023edadb34e34b76652711752868d",
            "_dom_classes": [],
            "description": "Td",
            "step": 1,
            "_model_name": "IntSliderModel",
            "orientation": "horizontal",
            "max": 100,
            "_view_module": "@jupyter-widgets/controls",
            "_model_module_version": "1.5.0",
            "value": 0,
            "_view_count": null,
            "disabled": false,
            "_view_module_version": "1.5.0",
            "min": 0,
            "continuous_update": true,
            "readout_format": "d",
            "description_tooltip": null,
            "readout": true,
            "_model_module": "@jupyter-widgets/controls",
            "layout": "IPY_MODEL_6ca4a7b5c0bb46b4a5d9db08e657151d"
          }
        },
        "b1cb6a3eb38946c4be3809ee9a2b20ae": {
          "model_module": "@jupyter-widgets/controls",
          "model_name": "IntSliderModel",
          "state": {
            "_view_name": "IntSliderView",
            "style": "IPY_MODEL_d716963ee08d4bffbfa68d0c1493c1bc",
            "_dom_classes": [],
            "description": "sim_time",
            "step": 50,
            "_model_name": "IntSliderModel",
            "orientation": "horizontal",
            "max": 5000,
            "_view_module": "@jupyter-widgets/controls",
            "_model_module_version": "1.5.0",
            "value": 600,
            "_view_count": null,
            "disabled": false,
            "_view_module_version": "1.5.0",
            "min": 50,
            "continuous_update": true,
            "readout_format": "d",
            "description_tooltip": null,
            "readout": true,
            "_model_module": "@jupyter-widgets/controls",
            "layout": "IPY_MODEL_994a7367686543bfb7046e2fc2a090a9"
          }
        },
        "c84405e7211e4b3c9d4f52c71daf769a": {
          "model_module": "@jupyter-widgets/controls",
          "model_name": "ButtonModel",
          "state": {
            "_view_name": "ButtonView",
            "style": "IPY_MODEL_fd833ab319b14778ae06ef98d9c64eb5",
            "_dom_classes": [],
            "description": "Run Interact",
            "_model_name": "ButtonModel",
            "button_style": "",
            "_view_module": "@jupyter-widgets/controls",
            "_model_module_version": "1.5.0",
            "tooltip": "",
            "_view_count": null,
            "disabled": false,
            "_view_module_version": "1.5.0",
            "layout": "IPY_MODEL_002d724cea77420faaea593e5e31e481",
            "_model_module": "@jupyter-widgets/controls",
            "icon": ""
          }
        },
        "b645618c9c1945c1aecf978d495f93cb": {
          "model_module": "@jupyter-widgets/output",
          "model_name": "OutputModel",
          "state": {
            "_view_name": "OutputView",
            "msg_id": "",
            "_dom_classes": [],
            "_model_name": "OutputModel",
            "outputs": [],
            "_view_module": "@jupyter-widgets/output",
            "_model_module_version": "1.0.0",
            "_view_count": null,
            "_view_module_version": "1.0.0",
            "layout": "IPY_MODEL_06e78d5b61d34eeb902237b002759c82",
            "_model_module": "@jupyter-widgets/output"
          }
        },
        "775b2291e5214a1e9cb0050da95b5e04": {
          "model_module": "@jupyter-widgets/controls",
          "model_name": "SliderStyleModel",
          "state": {
            "_view_name": "StyleView",
            "handle_color": null,
            "_model_name": "SliderStyleModel",
            "description_width": "",
            "_view_module": "@jupyter-widgets/base",
            "_model_module_version": "1.5.0",
            "_view_count": null,
            "_view_module_version": "1.2.0",
            "_model_module": "@jupyter-widgets/controls"
          }
        },
        "cf086a99a1f1450b9cfc23df7f7d7db5": {
          "model_module": "@jupyter-widgets/base",
          "model_name": "LayoutModel",
          "state": {
            "_view_name": "LayoutView",
            "grid_template_rows": null,
            "right": null,
            "justify_content": null,
            "_view_module": "@jupyter-widgets/base",
            "overflow": null,
            "_model_module_version": "1.2.0",
            "_view_count": null,
            "flex_flow": null,
            "width": null,
            "min_width": null,
            "border": null,
            "align_items": null,
            "bottom": null,
            "_model_module": "@jupyter-widgets/base",
            "top": null,
            "grid_column": null,
            "overflow_y": null,
            "overflow_x": null,
            "grid_auto_flow": null,
            "grid_area": null,
            "grid_template_columns": null,
            "flex": null,
            "_model_name": "LayoutModel",
            "justify_items": null,
            "grid_row": null,
            "max_height": null,
            "align_content": null,
            "visibility": null,
            "align_self": null,
            "height": null,
            "min_height": null,
            "padding": null,
            "grid_auto_rows": null,
            "grid_gap": null,
            "max_width": null,
            "order": null,
            "_view_module_version": "1.2.0",
            "grid_template_areas": null,
            "object_position": null,
            "object_fit": null,
            "grid_auto_columns": null,
            "margin": null,
            "display": null,
            "left": null
          }
        },
        "2e726261348f4372a37cde34c9665e5e": {
          "model_module": "@jupyter-widgets/controls",
          "model_name": "SliderStyleModel",
          "state": {
            "_view_name": "StyleView",
            "handle_color": null,
            "_model_name": "SliderStyleModel",
            "description_width": "",
            "_view_module": "@jupyter-widgets/base",
            "_model_module_version": "1.5.0",
            "_view_count": null,
            "_view_module_version": "1.2.0",
            "_model_module": "@jupyter-widgets/controls"
          }
        },
        "640e915a43174d699643a2db7179991b": {
          "model_module": "@jupyter-widgets/base",
          "model_name": "LayoutModel",
          "state": {
            "_view_name": "LayoutView",
            "grid_template_rows": null,
            "right": null,
            "justify_content": null,
            "_view_module": "@jupyter-widgets/base",
            "overflow": null,
            "_model_module_version": "1.2.0",
            "_view_count": null,
            "flex_flow": null,
            "width": null,
            "min_width": null,
            "border": null,
            "align_items": null,
            "bottom": null,
            "_model_module": "@jupyter-widgets/base",
            "top": null,
            "grid_column": null,
            "overflow_y": null,
            "overflow_x": null,
            "grid_auto_flow": null,
            "grid_area": null,
            "grid_template_columns": null,
            "flex": null,
            "_model_name": "LayoutModel",
            "justify_items": null,
            "grid_row": null,
            "max_height": null,
            "align_content": null,
            "visibility": null,
            "align_self": null,
            "height": null,
            "min_height": null,
            "padding": null,
            "grid_auto_rows": null,
            "grid_gap": null,
            "max_width": null,
            "order": null,
            "_view_module_version": "1.2.0",
            "grid_template_areas": null,
            "object_position": null,
            "object_fit": null,
            "grid_auto_columns": null,
            "margin": null,
            "display": null,
            "left": null
          }
        },
        "e83f01dec98f4ac39c65bb4d98cf0b52": {
          "model_module": "@jupyter-widgets/controls",
          "model_name": "SliderStyleModel",
          "state": {
            "_view_name": "StyleView",
            "handle_color": null,
            "_model_name": "SliderStyleModel",
            "description_width": "",
            "_view_module": "@jupyter-widgets/base",
            "_model_module_version": "1.5.0",
            "_view_count": null,
            "_view_module_version": "1.2.0",
            "_model_module": "@jupyter-widgets/controls"
          }
        },
        "2f8b0625cf7b43d3b624d0a8138ac888": {
          "model_module": "@jupyter-widgets/base",
          "model_name": "LayoutModel",
          "state": {
            "_view_name": "LayoutView",
            "grid_template_rows": null,
            "right": null,
            "justify_content": null,
            "_view_module": "@jupyter-widgets/base",
            "overflow": null,
            "_model_module_version": "1.2.0",
            "_view_count": null,
            "flex_flow": null,
            "width": null,
            "min_width": null,
            "border": null,
            "align_items": null,
            "bottom": null,
            "_model_module": "@jupyter-widgets/base",
            "top": null,
            "grid_column": null,
            "overflow_y": null,
            "overflow_x": null,
            "grid_auto_flow": null,
            "grid_area": null,
            "grid_template_columns": null,
            "flex": null,
            "_model_name": "LayoutModel",
            "justify_items": null,
            "grid_row": null,
            "max_height": null,
            "align_content": null,
            "visibility": null,
            "align_self": null,
            "height": null,
            "min_height": null,
            "padding": null,
            "grid_auto_rows": null,
            "grid_gap": null,
            "max_width": null,
            "order": null,
            "_view_module_version": "1.2.0",
            "grid_template_areas": null,
            "object_position": null,
            "object_fit": null,
            "grid_auto_columns": null,
            "margin": null,
            "display": null,
            "left": null
          }
        },
        "cd3023edadb34e34b76652711752868d": {
          "model_module": "@jupyter-widgets/controls",
          "model_name": "SliderStyleModel",
          "state": {
            "_view_name": "StyleView",
            "handle_color": null,
            "_model_name": "SliderStyleModel",
            "description_width": "",
            "_view_module": "@jupyter-widgets/base",
            "_model_module_version": "1.5.0",
            "_view_count": null,
            "_view_module_version": "1.2.0",
            "_model_module": "@jupyter-widgets/controls"
          }
        },
        "6ca4a7b5c0bb46b4a5d9db08e657151d": {
          "model_module": "@jupyter-widgets/base",
          "model_name": "LayoutModel",
          "state": {
            "_view_name": "LayoutView",
            "grid_template_rows": null,
            "right": null,
            "justify_content": null,
            "_view_module": "@jupyter-widgets/base",
            "overflow": null,
            "_model_module_version": "1.2.0",
            "_view_count": null,
            "flex_flow": null,
            "width": null,
            "min_width": null,
            "border": null,
            "align_items": null,
            "bottom": null,
            "_model_module": "@jupyter-widgets/base",
            "top": null,
            "grid_column": null,
            "overflow_y": null,
            "overflow_x": null,
            "grid_auto_flow": null,
            "grid_area": null,
            "grid_template_columns": null,
            "flex": null,
            "_model_name": "LayoutModel",
            "justify_items": null,
            "grid_row": null,
            "max_height": null,
            "align_content": null,
            "visibility": null,
            "align_self": null,
            "height": null,
            "min_height": null,
            "padding": null,
            "grid_auto_rows": null,
            "grid_gap": null,
            "max_width": null,
            "order": null,
            "_view_module_version": "1.2.0",
            "grid_template_areas": null,
            "object_position": null,
            "object_fit": null,
            "grid_auto_columns": null,
            "margin": null,
            "display": null,
            "left": null
          }
        },
        "d716963ee08d4bffbfa68d0c1493c1bc": {
          "model_module": "@jupyter-widgets/controls",
          "model_name": "SliderStyleModel",
          "state": {
            "_view_name": "StyleView",
            "handle_color": null,
            "_model_name": "SliderStyleModel",
            "description_width": "",
            "_view_module": "@jupyter-widgets/base",
            "_model_module_version": "1.5.0",
            "_view_count": null,
            "_view_module_version": "1.2.0",
            "_model_module": "@jupyter-widgets/controls"
          }
        },
        "994a7367686543bfb7046e2fc2a090a9": {
          "model_module": "@jupyter-widgets/base",
          "model_name": "LayoutModel",
          "state": {
            "_view_name": "LayoutView",
            "grid_template_rows": null,
            "right": null,
            "justify_content": null,
            "_view_module": "@jupyter-widgets/base",
            "overflow": null,
            "_model_module_version": "1.2.0",
            "_view_count": null,
            "flex_flow": null,
            "width": null,
            "min_width": null,
            "border": null,
            "align_items": null,
            "bottom": null,
            "_model_module": "@jupyter-widgets/base",
            "top": null,
            "grid_column": null,
            "overflow_y": null,
            "overflow_x": null,
            "grid_auto_flow": null,
            "grid_area": null,
            "grid_template_columns": null,
            "flex": null,
            "_model_name": "LayoutModel",
            "justify_items": null,
            "grid_row": null,
            "max_height": null,
            "align_content": null,
            "visibility": null,
            "align_self": null,
            "height": null,
            "min_height": null,
            "padding": null,
            "grid_auto_rows": null,
            "grid_gap": null,
            "max_width": null,
            "order": null,
            "_view_module_version": "1.2.0",
            "grid_template_areas": null,
            "object_position": null,
            "object_fit": null,
            "grid_auto_columns": null,
            "margin": null,
            "display": null,
            "left": null
          }
        },
        "fd833ab319b14778ae06ef98d9c64eb5": {
          "model_module": "@jupyter-widgets/controls",
          "model_name": "ButtonStyleModel",
          "state": {
            "_view_name": "StyleView",
            "_model_name": "ButtonStyleModel",
            "_view_module": "@jupyter-widgets/base",
            "_model_module_version": "1.5.0",
            "_view_count": null,
            "button_color": null,
            "font_weight": "",
            "_view_module_version": "1.2.0",
            "_model_module": "@jupyter-widgets/controls"
          }
        },
        "002d724cea77420faaea593e5e31e481": {
          "model_module": "@jupyter-widgets/base",
          "model_name": "LayoutModel",
          "state": {
            "_view_name": "LayoutView",
            "grid_template_rows": null,
            "right": null,
            "justify_content": null,
            "_view_module": "@jupyter-widgets/base",
            "overflow": null,
            "_model_module_version": "1.2.0",
            "_view_count": null,
            "flex_flow": null,
            "width": null,
            "min_width": null,
            "border": null,
            "align_items": null,
            "bottom": null,
            "_model_module": "@jupyter-widgets/base",
            "top": null,
            "grid_column": null,
            "overflow_y": null,
            "overflow_x": null,
            "grid_auto_flow": null,
            "grid_area": null,
            "grid_template_columns": null,
            "flex": null,
            "_model_name": "LayoutModel",
            "justify_items": null,
            "grid_row": null,
            "max_height": null,
            "align_content": null,
            "visibility": null,
            "align_self": null,
            "height": null,
            "min_height": null,
            "padding": null,
            "grid_auto_rows": null,
            "grid_gap": null,
            "max_width": null,
            "order": null,
            "_view_module_version": "1.2.0",
            "grid_template_areas": null,
            "object_position": null,
            "object_fit": null,
            "grid_auto_columns": null,
            "margin": null,
            "display": null,
            "left": null
          }
        },
        "06e78d5b61d34eeb902237b002759c82": {
          "model_module": "@jupyter-widgets/base",
          "model_name": "LayoutModel",
          "state": {
            "_view_name": "LayoutView",
            "grid_template_rows": null,
            "right": null,
            "justify_content": null,
            "_view_module": "@jupyter-widgets/base",
            "overflow": null,
            "_model_module_version": "1.2.0",
            "_view_count": null,
            "flex_flow": null,
            "width": null,
            "min_width": null,
            "border": null,
            "align_items": null,
            "bottom": null,
            "_model_module": "@jupyter-widgets/base",
            "top": null,
            "grid_column": null,
            "overflow_y": null,
            "overflow_x": null,
            "grid_auto_flow": null,
            "grid_area": null,
            "grid_template_columns": null,
            "flex": null,
            "_model_name": "LayoutModel",
            "justify_items": null,
            "grid_row": null,
            "max_height": null,
            "align_content": null,
            "visibility": null,
            "align_self": null,
            "height": null,
            "min_height": null,
            "padding": null,
            "grid_auto_rows": null,
            "grid_gap": null,
            "max_width": null,
            "order": null,
            "_view_module_version": "1.2.0",
            "grid_template_areas": null,
            "object_position": null,
            "object_fit": null,
            "grid_auto_columns": null,
            "margin": null,
            "display": null,
            "left": null
          }
        }
      }
    }
  },
  "cells": [
    {
      "cell_type": "markdown",
      "metadata": {
        "id": "view-in-github",
        "colab_type": "text"
      },
      "source": [
        "<a href=\"https://colab.research.google.com/github/eddes/buildingphysics/blob/feature%2Fpipenv_and_notebooks/notebooks/chapter_2/PID_controller.ipynb\" target=\"_parent\"><img src=\"https://colab.research.google.com/assets/colab-badge.svg\" alt=\"Open In Colab\"/></a>"
      ]
    },
    {
      "cell_type": "markdown",
      "metadata": {
        "id": "IbWClBLVXUB3",
        "colab_type": "text"
      },
      "source": [
        "# PID controller\n",
        "\n",
        "An illustration of Proportional-Integral-Derivative controler. In this example, a water draining tank has its water volume controlled by a PID. The associated equations are detailed in the book in 3.1.\n",
        "\n",
        "The water height in the tank follows the equation 2.24 :\n",
        "$ h^+ = h + \\frac{\\Delta t}{S_r} (Q - S_s \\sqrt{2gh})$  with $Q$ the water inflow controled by the PID, $S_r$ the tank surface, $S_s$ the outlet surface."
      ]
    },
    {
      "cell_type": "markdown",
      "metadata": {
        "id": "7nrcVnT0XUB5",
        "colab_type": "text"
      },
      "source": [
        "Some dependencies import and plot color definition.\n",
        "\n"
      ]
    },
    {
      "cell_type": "code",
      "metadata": {
        "id": "6hvMkK4pXUB7",
        "colab_type": "code",
        "colab": {}
      },
      "source": [
        "import numpy as np\n",
        "import matplotlib.pyplot as plt\n",
        "import math\n",
        "from ipywidgets import interact, interactive, fixed, interact_manual\n",
        "import ipywidgets as widgets\n",
        "rouge_A='#C60C2E'\n",
        "vert1_A='#005157'\n",
        "vert2_A='#627D77'\n",
        "vert3_A='#9EB28F'\n",
        "vert4_A='#C5E5A4'\n",
        "medblue='royalblue'\n",
        "gris1_A='#595A5C'\n",
        "\n",
        "colors=[rouge_A, vert1_A, vert2_A, vert3_A, vert4_A, medblue, gris1_A]"
      ],
      "execution_count": 0,
      "outputs": []
    },
    {
      "cell_type": "markdown",
      "metadata": {
        "id": "3IX4C1ndXUCG",
        "colab_type": "text"
      },
      "source": [
        "Helper function allowing to change the valve behaviour.\n"
      ]
    },
    {
      "cell_type": "code",
      "metadata": {
        "id": "FZ9_RVzsXUCI",
        "colab_type": "code",
        "colab": {}
      },
      "source": [
        "def fc_valve_curve(characteristic, valve_pos,Qmax):\n",
        "    if characteristic == \"linear\":\n",
        "        Qalim = Qmax * valve_pos\n",
        "    elif characteristic == \"equal_pct\":\n",
        "        Qalim = Qmax * np.exp(3.5 * (valve_pos - 1))\n",
        "    elif characteristic == \"quadratic\":\n",
        "        Qalim = Qmax * valve_pos**2\n",
        "    return Qalim"
      ],
      "execution_count": 0,
      "outputs": []
    },
    {
      "cell_type": "markdown",
      "metadata": {
        "id": "YKKjhtA-XUCO",
        "colab_type": "text"
      },
      "source": [
        "Constant definitions and valve model selection.\n"
      ]
    },
    {
      "cell_type": "code",
      "metadata": {
        "id": "ndtuo-qeXUCP",
        "colab_type": "code",
        "colab": {}
      },
      "source": [
        "\n",
        "#valve characteristic =\"equal_pct\" or \"quadratic\" or \"linear\"\n",
        "characteristic=\"linear\" \n",
        "\n",
        "# Geometrical data\n",
        "Pi = math.pi # pi approximation\n",
        "Dr = 1 #m the tank diameter\n",
        "Ds = 0.04 #m the water outlet diameter\n",
        "Sr = Pi * Dr**2 / 4 #m² tank surface \n",
        "Ss = Pi * Ds**2 / 4 #m² water outlet surface\n",
        "H0 = 1 #m tank height\n",
        "\n",
        "B = Ss / Sr * np.sqrt(2 * 9.81) # B, constant in the equation\n"
      ],
      "execution_count": 0,
      "outputs": []
    },
    {
      "cell_type": "markdown",
      "metadata": {
        "id": "J9O5j0MzXUCW",
        "colab_type": "text"
      },
      "source": [
        "The PID is defined by gains for proportionnal, derivative and integral corrections. Initial values are also setup for the simulation."
      ]
    },
    {
      "cell_type": "code",
      "metadata": {
        "id": "ae_dROLVXUCX",
        "colab_type": "code",
        "colab": {}
      },
      "source": [
        "# PID parameters\n",
        "prop_band = 0.5 # m\n",
        "KP = 1 / prop_band # proportional gain \n",
        "Tn = 15 # Integration time\n",
        "Td = 0 # Derivation time\n",
        "\n",
        "Qmax = 10 # L/s supply flowrate\n",
        "Qmax = Qmax / 1000 #conversion to m3/s\n",
        "\n",
        "# initial values\n",
        "h = H0 #m, reference water height value\n",
        "Qalim = 0  # initial value for inflow rate\n",
        "sim_time= 600 # simulation duration s\n",
        "\n",
        "# time and timestep\n",
        "t = 0\n",
        "dt = 0.05 # [s] time stem /sampling rate\n",
        "\n",
        "#Reset values\n",
        "sum_error = 0\n",
        "delta_error = 0\n",
        "valve_position = 0\n",
        "deltaT_previous = 0\n",
        "\n",
        "pcent_P,pcent_I,pcent_D=[],[],[]\n",
        "time,height=[],[]\n",
        "v_pos=[]"
      ],
      "execution_count": 0,
      "outputs": []
    },
    {
      "cell_type": "markdown",
      "metadata": {
        "id": "N22QNFYPXUCc",
        "colab_type": "text"
      },
      "source": [
        "For each timestep, the proportionnal, derivative and integral action are computed. The equation has been transformed as : \n",
        "$ h^+ = h + dt (A - B \\sqrt{h})$ with $A =  \\frac{Q}{S_r}$ and $B =  \\frac{S_s  \\sqrt{2g}}{Sr}$ .\n",
        "\n",
        "Given the error $e$, difference between the measure output\n",
        "\n",
        "- Proportionnal error is defined as $P_e(t+dt) = H_0 - h(t)$\n",
        "- Integral error is defined as $I_e(t+dt) = \\frac{dt}{Tn} (H_0 - h(t)) + I_e(t)$\n",
        "- Derivative error is defined as $D_e(t+dt) = \\frac{(H_0 - h(t)) - D_e(t)}{dt} $\n"
      ]
    },
    {
      "cell_type": "code",
      "metadata": {
        "id": "swoqE28ZXUCd",
        "colab_type": "code",
        "colab": {}
      },
      "source": [
        "#Euler explicit for water height\n",
        "A = Qalim / Sr #compute A \n",
        "h = dt * (A - B * np.sqrt(h)) + h\n",
        "#proportionnal error\n",
        "prop_error = (H0 - h)\n",
        "#integral error\n",
        "sum_error = dt / Tn * prop_error + sum_error\n",
        "#derivative error\n",
        "delta_error = Td * (prop_error - deltaT_previous) / dt\n",
        "#computation of the valve position with PID\n",
        "valve_position = KP * (prop_error + sum_error +  delta_error)\n"
      ],
      "execution_count": 0,
      "outputs": []
    },
    {
      "cell_type": "markdown",
      "metadata": {
        "id": "RdvizAe8XUCj",
        "colab_type": "text"
      },
      "source": [
        "The valve opening value is then updated."
      ]
    },
    {
      "cell_type": "code",
      "metadata": {
        "id": "u6OwG-8_XUCk",
        "colab_type": "code",
        "colab": {}
      },
      "source": [
        "if valve_position < 0:\n",
        "    valve_position = 0\n",
        "    Qalim = 0\n",
        "elif valve_position > 1:\n",
        "    valve_position = 1\n",
        "    Qalim = Qmax\n",
        "else:\n",
        "    Qalim=fc_valve_curve(characteristic, valve_position,Qmax)"
      ],
      "execution_count": 0,
      "outputs": []
    },
    {
      "cell_type": "markdown",
      "metadata": {
        "id": "_U_xkaXBXUCo",
        "colab_type": "text"
      },
      "source": [
        "An interactive plot is available here with PID gain and $B_m$ ($=B x 1000$) value to be modified. As a reminder,\n",
        "$B $ is proportional to $ S_s/S_r$.\n",
        "Integral and derivative components of the PID can also be modified with the edition of Tn and Td values."
      ]
    },
    {
      "cell_type": "code",
      "metadata": {
        "id": "q23IuOKWXUCo",
        "colab_type": "code",
        "colab": {}
      },
      "source": [
        "def plot_water_tank_evolution(KP, Qmax_user,Tn,Td, sim_time,):\n",
        "    Qmax=Qmax_user/1000 # convert to m3/s\n",
        "    H0 = 1\n",
        "    h = H0\n",
        "    Qalim = 0  # initial value for inflow rate\n",
        "    # time and timestep\n",
        "    t = 0\n",
        "    dt = 0.05 # [s] time stem /sampling rate\n",
        "\n",
        "    #Reset values\n",
        "    sum_error = 0\n",
        "    delta_error = 0\n",
        "    valve_position = 0\n",
        "    deltaT_previous = 0\n",
        "\n",
        "    pcent_P,pcent_I,pcent_D=[],[],[]\n",
        "    time,height=[],[]\n",
        "    v_pos=[]\n",
        "    while t <= sim_time:\n",
        "        #Euler explicit for water height\n",
        "        A = Qalim / Sr #compute A \n",
        "        h = dt * (A - B * np.sqrt(h)) + h\n",
        "        #proportionnal error\n",
        "        prop_error = (H0 - h)\n",
        "        #integral error\n",
        "        sum_error = dt / Tn * prop_error + sum_error\n",
        "        #derivative error\n",
        "        delta_error = Td * (prop_error - deltaT_previous) / dt\n",
        "        #computation of the valve position with PID\n",
        "        valve_position = KP * (prop_error + sum_error +  delta_error)\n",
        "\n",
        "        #Control for valve opening\n",
        "        if valve_position < 0:\n",
        "            valve_position = 0\n",
        "            Qalim = 0\n",
        "        elif valve_position > 1:\n",
        "            valve_position = 1\n",
        "            Qalim = Qmax\n",
        "        else:\n",
        "            Qalim=fc_valve_curve(characteristic, valve_position,Qmax)\n",
        "        v_pos.append(valve_position)\n",
        "        # let's see and plot who does what at each time step\n",
        "        if valve_position > 0:\n",
        "            pcent_P.append(abs (prop_error) * KP / valve_position)\n",
        "            pcent_I.append( sum_error + KP * prop_error * (dt / Tn) / valve_position)\n",
        "            pcent_D.append(KP * ( delta_error ) / valve_position)\n",
        "        else:\n",
        "            pcent_P.append(0)\n",
        "            pcent_I.append(0)\n",
        "            pcent_D.append(0)\n",
        "        deltaT_previous = prop_error\n",
        "        t+=dt\n",
        "        time.append(t)\n",
        "        height.append(h)\n",
        "\n",
        "    plt.subplot(121)\n",
        "    plt.xlabel(\"Time [s]\")\n",
        "    plt.ylabel(\"Water height [m]\")\n",
        "    plt.plot(time, height,color=colors[-2],linestyle=\"-\",alpha=1,marker='')\n",
        "    plt.plot(time, np.ones(len(time))*H0,color=colors[-1],linestyle=\"--\",alpha=0.85,marker='')\n",
        "\n",
        "    plt.subplot(122)\n",
        "    plt.xlabel(\"Time [s]\")\n",
        "    plt.ylabel(\"Share of P, I and D in the valve opening [-]\")\n",
        "    plt.plot(time, pcent_P,color=colors[0],linestyle=\"-\",alpha=1,marker='',label=\"P\")\n",
        "    plt.plot(time, pcent_I,color=colors[1],linestyle=\"-\",alpha=1,marker='',label=\"I\")\n",
        "    if Td != 0:\n",
        "        plt.plot(time, pcent_D,color=colors[2],linestyle=\"-\",alpha=1,marker='',label=\"D\")\n",
        "    plt.plot(time, v_pos,color=colors[-1],linestyle=\"--\",alpha=0.95,marker='',label=\"valve position\")\n",
        "\n",
        "    plt.legend()\n",
        "    plt.tight_layout()"
      ],
      "execution_count": 0,
      "outputs": []
    },
    {
      "cell_type": "code",
      "metadata": {
        "id": "J0wUbQ6KXUCt",
        "colab_type": "code",
        "outputId": "2ee77aa4-4424-461a-9f24-ce21415a82e7",
        "colab": {
          "base_uri": "https://localhost:8080/",
          "height": 227,
          "referenced_widgets": [
            "5323f7e70aeb4a9c89bd43ae909f89fc",
            "8bd4ffa4e5a64a2a95ff5db949e99c90",
            "046fb2457804450c8de48d06d4219c5a",
            "5b41ac12c3a341879376f9ecaa6c75df",
            "71f54e42f91e41b5805b46c6a44e610e",
            "8f9ef5e6d8b54e2baff016a19ae8aa39",
            "b1cb6a3eb38946c4be3809ee9a2b20ae",
            "c84405e7211e4b3c9d4f52c71daf769a",
            "b645618c9c1945c1aecf978d495f93cb",
            "775b2291e5214a1e9cb0050da95b5e04",
            "cf086a99a1f1450b9cfc23df7f7d7db5",
            "2e726261348f4372a37cde34c9665e5e",
            "640e915a43174d699643a2db7179991b",
            "e83f01dec98f4ac39c65bb4d98cf0b52",
            "2f8b0625cf7b43d3b624d0a8138ac888",
            "cd3023edadb34e34b76652711752868d",
            "6ca4a7b5c0bb46b4a5d9db08e657151d",
            "d716963ee08d4bffbfa68d0c1493c1bc",
            "994a7367686543bfb7046e2fc2a090a9",
            "fd833ab319b14778ae06ef98d9c64eb5",
            "002d724cea77420faaea593e5e31e481",
            "06e78d5b61d34eeb902237b002759c82"
          ]
        }
      },
      "source": [
        "plt.rcParams[\"figure.figsize\"] = (12,5)\n",
        "\n",
        "interact_manual(plot_water_tank_evolution, KP = widgets.FloatSlider(value=2,    min=0.01,\n",
        "                                               max=10,\n",
        "                                               step=0.1),\n",
        "                \n",
        "                Qmax_user = widgets.FloatSlider(value=9,    min=1,\n",
        "                                               max=12,\n",
        "                                               step=0.5),\n",
        "                Td = widgets.IntSlider(value=0,    min=0,\n",
        "                                               max=100,\n",
        "                                               step=1),\n",
        "                Tn = widgets.IntSlider(value=15,    min=0,\n",
        "                                               max=100,\n",
        "                                               step=1),\n",
        "                sim_time = widgets.IntSlider(value=600,    min=50,\n",
        "                                               max=5000,\n",
        "                                               step=50),\n",
        "                 )"
      ],
      "execution_count": 25,
      "outputs": [
        {
          "output_type": "display_data",
          "data": {
            "application/vnd.jupyter.widget-view+json": {
              "model_id": "5323f7e70aeb4a9c89bd43ae909f89fc",
              "version_minor": 0,
              "version_major": 2
            },
            "text/plain": [
              "interactive(children=(FloatSlider(value=2.0, description='KP', max=10.0, min=0.01), FloatSlider(value=9.0, des…"
            ]
          },
          "metadata": {
            "tags": []
          }
        },
        {
          "output_type": "execute_result",
          "data": {
            "text/plain": [
              "<function __main__.plot_water_tank_evolution>"
            ]
          },
          "metadata": {
            "tags": []
          },
          "execution_count": 25
        }
      ]
    },
    {
      "cell_type": "markdown",
      "metadata": {
        "id": "LrQUhe1uXUCx",
        "colab_type": "text"
      },
      "source": [
        "What happens when the derivative component is increased ? When the proportionnal component is increased ? "
      ]
    },
    {
      "cell_type": "code",
      "metadata": {
        "id": "wX-nERcMXUCy",
        "colab_type": "code",
        "colab": {}
      },
      "source": [
        ""
      ],
      "execution_count": 0,
      "outputs": []
    }
  ]
}