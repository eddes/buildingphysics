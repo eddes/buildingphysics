{
  "nbformat": 4,
  "nbformat_minor": 0,
  "metadata": {
    "kernelspec": {
      "display_name": "Python 3",
      "language": "python",
      "name": "python3"
    },
    "language_info": {
      "codemirror_mode": {
        "name": "ipython",
        "version": 3
      },
      "file_extension": ".py",
      "mimetype": "text/x-python",
      "name": "python",
      "nbconvert_exporter": "python",
      "pygments_lexer": "ipython3",
      "version": "3.6.9"
    },
    "colab": {
      "name": "PID_controller.ipynb",
      "provenance": [],
      "include_colab_link": true
    },
    "widgets": {
      "application/vnd.jupyter.widget-state+json": {
        "d1856f335e5c41e08b828f2f923c8e6f": {
          "model_module": "@jupyter-widgets/controls",
          "model_name": "VBoxModel",
          "state": {
            "_view_name": "VBoxView",
            "_dom_classes": [
              "widget-interact"
            ],
            "_model_name": "VBoxModel",
            "_view_module": "@jupyter-widgets/controls",
            "_model_module_version": "1.5.0",
            "_view_count": null,
            "_view_module_version": "1.5.0",
            "box_style": "",
            "layout": "IPY_MODEL_ba33bdeb68c1480798c04b7c79ff996c",
            "_model_module": "@jupyter-widgets/controls",
            "children": [
              "IPY_MODEL_95e9eefab5364db5adf1a71e5b28b170",
              "IPY_MODEL_7ff3b1ec961b4f8da4b7eda0fc5c0ad7",
              "IPY_MODEL_006ba23f2f6c4567a1cf194dfc1b396e",
              "IPY_MODEL_e8e5fccdc0474facb4c5d3f42257a1d5",
              "IPY_MODEL_4492dafdf9474daf82b810265aba9b8d",
              "IPY_MODEL_2f7675a7787d4f03926f0d324a07465c",
              "IPY_MODEL_7d310df67dba4014aea19b31a2b6a6ff"
            ]
          }
        },
        "ba33bdeb68c1480798c04b7c79ff996c": {
          "model_module": "@jupyter-widgets/base",
          "model_name": "LayoutModel",
          "state": {
            "_view_name": "LayoutView",
            "grid_template_rows": null,
            "right": null,
            "justify_content": null,
            "_view_module": "@jupyter-widgets/base",
            "overflow": null,
            "_model_module_version": "1.2.0",
            "_view_count": null,
            "flex_flow": null,
            "width": null,
            "min_width": null,
            "border": null,
            "align_items": null,
            "bottom": null,
            "_model_module": "@jupyter-widgets/base",
            "top": null,
            "grid_column": null,
            "overflow_y": null,
            "overflow_x": null,
            "grid_auto_flow": null,
            "grid_area": null,
            "grid_template_columns": null,
            "flex": null,
            "_model_name": "LayoutModel",
            "justify_items": null,
            "grid_row": null,
            "max_height": null,
            "align_content": null,
            "visibility": null,
            "align_self": null,
            "height": null,
            "min_height": null,
            "padding": null,
            "grid_auto_rows": null,
            "grid_gap": null,
            "max_width": null,
            "order": null,
            "_view_module_version": "1.2.0",
            "grid_template_areas": null,
            "object_position": null,
            "object_fit": null,
            "grid_auto_columns": null,
            "margin": null,
            "display": null,
            "left": null
          }
        },
        "95e9eefab5364db5adf1a71e5b28b170": {
          "model_module": "@jupyter-widgets/controls",
          "model_name": "FloatSliderModel",
          "state": {
            "_view_name": "FloatSliderView",
            "style": "IPY_MODEL_840a45cf2a53463d8f1d594b72a70d1d",
            "_dom_classes": [],
            "description": "KP",
            "step": 0.1,
            "_model_name": "FloatSliderModel",
            "orientation": "horizontal",
            "max": 10,
            "_view_module": "@jupyter-widgets/controls",
            "_model_module_version": "1.5.0",
            "value": 2,
            "_view_count": null,
            "disabled": false,
            "_view_module_version": "1.5.0",
            "min": 0.01,
            "continuous_update": true,
            "readout_format": ".2f",
            "description_tooltip": null,
            "readout": true,
            "_model_module": "@jupyter-widgets/controls",
            "layout": "IPY_MODEL_d1b88656d4a44fcd843708c7e6ff8500"
          }
        },
        "7ff3b1ec961b4f8da4b7eda0fc5c0ad7": {
          "model_module": "@jupyter-widgets/controls",
          "model_name": "FloatSliderModel",
          "state": {
            "_view_name": "FloatSliderView",
            "style": "IPY_MODEL_9aab6c5d36384790a193103acc8f6b50",
            "_dom_classes": [],
            "description": "B_m",
            "step": 1,
            "_model_name": "FloatSliderModel",
            "orientation": "horizontal",
            "max": 15,
            "_view_module": "@jupyter-widgets/controls",
            "_model_module_version": "1.5.0",
            "value": 7,
            "_view_count": null,
            "disabled": false,
            "_view_module_version": "1.5.0",
            "min": 1,
            "continuous_update": true,
            "readout_format": ".2f",
            "description_tooltip": null,
            "readout": true,
            "_model_module": "@jupyter-widgets/controls",
            "layout": "IPY_MODEL_f79cd9a6d2254f25bb43a1be1b0acaa2"
          }
        },
        "006ba23f2f6c4567a1cf194dfc1b396e": {
          "model_module": "@jupyter-widgets/controls",
          "model_name": "IntSliderModel",
          "state": {
            "_view_name": "IntSliderView",
            "style": "IPY_MODEL_2c21cc5a4fc347e38eb9168ee81f0f0c",
            "_dom_classes": [],
            "description": "Tn",
            "step": 1,
            "_model_name": "IntSliderModel",
            "orientation": "horizontal",
            "max": 100,
            "_view_module": "@jupyter-widgets/controls",
            "_model_module_version": "1.5.0",
            "value": 15,
            "_view_count": null,
            "disabled": false,
            "_view_module_version": "1.5.0",
            "min": 0,
            "continuous_update": true,
            "readout_format": "d",
            "description_tooltip": null,
            "readout": true,
            "_model_module": "@jupyter-widgets/controls",
            "layout": "IPY_MODEL_99af57e4e0f441c294029a16557eb37f"
          }
        },
        "e8e5fccdc0474facb4c5d3f42257a1d5": {
          "model_module": "@jupyter-widgets/controls",
          "model_name": "IntSliderModel",
          "state": {
            "_view_name": "IntSliderView",
            "style": "IPY_MODEL_9f7f1b4e515d466286d4503253a61ad7",
            "_dom_classes": [],
            "description": "Td",
            "step": 1,
            "_model_name": "IntSliderModel",
            "orientation": "horizontal",
            "max": 100,
            "_view_module": "@jupyter-widgets/controls",
            "_model_module_version": "1.5.0",
            "value": 0,
            "_view_count": null,
            "disabled": false,
            "_view_module_version": "1.5.0",
            "min": 0,
            "continuous_update": true,
            "readout_format": "d",
            "description_tooltip": null,
            "readout": true,
            "_model_module": "@jupyter-widgets/controls",
            "layout": "IPY_MODEL_2391b204dfdf47c6b0b05b610cec0dc5"
          }
        },
        "4492dafdf9474daf82b810265aba9b8d": {
          "model_module": "@jupyter-widgets/controls",
          "model_name": "IntSliderModel",
          "state": {
            "_view_name": "IntSliderView",
            "style": "IPY_MODEL_6c8c2b5b54564d72bf638b157499b82a",
            "_dom_classes": [],
            "description": "sim_time",
            "step": 50,
            "_model_name": "IntSliderModel",
            "orientation": "horizontal",
            "max": 5000,
            "_view_module": "@jupyter-widgets/controls",
            "_model_module_version": "1.5.0",
            "value": 600,
            "_view_count": null,
            "disabled": false,
            "_view_module_version": "1.5.0",
            "min": 50,
            "continuous_update": true,
            "readout_format": "d",
            "description_tooltip": null,
            "readout": true,
            "_model_module": "@jupyter-widgets/controls",
            "layout": "IPY_MODEL_005ece0b77bf44208930ede11c722d6f"
          }
        },
        "2f7675a7787d4f03926f0d324a07465c": {
          "model_module": "@jupyter-widgets/controls",
          "model_name": "ButtonModel",
          "state": {
            "_view_name": "ButtonView",
            "style": "IPY_MODEL_47f82f8928bd442998f80b470931289a",
            "_dom_classes": [],
            "description": "Run Interact",
            "_model_name": "ButtonModel",
            "button_style": "",
            "_view_module": "@jupyter-widgets/controls",
            "_model_module_version": "1.5.0",
            "tooltip": "",
            "_view_count": null,
            "disabled": false,
            "_view_module_version": "1.5.0",
            "layout": "IPY_MODEL_58044e4bae9b48df924725a5388d4234",
            "_model_module": "@jupyter-widgets/controls",
            "icon": ""
          }
        },
        "7d310df67dba4014aea19b31a2b6a6ff": {
          "model_module": "@jupyter-widgets/output",
          "model_name": "OutputModel",
          "state": {
            "_view_name": "OutputView",
            "msg_id": "",
            "_dom_classes": [],
            "_model_name": "OutputModel",
            "outputs": [
              {
                "output_type": "display_data",
                "metadata": {
                  "tags": [],
                  "needs_background": "light"
                },
                "image/png": "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\n",
                "text/plain": "<Figure size 864x360 with 2 Axes>"
              }
            ],
            "_view_module": "@jupyter-widgets/output",
            "_model_module_version": "1.0.0",
            "_view_count": null,
            "_view_module_version": "1.0.0",
            "layout": "IPY_MODEL_0cb63705d1394b048926b16413696469",
            "_model_module": "@jupyter-widgets/output"
          }
        },
        "840a45cf2a53463d8f1d594b72a70d1d": {
          "model_module": "@jupyter-widgets/controls",
          "model_name": "SliderStyleModel",
          "state": {
            "_view_name": "StyleView",
            "handle_color": null,
            "_model_name": "SliderStyleModel",
            "description_width": "",
            "_view_module": "@jupyter-widgets/base",
            "_model_module_version": "1.5.0",
            "_view_count": null,
            "_view_module_version": "1.2.0",
            "_model_module": "@jupyter-widgets/controls"
          }
        },
        "d1b88656d4a44fcd843708c7e6ff8500": {
          "model_module": "@jupyter-widgets/base",
          "model_name": "LayoutModel",
          "state": {
            "_view_name": "LayoutView",
            "grid_template_rows": null,
            "right": null,
            "justify_content": null,
            "_view_module": "@jupyter-widgets/base",
            "overflow": null,
            "_model_module_version": "1.2.0",
            "_view_count": null,
            "flex_flow": null,
            "width": null,
            "min_width": null,
            "border": null,
            "align_items": null,
            "bottom": null,
            "_model_module": "@jupyter-widgets/base",
            "top": null,
            "grid_column": null,
            "overflow_y": null,
            "overflow_x": null,
            "grid_auto_flow": null,
            "grid_area": null,
            "grid_template_columns": null,
            "flex": null,
            "_model_name": "LayoutModel",
            "justify_items": null,
            "grid_row": null,
            "max_height": null,
            "align_content": null,
            "visibility": null,
            "align_self": null,
            "height": null,
            "min_height": null,
            "padding": null,
            "grid_auto_rows": null,
            "grid_gap": null,
            "max_width": null,
            "order": null,
            "_view_module_version": "1.2.0",
            "grid_template_areas": null,
            "object_position": null,
            "object_fit": null,
            "grid_auto_columns": null,
            "margin": null,
            "display": null,
            "left": null
          }
        },
        "9aab6c5d36384790a193103acc8f6b50": {
          "model_module": "@jupyter-widgets/controls",
          "model_name": "SliderStyleModel",
          "state": {
            "_view_name": "StyleView",
            "handle_color": null,
            "_model_name": "SliderStyleModel",
            "description_width": "",
            "_view_module": "@jupyter-widgets/base",
            "_model_module_version": "1.5.0",
            "_view_count": null,
            "_view_module_version": "1.2.0",
            "_model_module": "@jupyter-widgets/controls"
          }
        },
        "f79cd9a6d2254f25bb43a1be1b0acaa2": {
          "model_module": "@jupyter-widgets/base",
          "model_name": "LayoutModel",
          "state": {
            "_view_name": "LayoutView",
            "grid_template_rows": null,
            "right": null,
            "justify_content": null,
            "_view_module": "@jupyter-widgets/base",
            "overflow": null,
            "_model_module_version": "1.2.0",
            "_view_count": null,
            "flex_flow": null,
            "width": null,
            "min_width": null,
            "border": null,
            "align_items": null,
            "bottom": null,
            "_model_module": "@jupyter-widgets/base",
            "top": null,
            "grid_column": null,
            "overflow_y": null,
            "overflow_x": null,
            "grid_auto_flow": null,
            "grid_area": null,
            "grid_template_columns": null,
            "flex": null,
            "_model_name": "LayoutModel",
            "justify_items": null,
            "grid_row": null,
            "max_height": null,
            "align_content": null,
            "visibility": null,
            "align_self": null,
            "height": null,
            "min_height": null,
            "padding": null,
            "grid_auto_rows": null,
            "grid_gap": null,
            "max_width": null,
            "order": null,
            "_view_module_version": "1.2.0",
            "grid_template_areas": null,
            "object_position": null,
            "object_fit": null,
            "grid_auto_columns": null,
            "margin": null,
            "display": null,
            "left": null
          }
        },
        "2c21cc5a4fc347e38eb9168ee81f0f0c": {
          "model_module": "@jupyter-widgets/controls",
          "model_name": "SliderStyleModel",
          "state": {
            "_view_name": "StyleView",
            "handle_color": null,
            "_model_name": "SliderStyleModel",
            "description_width": "",
            "_view_module": "@jupyter-widgets/base",
            "_model_module_version": "1.5.0",
            "_view_count": null,
            "_view_module_version": "1.2.0",
            "_model_module": "@jupyter-widgets/controls"
          }
        },
        "99af57e4e0f441c294029a16557eb37f": {
          "model_module": "@jupyter-widgets/base",
          "model_name": "LayoutModel",
          "state": {
            "_view_name": "LayoutView",
            "grid_template_rows": null,
            "right": null,
            "justify_content": null,
            "_view_module": "@jupyter-widgets/base",
            "overflow": null,
            "_model_module_version": "1.2.0",
            "_view_count": null,
            "flex_flow": null,
            "width": null,
            "min_width": null,
            "border": null,
            "align_items": null,
            "bottom": null,
            "_model_module": "@jupyter-widgets/base",
            "top": null,
            "grid_column": null,
            "overflow_y": null,
            "overflow_x": null,
            "grid_auto_flow": null,
            "grid_area": null,
            "grid_template_columns": null,
            "flex": null,
            "_model_name": "LayoutModel",
            "justify_items": null,
            "grid_row": null,
            "max_height": null,
            "align_content": null,
            "visibility": null,
            "align_self": null,
            "height": null,
            "min_height": null,
            "padding": null,
            "grid_auto_rows": null,
            "grid_gap": null,
            "max_width": null,
            "order": null,
            "_view_module_version": "1.2.0",
            "grid_template_areas": null,
            "object_position": null,
            "object_fit": null,
            "grid_auto_columns": null,
            "margin": null,
            "display": null,
            "left": null
          }
        },
        "9f7f1b4e515d466286d4503253a61ad7": {
          "model_module": "@jupyter-widgets/controls",
          "model_name": "SliderStyleModel",
          "state": {
            "_view_name": "StyleView",
            "handle_color": null,
            "_model_name": "SliderStyleModel",
            "description_width": "",
            "_view_module": "@jupyter-widgets/base",
            "_model_module_version": "1.5.0",
            "_view_count": null,
            "_view_module_version": "1.2.0",
            "_model_module": "@jupyter-widgets/controls"
          }
        },
        "2391b204dfdf47c6b0b05b610cec0dc5": {
          "model_module": "@jupyter-widgets/base",
          "model_name": "LayoutModel",
          "state": {
            "_view_name": "LayoutView",
            "grid_template_rows": null,
            "right": null,
            "justify_content": null,
            "_view_module": "@jupyter-widgets/base",
            "overflow": null,
            "_model_module_version": "1.2.0",
            "_view_count": null,
            "flex_flow": null,
            "width": null,
            "min_width": null,
            "border": null,
            "align_items": null,
            "bottom": null,
            "_model_module": "@jupyter-widgets/base",
            "top": null,
            "grid_column": null,
            "overflow_y": null,
            "overflow_x": null,
            "grid_auto_flow": null,
            "grid_area": null,
            "grid_template_columns": null,
            "flex": null,
            "_model_name": "LayoutModel",
            "justify_items": null,
            "grid_row": null,
            "max_height": null,
            "align_content": null,
            "visibility": null,
            "align_self": null,
            "height": null,
            "min_height": null,
            "padding": null,
            "grid_auto_rows": null,
            "grid_gap": null,
            "max_width": null,
            "order": null,
            "_view_module_version": "1.2.0",
            "grid_template_areas": null,
            "object_position": null,
            "object_fit": null,
            "grid_auto_columns": null,
            "margin": null,
            "display": null,
            "left": null
          }
        },
        "6c8c2b5b54564d72bf638b157499b82a": {
          "model_module": "@jupyter-widgets/controls",
          "model_name": "SliderStyleModel",
          "state": {
            "_view_name": "StyleView",
            "handle_color": null,
            "_model_name": "SliderStyleModel",
            "description_width": "",
            "_view_module": "@jupyter-widgets/base",
            "_model_module_version": "1.5.0",
            "_view_count": null,
            "_view_module_version": "1.2.0",
            "_model_module": "@jupyter-widgets/controls"
          }
        },
        "005ece0b77bf44208930ede11c722d6f": {
          "model_module": "@jupyter-widgets/base",
          "model_name": "LayoutModel",
          "state": {
            "_view_name": "LayoutView",
            "grid_template_rows": null,
            "right": null,
            "justify_content": null,
            "_view_module": "@jupyter-widgets/base",
            "overflow": null,
            "_model_module_version": "1.2.0",
            "_view_count": null,
            "flex_flow": null,
            "width": null,
            "min_width": null,
            "border": null,
            "align_items": null,
            "bottom": null,
            "_model_module": "@jupyter-widgets/base",
            "top": null,
            "grid_column": null,
            "overflow_y": null,
            "overflow_x": null,
            "grid_auto_flow": null,
            "grid_area": null,
            "grid_template_columns": null,
            "flex": null,
            "_model_name": "LayoutModel",
            "justify_items": null,
            "grid_row": null,
            "max_height": null,
            "align_content": null,
            "visibility": null,
            "align_self": null,
            "height": null,
            "min_height": null,
            "padding": null,
            "grid_auto_rows": null,
            "grid_gap": null,
            "max_width": null,
            "order": null,
            "_view_module_version": "1.2.0",
            "grid_template_areas": null,
            "object_position": null,
            "object_fit": null,
            "grid_auto_columns": null,
            "margin": null,
            "display": null,
            "left": null
          }
        },
        "47f82f8928bd442998f80b470931289a": {
          "model_module": "@jupyter-widgets/controls",
          "model_name": "ButtonStyleModel",
          "state": {
            "_view_name": "StyleView",
            "_model_name": "ButtonStyleModel",
            "_view_module": "@jupyter-widgets/base",
            "_model_module_version": "1.5.0",
            "_view_count": null,
            "button_color": null,
            "font_weight": "",
            "_view_module_version": "1.2.0",
            "_model_module": "@jupyter-widgets/controls"
          }
        },
        "58044e4bae9b48df924725a5388d4234": {
          "model_module": "@jupyter-widgets/base",
          "model_name": "LayoutModel",
          "state": {
            "_view_name": "LayoutView",
            "grid_template_rows": null,
            "right": null,
            "justify_content": null,
            "_view_module": "@jupyter-widgets/base",
            "overflow": null,
            "_model_module_version": "1.2.0",
            "_view_count": null,
            "flex_flow": null,
            "width": null,
            "min_width": null,
            "border": null,
            "align_items": null,
            "bottom": null,
            "_model_module": "@jupyter-widgets/base",
            "top": null,
            "grid_column": null,
            "overflow_y": null,
            "overflow_x": null,
            "grid_auto_flow": null,
            "grid_area": null,
            "grid_template_columns": null,
            "flex": null,
            "_model_name": "LayoutModel",
            "justify_items": null,
            "grid_row": null,
            "max_height": null,
            "align_content": null,
            "visibility": null,
            "align_self": null,
            "height": null,
            "min_height": null,
            "padding": null,
            "grid_auto_rows": null,
            "grid_gap": null,
            "max_width": null,
            "order": null,
            "_view_module_version": "1.2.0",
            "grid_template_areas": null,
            "object_position": null,
            "object_fit": null,
            "grid_auto_columns": null,
            "margin": null,
            "display": null,
            "left": null
          }
        },
        "0cb63705d1394b048926b16413696469": {
          "model_module": "@jupyter-widgets/base",
          "model_name": "LayoutModel",
          "state": {
            "_view_name": "LayoutView",
            "grid_template_rows": null,
            "right": null,
            "justify_content": null,
            "_view_module": "@jupyter-widgets/base",
            "overflow": null,
            "_model_module_version": "1.2.0",
            "_view_count": null,
            "flex_flow": null,
            "width": null,
            "min_width": null,
            "border": null,
            "align_items": null,
            "bottom": null,
            "_model_module": "@jupyter-widgets/base",
            "top": null,
            "grid_column": null,
            "overflow_y": null,
            "overflow_x": null,
            "grid_auto_flow": null,
            "grid_area": null,
            "grid_template_columns": null,
            "flex": null,
            "_model_name": "LayoutModel",
            "justify_items": null,
            "grid_row": null,
            "max_height": null,
            "align_content": null,
            "visibility": null,
            "align_self": null,
            "height": null,
            "min_height": null,
            "padding": null,
            "grid_auto_rows": null,
            "grid_gap": null,
            "max_width": null,
            "order": null,
            "_view_module_version": "1.2.0",
            "grid_template_areas": null,
            "object_position": null,
            "object_fit": null,
            "grid_auto_columns": null,
            "margin": null,
            "display": null,
            "left": null
          }
        }
      }
    }
  },
  "cells": [
    {
      "cell_type": "markdown",
      "metadata": {
        "id": "view-in-github",
        "colab_type": "text"
      },
      "source": [
        "<a href=\"https://colab.research.google.com/github/eddes/buildingphysics/blob/feature%2Fpipenv_and_notebooks/notebooks/chapter_2/PID_controller.ipynb\" target=\"_parent\"><img src=\"https://colab.research.google.com/assets/colab-badge.svg\" alt=\"Open In Colab\"/></a>"
      ]
    },
    {
      "cell_type": "markdown",
      "metadata": {
        "id": "IbWClBLVXUB3",
        "colab_type": "text"
      },
      "source": [
        "# PID controller\n",
        "\n",
        "An illustration of Proportional-Integral-Derivative controler. In this example, a water draining tank has its water volum controled by a PID. The associated equations are detailed in the book in 3.1.\n",
        "\n",
        "The water height in the tank follows the equation 2.24 :\n",
        "$ h_+ = h + \\frac{\\Delta t}{S_r} (Q - S_s \\sqrt{2gh})$  with $Q$ the water inflow controled by the PID, $S_r$ the tank surface, $S_s$ the outlet surface."
      ]
    },
    {
      "cell_type": "markdown",
      "metadata": {
        "id": "7nrcVnT0XUB5",
        "colab_type": "text"
      },
      "source": [
        "Some dependencies import and plot color definition.\n",
        "\n"
      ]
    },
    {
      "cell_type": "code",
      "metadata": {
        "id": "6hvMkK4pXUB7",
        "colab_type": "code",
        "colab": {}
      },
      "source": [
        "import numpy as np\n",
        "import matplotlib.pyplot as plt\n",
        "import math\n",
        "from ipywidgets import interact, interactive, fixed, interact_manual\n",
        "import ipywidgets as widgets\n",
        "rouge_A='#C60C2E'\n",
        "vert1_A='#005157'\n",
        "vert2_A='#627D77'\n",
        "vert3_A='#9EB28F'\n",
        "vert4_A='#C5E5A4'\n",
        "medblue='royalblue'\n",
        "gris1_A='#595A5C'\n",
        "\n",
        "colors=[rouge_A, vert1_A, vert2_A, vert3_A, vert4_A, medblue, gris1_A]"
      ],
      "execution_count": 0,
      "outputs": []
    },
    {
      "cell_type": "markdown",
      "metadata": {
        "id": "3IX4C1ndXUCG",
        "colab_type": "text"
      },
      "source": [
        "Helper function to modelize the valve behavior.\n"
      ]
    },
    {
      "cell_type": "code",
      "metadata": {
        "id": "FZ9_RVzsXUCI",
        "colab_type": "code",
        "colab": {}
      },
      "source": [
        "def fc_valve_curve(characteristic, valve_pos,Qmax):\n",
        "    if characteristic == \"linear\":\n",
        "        Qalim = Qmax * valve_pos\n",
        "    elif characteristic == \"equal_pct\":\n",
        "        Qalim = Qmax * np.exp(3.5 * (valve_pos - 1))\n",
        "    elif characteristic == \"quadratic\":\n",
        "        Qalim = Qmax * valve_pos**2\n",
        "    return Qalim"
      ],
      "execution_count": 0,
      "outputs": []
    },
    {
      "cell_type": "markdown",
      "metadata": {
        "id": "YKKjhtA-XUCO",
        "colab_type": "text"
      },
      "source": [
        "Constant definitions and valve model selection.\n"
      ]
    },
    {
      "cell_type": "code",
      "metadata": {
        "id": "ndtuo-qeXUCP",
        "colab_type": "code",
        "colab": {
          "base_uri": "https://localhost:8080/",
          "height": 34
        },
        "outputId": "a49f7e27-17f4-4c3d-e2ac-1e3e040833df"
      },
      "source": [
        "\n",
        "#valve characteristic =\"equal_pct\" or \"quadratic\" or \"linear\"\n",
        "characteristic=\"linear\" \n",
        "\n",
        "# Geometrical data\n",
        "Pi = math.pi # pi approximation\n",
        "Dr = 1 #m the tank diameter\n",
        "Ds = 0.04 #m the water outlet diameter\n",
        "Sr = Pi * Dr**2 / 4 #m² tank surface \n",
        "Ss = Pi * Ds**2 / 4 #m² water outlet surface\n",
        "H0 = 1 #m tank height\n",
        "\n",
        "B = Ss / Sr * np.sqrt(2 * 9.81) # B, constant in the equation\n"
      ],
      "execution_count": 3,
      "outputs": [
        {
          "output_type": "stream",
          "text": [
            "0.007087115068912033\n"
          ],
          "name": "stdout"
        }
      ]
    },
    {
      "cell_type": "markdown",
      "metadata": {
        "id": "J9O5j0MzXUCW",
        "colab_type": "text"
      },
      "source": [
        "The PID is defined by gains for proportionnal, derivative and integral corrections. Initial values are also setup for the simulation."
      ]
    },
    {
      "cell_type": "code",
      "metadata": {
        "id": "ae_dROLVXUCX",
        "colab_type": "code",
        "colab": {}
      },
      "source": [
        "# PID parameters\n",
        "prop_band = 0.5 # m\n",
        "KP = 1 / prop_band # proportional gain \n",
        "Tn = 15 # Integration time\n",
        "Td = 0 # Derivation time\n",
        "\n",
        "Qmax = 10 # L/s supply flowrate\n",
        "Qmax = Qmax / 1000 #conversion to m3/s\n",
        "\n",
        "# initial values\n",
        "h = H0 #m, reference water height value\n",
        "Qalim = 0  # initial value for inflow rate\n",
        "sim_time= 600 # simulation duration s\n",
        "\n",
        "# time and timestep\n",
        "t = 0\n",
        "dt = 0.05 # [s] time stem /sampling rate\n",
        "\n",
        "#Reset values\n",
        "sum_error = 0\n",
        "delta_error = 0\n",
        "valve_position = 0\n",
        "deltaT_previous = 0\n",
        "\n",
        "pcent_P,pcent_I,pcent_D=[],[],[]\n",
        "time,height=[],[]\n",
        "v_pos=[]"
      ],
      "execution_count": 0,
      "outputs": []
    },
    {
      "cell_type": "markdown",
      "metadata": {
        "id": "N22QNFYPXUCc",
        "colab_type": "text"
      },
      "source": [
        "For each timestep, the proportionnal, derivative and integral action are computed. The equation has been transformed as : \n",
        "$ h_+ = h + dt (A - B \\sqrt{h})$ with $A =  \\frac{Q}{S_r}$ and $B =  \\frac{S_s  \\sqrt{2g}}{Sr}$ .\n",
        "\n",
        "Given the error $e$, difference between the measure output\n",
        "\n",
        "- Proportionnal error is defined as $P_e(t+dt) = H_0 - h(t)$\n",
        "- Integral error is defined as $I_e(t+dt) = \\frac{dt}{Tn} (H_0 - h(t)) + I_e(t)$\n",
        "- Derivative error is defined as $D_e(t+dt) = \\frac{(H_0 - h(t)) - D_e(t)}{dt} $\n"
      ]
    },
    {
      "cell_type": "code",
      "metadata": {
        "id": "swoqE28ZXUCd",
        "colab_type": "code",
        "colab": {}
      },
      "source": [
        "#Euler explicit for water height\n",
        "A = Qalim / Sr #compute A \n",
        "h = dt * (A - B * np.sqrt(h)) + h\n",
        "#proportionnal error\n",
        "prop_error = (H0 - h)\n",
        "#integral error\n",
        "sum_error = dt / Tn * prop_error + sum_error\n",
        "#derivative error\n",
        "delta_error = Td * (prop_error - deltaT_previous) / dt\n",
        "#computation of the valve position with PID\n",
        "valve_position = KP * (prop_error + sum_error +  delta_error)\n"
      ],
      "execution_count": 0,
      "outputs": []
    },
    {
      "cell_type": "markdown",
      "metadata": {
        "id": "RdvizAe8XUCj",
        "colab_type": "text"
      },
      "source": [
        "The valve opening value is then updated."
      ]
    },
    {
      "cell_type": "code",
      "metadata": {
        "id": "u6OwG-8_XUCk",
        "colab_type": "code",
        "colab": {}
      },
      "source": [
        "if valve_position < 0:\n",
        "    valve_position = 0\n",
        "    Qalim = 0\n",
        "elif valve_position > 1:\n",
        "    valve_position = 1\n",
        "    Qalim = Qmax\n",
        "else:\n",
        "    Qalim=fc_valve_curve(characteristic, valve_position,Qmax)"
      ],
      "execution_count": 0,
      "outputs": []
    },
    {
      "cell_type": "markdown",
      "metadata": {
        "id": "_U_xkaXBXUCo",
        "colab_type": "text"
      },
      "source": [
        "An interactive plot is available here with PID gain and B_m (=B x 1000) value to be modified. As a reminder,\n",
        "$B $ is proportionnel to $ S_s/S_r$.\n",
        "Integral and derivative components of the PID can also be modified with the edition of Tn and Td values."
      ]
    },
    {
      "cell_type": "code",
      "metadata": {
        "id": "q23IuOKWXUCo",
        "colab_type": "code",
        "colab": {}
      },
      "source": [
        "def plot_water_tank_evolution(KP, B_m,Tn,Td, sim_time,):\n",
        "    H0 = 1\n",
        "    h = H0\n",
        "    Qalim = 0  # initial value for inflow rate\n",
        "    B = B_m / 1000\n",
        "    # time and timestep\n",
        "    t = 0\n",
        "    dt = 0.05 # [s] time stem /sampling rate\n",
        "\n",
        "    #Reset values\n",
        "    sum_error = 0\n",
        "    delta_error = 0\n",
        "    valve_position = 0\n",
        "    deltaT_previous = 0\n",
        "\n",
        "    pcent_P,pcent_I,pcent_D=[],[],[]\n",
        "    time,height=[],[]\n",
        "    v_pos=[]\n",
        "    while t <= sim_time:\n",
        "        #Euler explicit for water height\n",
        "        A = Qalim / Sr #compute A \n",
        "        h = dt * (A - B * np.sqrt(h)) + h\n",
        "        #proportionnal error\n",
        "        prop_error = (H0 - h)\n",
        "        #integral error\n",
        "        sum_error = dt / Tn * prop_error + sum_error\n",
        "        #derivative error\n",
        "        delta_error = Td * (prop_error - deltaT_previous) / dt\n",
        "        #computation of the valve position with PID\n",
        "        valve_position = KP * (prop_error + sum_error +  delta_error)\n",
        "\n",
        "        #Control for valve opening\n",
        "        if valve_position < 0:\n",
        "            valve_position = 0\n",
        "            Qalim = 0\n",
        "        elif valve_position > 1:\n",
        "            valve_position = 1\n",
        "            Qalim = Qmax\n",
        "        else:\n",
        "            Qalim=fc_valve_curve(characteristic, valve_position,Qmax)\n",
        "        v_pos.append(valve_position)\n",
        "        # let's see and plot who does what at each time step\n",
        "        if valve_position > 0:\n",
        "            pcent_P.append(abs (prop_error) * KP / valve_position)\n",
        "            pcent_I.append( sum_error + KP * prop_error * (dt / Tn) / valve_position)\n",
        "            pcent_D.append(KP * ( delta_error ) / valve_position)\n",
        "        else:\n",
        "            pcent_P.append(0)\n",
        "            pcent_I.append(0)\n",
        "            pcent_D.append(0)\n",
        "        deltaT_previous = prop_error\n",
        "        t+=dt\n",
        "        time.append(t)\n",
        "        height.append(h)\n",
        "\n",
        "    plt.subplot(121)\n",
        "    plt.xlabel(\"Time [s]\")\n",
        "    plt.ylabel(\"Water height [m]\")\n",
        "    plt.plot(time, height,color=colors[-2],linestyle=\"-\",alpha=1,marker='')\n",
        "    plt.plot(time, np.ones(len(time))*H0,color=colors[-1],linestyle=\"--\",alpha=0.85,marker='')\n",
        "\n",
        "    plt.subplot(122)\n",
        "    plt.xlabel(\"Time [s]\")\n",
        "    plt.ylabel(\"Share of P, I and D in the valve opening [-]\")\n",
        "    plt.plot(time, pcent_P,color=colors[0],linestyle=\"-\",alpha=1,marker='',label=\"P\")\n",
        "    plt.plot(time, pcent_I,color=colors[1],linestyle=\"-\",alpha=1,marker='',label=\"I\")\n",
        "    if Td != 0:\n",
        "        plt.plot(time, pcent_D,color=colors[2],linestyle=\"-\",alpha=1,marker='',label=\"D\")\n",
        "    plt.plot(time, v_pos,color=colors[-1],linestyle=\"--\",alpha=0.95,marker='',label=\"valve position\")\n",
        "\n",
        "    plt.legend()\n",
        "    plt.tight_layout()"
      ],
      "execution_count": 0,
      "outputs": []
    },
    {
      "cell_type": "code",
      "metadata": {
        "id": "J0wUbQ6KXUCt",
        "colab_type": "code",
        "colab": {
          "base_uri": "https://localhost:8080/",
          "height": 578,
          "referenced_widgets": [
            "d1856f335e5c41e08b828f2f923c8e6f",
            "ba33bdeb68c1480798c04b7c79ff996c",
            "95e9eefab5364db5adf1a71e5b28b170",
            "7ff3b1ec961b4f8da4b7eda0fc5c0ad7",
            "006ba23f2f6c4567a1cf194dfc1b396e",
            "e8e5fccdc0474facb4c5d3f42257a1d5",
            "4492dafdf9474daf82b810265aba9b8d",
            "2f7675a7787d4f03926f0d324a07465c",
            "7d310df67dba4014aea19b31a2b6a6ff",
            "840a45cf2a53463d8f1d594b72a70d1d",
            "d1b88656d4a44fcd843708c7e6ff8500",
            "9aab6c5d36384790a193103acc8f6b50",
            "f79cd9a6d2254f25bb43a1be1b0acaa2",
            "2c21cc5a4fc347e38eb9168ee81f0f0c",
            "99af57e4e0f441c294029a16557eb37f",
            "9f7f1b4e515d466286d4503253a61ad7",
            "2391b204dfdf47c6b0b05b610cec0dc5",
            "6c8c2b5b54564d72bf638b157499b82a",
            "005ece0b77bf44208930ede11c722d6f",
            "47f82f8928bd442998f80b470931289a",
            "58044e4bae9b48df924725a5388d4234",
            "0cb63705d1394b048926b16413696469"
          ]
        },
        "outputId": "c8099e4c-7156-4105-d689-8f00089a42a5"
      },
      "source": [
        "plt.rcParams[\"figure.figsize\"] = (12,5)\n",
        "\n",
        "interact_manual(plot_water_tank_evolution, KP = widgets.FloatSlider(value=2,    min=0.01,\n",
        "                                               max=10,\n",
        "                                               step=0.1),\n",
        "                \n",
        "                B_m = widgets.FloatSlider(value=7,    min=1,\n",
        "                                               max=15,\n",
        "                                               step=1),\n",
        "                Td = widgets.IntSlider(value=0,    min=0,\n",
        "                                               max=100,\n",
        "                                               step=1),\n",
        "                Tn = widgets.IntSlider(value=15,    min=0,\n",
        "                                               max=100,\n",
        "                                               step=1),\n",
        "                sim_time = widgets.IntSlider(value=600,    min=50,\n",
        "                                               max=5000,\n",
        "                                               step=50),\n",
        "                 )"
      ],
      "execution_count": 8,
      "outputs": [
        {
          "output_type": "display_data",
          "data": {
            "application/vnd.jupyter.widget-view+json": {
              "model_id": "d1856f335e5c41e08b828f2f923c8e6f",
              "version_minor": 0,
              "version_major": 2
            },
            "text/plain": [
              "interactive(children=(FloatSlider(value=2.0, description='KP', max=10.0, min=0.01), FloatSlider(value=7.0, des…"
            ]
          },
          "metadata": {
            "tags": []
          }
        },
        {
          "output_type": "execute_result",
          "data": {
            "text/plain": [
              "<function __main__.plot_water_tank_evolution>"
            ]
          },
          "metadata": {
            "tags": []
          },
          "execution_count": 8
        }
      ]
    },
    {
      "cell_type": "markdown",
      "metadata": {
        "id": "LrQUhe1uXUCx",
        "colab_type": "text"
      },
      "source": [
        "What happens when the derivative component is increased ? When the proportionnal component is increased ? "
      ]
    },
    {
      "cell_type": "code",
      "metadata": {
        "id": "wX-nERcMXUCy",
        "colab_type": "code",
        "colab": {}
      },
      "source": [
        ""
      ],
      "execution_count": 0,
      "outputs": []
    }
  ]
}