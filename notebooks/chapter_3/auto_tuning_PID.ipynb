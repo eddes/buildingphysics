{
  "nbformat": 4,
  "nbformat_minor": 0,
  "metadata": {
    "kernelspec": {
      "display_name": "Python 3",
      "language": "python",
      "name": "python3"
    },
    "language_info": {
      "codemirror_mode": {
        "name": "ipython",
        "version": 3
      },
      "file_extension": ".py",
      "mimetype": "text/x-python",
      "name": "python",
      "nbconvert_exporter": "python",
      "pygments_lexer": "ipython3",
      "version": "3.6.9"
    },
    "pycharm": {
      "stem_cell": {
        "cell_type": "raw",
        "metadata": {
          "collapsed": false
        },
        "source": [
          "# quelques couleurs\n",
          "rouge_A = '#C60C2E'\n",
          "vert1_A = '#005157'\n",
          "vert2_A = '#627D77'\n",
          "vert3_A = '#9EB28F'\n",
          "vert4_A = '#C5E5A4'\n",
          "medblue = 'royalblue'\n",
          "gris1_A = '#595A5C'\n",
          "coule = [rouge_A, vert1_A, vert2_A, vert3_A, vert4_A, medblue, gris1_A]\n",
          "import numpy as np\n",
          "import matplotlib.pyplot as plt\n",
          "from scipy.optimize import fsolve\n",
          "from scipy.optimize import minimize\n",
          "\n",
          "\n",
          "# solve for the water height with Crank-Nicolson's scheme\n",
          "def fc_CN(hp, h, dt, A, B):\n",
          "    return -hp + h + 0.5 * (dt * (A - B * np.sqrt(h))) + 0.5 * (dt * (A - B * np.sqrt(hp)))\n",
          "# a function to chose the shape of the valve curve\n",
          "def fc_valve_curve(characteristic, valve_pos, Qmax):\n",
          "\tif characteristic == \"linear\":\n",
          "\t\tQsupply = Qmax * valve_pos\n",
          "\telif characteristic == \"equal_pct\":\n",
          "\t\tQsupply = Qmax * np.exp(3.5 * (valve_pos - 1))\n",
          "\telif characteristic == \"quadratic\":\n",
          "\t\tQsupply = Qmax * valve_pos ** 2\n",
          "\treturn Qsupply\n",
          "\n",
          "characteristic = \"linear\"\n",
          "# characteristic=\"equal_pct\"\n",
          "# characteristics=\"quadratic\"\n",
          "\n",
          "# Geometrical data\n",
          "Pi = 3.14159269  # pi\n",
          "Dr = 1  # m tank diameter\n",
          "Ds = 0.04  # m outlet diameter\n",
          "Sr = Pi * Dr ** 2 / 4  # m2 tank surface\n",
          "Ss = Pi * Ds ** 2 / 4  # m2 outlet surface\n",
          "H0 = 1  # m tank height\n",
          "\n",
          "# PID parameters\n",
          "prop_band = 0.5  # m proportional band\n",
          "Kp = 1 / prop_band  # gain\n",
          "Tn = 500  # integration time\n",
          "Td = 0  # derivation time\n",
          "Qmax = 15  # max flow rate L/s\n",
          "Qmax = Qmax / 1000  # conversion to m3/s\n",
          "f_init = 0.\n",
          "# time and timestep\n",
          "t = 0\n",
          "dt = 0.5  # [s] time step /sampling rate\n",
          "B = Ss / Sr * np.sqrt(2 * 9.81)  # precompute B, constant in the equation for h\n",
          "\n",
          "# the function to be minimised\n",
          "def run_pid_simulation(pid_params):\n",
          "\n",
          "\tBP, Tn, Td = pid_params[0], pid_params[1], pid_params[2] # get the PID's parameters\n",
          "\tKp = 1 / BP\n",
          "\t# initial values\n",
          "\th = f_init * H0  # m height =set point height\n",
          "\tQsupply = 0  # no flow rate initially\n",
          "\tsim_time = 500  # simulation duration s\n",
          "\ttime, height, v_pos = [], [], []\n",
          "\tt = 0\n",
          "\t# Remise à zero des paramètres de calcul de la regulation\n",
          "\tsum_error = 0\n",
          "\tdelta_error = 0\n",
          "\tvalve_position = 0\n",
          "\tdeltaT_previous = 0\n",
          "\twhile t <= sim_time:\n",
          "\t\t# Crank-Nicolson semi-implicit for water height\n",
          "\t\tA = Qsupply / Sr  # compute A\n",
          "\t\th = fsolve(fc_CN, h, args=(h, dt, A, B))[0]\n",
          "\t\t# integral action\n",
          "\t\tsum_error = dt / Tn * (H0 - h) + sum_error\n",
          "\t\t# derivative action\n",
          "\t\tdelta_error = (H0 - h) - deltaT_previous\n",
          "\t\t# computation of the valve position with PID\n",
          "\t\tvalve_position = Kp * ((H0 - h) + sum_error + Td * delta_error / dt)\n",
          "\t\t# Control for valve opening\n",
          "\t\tif valve_position < 0.:\n",
          "\t\t\tvalve_position = 0\n",
          "\t\t\tQsupply = 0\n",
          "\t\telif valve_position > 1:\n",
          "\t\t\tvalve_position = 1\n",
          "\t\t\tQsupply = Qmax\n",
          "\t\telse:\n",
          "\t\t\tQsupply = fc_valve_curve(characteristic, valve_position, Qmax)\n",
          "\t\tdeltaT_previous = H0 - h\n",
          "\t\tt += dt\n",
          "\t\ttime.append(t)\n",
          "\t\theight.append(h)\n",
          "\t\tv_pos.append(valve_position)\n",
          "\tv_pos = np.asarray(v_pos)\n",
          "\theight_set = H0 * np.ones(len(height))\n",
          "\tdiff = np.asarray(height) - height_set\n",
          "\tdiff = abs(diff)\n",
          "\tmean_diff = np.mean(diff)\n",
          "\n",
          "\treturn mean_diff, time, height, v_pos\n",
          "\n",
          "def compute_loss(height, v_pos):\n",
          "\t# penalize the result if\n",
          "\tpenalty = 0\n",
          "\tidx0 = np.where(v_pos == 0)\n",
          "\tif len(idx0[0]) > 10:\n",
          "\t\tpenalty += 100\n",
          "\n",
          "\t# compute gradient\n",
          "\ti = int(len(v_pos) / 2)\n",
          "\tv = v_pos[i:-2]\n",
          "\tvp = v_pos[i + 1:-1]\n",
          "\tmd = np.mean(abs(vp - v))\n",
          "\tif md > 0.02:\n",
          "\t\tpenalty += 100\n",
          "\theight_set = H0 * np.ones(len(height))\n",
          "\tdiff = np.asarray(height) - height_set\n",
          "\tdiff = abs(diff)\n",
          "\tmean_diff = np.mean(diff)\n",
          "\treturn mean_diff + penalty\n",
          "\n",
          "def fc_to_minimize_wloss(x):\n",
          "\t_, _, height, v_pos = run_pid_simulation(x)\n",
          "\treturn compute_loss(height,v_pos)\n",
          "\n",
          "# bounds of the parameters\n",
          "#       prop.band , integration & derivation times\n",
          "bnds = ((0.1, 0.6), (5, 500) , (0.5, 100))\n",
          "\n",
          "k = 0.5 # starting point between the bounds for each parameter\n",
          "x0 = [k * (bnds[0][0] + bnds[0][1]),\n",
          "\t  k * (bnds[1][0] + bnds[1][1]),\n",
          "\t  k * (bnds[2][0] + bnds[2][1])]\n",
          "\n",
          "objective_0, time_0, height_0, v_pos_0 = run_pid_simulation(x0)\n",
          "\n",
          "sol = minimize(fc_to_minimize_wloss, x0, bounds=bnds, method='TNC', tol=1e-3)\n",
          "\n",
          "# let us plot the result\n",
          "BP, Tn, Td = sol.x[0], sol.x[1], sol.x[2]\n",
          "objective, time, height, v_pos = run_pid_simulation([BP, Tn, Td])\n",
          "\n",
          "print(\"BP =\", round(BP, 3))\n",
          "print(\"Tn =\", round(Tn, 1))\n",
          "print(\"Td =\", round(Td, 1))\n",
          "print(\"fc obj =\", round(objective, 3))\n",
          "\n",
          "time = np.asarray(time)\n",
          "time = time - dt\n",
          "\n",
          "plt.xlabel(\"Time [s]\")\n",
          "plt.ylabel(\"Water height [m]\")\n",
          "plt.plot(time, height, color=coule[-2], linestyle=\"-\", alpha=0.75, marker='o', label='optimisation')\n",
          "plt.plot(time, height_0, color=coule[-3], linestyle=\"-\", alpha=0.75, marker='o', label='initial_PID')\n",
          "plt.plot(time, np.ones(len(time)) * H0, color='black', linestyle=\"--\", alpha=0.9985, marker='',label='set water height')\n",
          "\n",
          "plt.legend()\n",
          "plt.tight_layout()\n",
          "plt.show()"
        ]
      }
    },
    "colab": {
      "name": "auto_tuning_PID.ipynb",
      "provenance": [],
      "include_colab_link": true
    }
  },
  "cells": [
    {
      "cell_type": "markdown",
      "metadata": {
        "id": "view-in-github",
        "colab_type": "text"
      },
      "source": [
        "<a href=\"https://colab.research.google.com/github/eddes/buildingphysics/blob/feature%2Fchapter_3_notebooks/notebooks/chapter_3/auto_tuning_PID.ipynb\" target=\"_parent\"><img src=\"https://colab.research.google.com/assets/colab-badge.svg\" alt=\"Open In Colab\"/></a>"
      ]
    },
    {
      "cell_type": "markdown",
      "metadata": {
        "id": "b5oheZfh1XKp",
        "colab_type": "text"
      },
      "source": [
        "## Auto tunning PID\n",
        "\n",
        "In this example, the parameters of a PID controller are tuned using a simple optimization method. This PID controls the water level of a tank. The objectives of this optimization are :\n",
        "\n",
        "- To fill the tank to a water level H as fast as possible\n",
        "- To limit the actions on the valve in order to reduce wear and tear and maintenance\n",
        "\n",
        "Please read the [PID controller](https://github.com/eddes/buildingphysics/blob/master/notebooks/chapter_2/PID_controller.ipynb) notebook beforehand as an introduction.\n"
      ]
    },
    {
      "cell_type": "markdown",
      "metadata": {
        "id": "9bAHTe9M1XKs",
        "colab_type": "text"
      },
      "source": [
        "Usual dependencies imports."
      ]
    },
    {
      "cell_type": "code",
      "metadata": {
        "id": "11Ymhi_R1XKu",
        "colab_type": "code",
        "colab": {}
      },
      "source": [
        "# Some colors\n",
        "rouge_A = '#C60C2E'\n",
        "vert1_A = '#005157'\n",
        "vert2_A = '#627D77'\n",
        "vert3_A = '#9EB28F'\n",
        "vert4_A = '#C5E5A4'\n",
        "medblue = 'royalblue'\n",
        "gris1_A = '#595A5C'\n",
        "coule = [rouge_A, vert1_A, vert2_A, vert3_A, vert4_A, medblue, gris1_A]\n",
        "import numpy as np\n",
        "import matplotlib.pyplot as plt\n",
        "from scipy.optimize import fsolve\n",
        "from scipy.optimize import minimize\n"
      ],
      "execution_count": 0,
      "outputs": []
    },
    {
      "cell_type": "markdown",
      "metadata": {
        "id": "Kn77LGzU1XK3",
        "colab_type": "text"
      },
      "source": [
        "Definition of Crank-Nicolson's scheme applied to this problem. Cf equation (1.32) in the book."
      ]
    },
    {
      "cell_type": "code",
      "metadata": {
        "id": "coAo-_UC1XK5",
        "colab_type": "code",
        "colab": {}
      },
      "source": [
        "# solve for the water height with Crank-Nicolson's scheme\n",
        "def fc_CN(hp, h, dt, A, B):\n",
        "    return -hp + h + 0.5 * (dt * (A - B * np.sqrt(h))) + 0.5 * (dt * (A - B * np.sqrt(hp)))"
      ],
      "execution_count": 0,
      "outputs": []
    },
    {
      "cell_type": "markdown",
      "metadata": {
        "id": "pxy8y6ce1XK_",
        "colab_type": "text"
      },
      "source": [
        "A method to model the behavior of the valve. "
      ]
    },
    {
      "cell_type": "code",
      "metadata": {
        "id": "-qd82jMq1XLA",
        "colab_type": "code",
        "colab": {}
      },
      "source": [
        "# a function to chose the shape of the valve curve\n",
        "def fc_valve_curve(characteristic, valve_pos, Qmax):\n",
        "    if characteristic == \"linear\":\n",
        "        Qsupply = Qmax * valve_pos\n",
        "    elif characteristic == \"equal_pct\":\n",
        "        Qsupply = Qmax * np.exp(3.5 * (valve_pos - 1))\n",
        "    elif characteristic == \"quadratic\":\n",
        "        Qsupply = Qmax * valve_pos ** 2\n",
        "    return Qsupply\n",
        "\n",
        "characteristic = \"linear\"\n",
        "# characteristic=\"equal_pct\"\n",
        "# characteristics=\"quadratic\"\n"
      ],
      "execution_count": 0,
      "outputs": []
    },
    {
      "cell_type": "markdown",
      "metadata": {
        "id": "uk0sGYcf1XLF",
        "colab_type": "text"
      },
      "source": [
        "Definition of geometrical data. Dimension of the tank and initial PID parameters."
      ]
    },
    {
      "cell_type": "code",
      "metadata": {
        "id": "QTDQm9hO1XLG",
        "colab_type": "code",
        "colab": {}
      },
      "source": [
        "# Geometrical data\n",
        "Pi = 3.14159269  # pi\n",
        "Dr = 1  # m tank diameter\n",
        "Ds = 0.04  # m outlet diameter\n",
        "Sr = Pi * Dr ** 2 / 4  # m2 tank surface\n",
        "Ss = Pi * Ds ** 2 / 4  # m2 outlet surface\n",
        "H0 = 1  # m tank height\n",
        "\n",
        "Qmax = 15  # max flow rate L/s\n",
        "Qmax = Qmax / 1000  # conversion to m3/s\n",
        "f_init = 0. # Inital ratio of water in the tank. For f_init = 0, the tank is empty\n",
        "# time and timestep\n",
        "t = 0\n",
        "dt = 0.5  # [s] time step /sampling rate\n",
        "B = Ss / Sr * np.sqrt(2 * 9.81)  # precompute B, constant in the equation for h"
      ],
      "execution_count": 0,
      "outputs": []
    },
    {
      "cell_type": "markdown",
      "metadata": {
        "id": "WIwj_hmC1XLL",
        "colab_type": "text"
      },
      "source": [
        "### Main method for the simulation loop.\n",
        "\n",
        "The objective is defined by the quantity $  \\frac{\\Delta t}{t_{max}} \\left( \\sum_{k=1}^{t_{max}} |h(t)-H| \\right)^2 $, with $\\Delta t$ the timestep, $t_{max}$ maximum simulation time, $h(t)$ the water height at $t$ and $H$ the water height objective. THe faster the water level reaches H (and stays), the smaller the objective quantity will be. \n",
        "\n",
        "To optimize this PID, the `run_pid_simulation` method simulates the PID behavior for a given parameter set. The objective quantity is computed. An additional penalty will be added if the valve is too much used to control the water level. This sum is the quantity to reduce in order to optimize the PID parameters. \n",
        "\n",
        "It has to be noted that each optimization step requires a full simulation to be run. Therefore the `sim_time` should remain limited to reduce computation time and focus on the early PID action. \n",
        "\n",
        "The tank starts empty, without an initial flow rate. "
      ]
    },
    {
      "cell_type": "code",
      "metadata": {
        "id": "rumG6KHm1XLN",
        "colab_type": "code",
        "colab": {}
      },
      "source": [
        "def run_pid_simulation(pid_params):\n",
        "\n",
        "    BP, Tn, Td = pid_params[0], pid_params[1], pid_params[2] # get the PID's parameters\n",
        "    Kp = 1 / BP\n",
        "    # initial values\n",
        "    h = f_init * H0  # m height = set point height\n",
        "    Qsupply = 0  # no flow rate initially\n",
        "    sim_time = 200  # simulation duration s\n",
        "    time, height, v_pos = [], [], []\n",
        "    t = 0\n",
        "    # Parameters init\n",
        "    sum_error = 0\n",
        "    delta_error = 0\n",
        "    valve_position = 0\n",
        "    deltaT_previous = 0\n",
        "    while t <= sim_time:\n",
        "        # Crank-Nicolson semi-implicit for water height\n",
        "        A = Qsupply / Sr  # compute A\n",
        "        h = fsolve(fc_CN, h, args=(h, dt, A, B))[0]\n",
        "        # integral action\n",
        "        sum_error = dt / Tn * (H0 - h) + sum_error\n",
        "        # derivative action\n",
        "        delta_error = (H0 - h) - deltaT_previous\n",
        "        # computation of the valve position with PID\n",
        "        valve_position = Kp * ((H0 - h) + sum_error + Td * delta_error / dt)\n",
        "        # Control for valve opening\n",
        "        if valve_position < 0.:\n",
        "            valve_position = 0\n",
        "            Qsupply = 0\n",
        "        elif valve_position > 1:\n",
        "            valve_position = 1\n",
        "            Qsupply = Qmax\n",
        "        else:\n",
        "            Qsupply = fc_valve_curve(characteristic, valve_position, Qmax)\n",
        "        deltaT_previous = H0 - h\n",
        "        t += dt\n",
        "        time.append(t)\n",
        "        height.append(h)\n",
        "        v_pos.append(valve_position)\n",
        "    v_pos = np.asarray(v_pos)\n",
        "    \n",
        "    # Computation of objective\n",
        "    height_set = H0 * np.ones(len(height))\n",
        "    diff = np.asarray(height) - height_set\n",
        "    diff = abs(diff)\n",
        "    mean_diff = np.mean(diff)\n",
        "\n",
        "    return mean_diff, time, height, v_pos\n"
      ],
      "execution_count": 0,
      "outputs": []
    },
    {
      "cell_type": "markdown",
      "metadata": {
        "id": "U2mgzvYb1XLS",
        "colab_type": "text"
      },
      "source": [
        "### Loss function \n",
        "In addition to the objective quantity, a penalty is added to reduce the valve usage. This sum, also called `loss` is the quantity to be minimized. \n",
        "\n",
        "- The number of occurences the valve was shut during the simulation is counted. If this number is above a given threshold, a penalty is applied.\n",
        "\n",
        "- The second part of the simulation is considered to focus on the PID behavior when the water height H is reached. For each step, the average difference of valve position between two timesteps `|v_pos[i] - v_pos[i+1|` is computed. This quantity is reduced if the valve position variations (e.g oscillations) are reduced. \n",
        "\n",
        "**Nota**  Modifying the penalty values in the `compute_loss` method is an interesting experiment to see the associated effects on the optimization process.\n",
        "- What if the penalty is increased, reduced, negative ?\n"
      ]
    },
    {
      "cell_type": "code",
      "metadata": {
        "id": "3R8ZFihC1XLT",
        "colab_type": "code",
        "colab": {}
      },
      "source": [
        "def compute_loss(mean_diff,height, v_pos):\n",
        "    # penalize the result if the valve is closed (wear)\n",
        "    penalty = 0\n",
        "    idx0 = np.where(v_pos == 0)\n",
        "    if len(idx0[0]) > 10:\n",
        "        penalty += 100\n",
        "        \n",
        "\n",
        "    # let's consider only the 2nd half of the valve positions\n",
        "    # (a steep gradient when filling the tank is expected,\n",
        "    # however it is not desirable at the end of the simulation,\n",
        "    # when the set value is reached)\n",
        "    i=int(len(v_pos)/2) #\n",
        "    # valve position at t\n",
        "    v=v_pos[i:-2]\n",
        "    # valve position at t+1\n",
        "    vp=v_pos[i+1:-1]\n",
        "    # proxy for the mean gradient\n",
        "    average_gradient=np.mean(abs(vp-v))\n",
        "    # if the gradient is too steep: penalisation\n",
        "    if average_gradient>0.02:\n",
        "        penalty+=100\n",
        "    # compute gradient\n",
        "\n",
        "    return mean_diff + penalty\n",
        "\n",
        "def fc_to_minimize_wloss(x):\n",
        "    mean_diff, _, height, v_pos = run_pid_simulation(x)\n",
        "    return compute_loss(mean_diff,height,v_pos)"
      ],
      "execution_count": 0,
      "outputs": []
    },
    {
      "cell_type": "markdown",
      "metadata": {
        "id": "IU28gykB1XLW",
        "colab_type": "text"
      },
      "source": [
        "The inital PID parameters are set and one simulation is run as reference."
      ]
    },
    {
      "cell_type": "code",
      "metadata": {
        "id": "g1YD62tA1XLX",
        "colab_type": "code",
        "colab": {}
      },
      "source": [
        "# bounds of the parameters\n",
        "#       prop.band , integration & derivation times\n",
        "bnds = ((0.1, 0.6), (5, 500) , (0.5, 100))\n",
        "\n",
        "k = 0.5 # starting point between the bounds for each parameter\n",
        "x0 = [k * (bnds[0][0] + bnds[0][1]),\n",
        "      k * (bnds[1][0] + bnds[1][1]),\n",
        "      k * (bnds[2][0] + bnds[2][1])]\n",
        "\n",
        "# Initial results of the PID, without any optimization performed.\n",
        "objective_0, time_0, height_0, v_pos_0 = run_pid_simulation(x0)"
      ],
      "execution_count": 0,
      "outputs": []
    },
    {
      "cell_type": "markdown",
      "metadata": {
        "id": "1D5Kt1D_1XLc",
        "colab_type": "text"
      },
      "source": [
        "The optimization is performed here using a [Truncated Newton method](https://en.wikipedia.org/wiki/Truncated_Newton_method). For each step, `fc_to_minize` runs a simulation and calculate the loss function. `x0` is the initial PID parameter set. `bounds` are the value range allowed for these parameters. "
      ]
    },
    {
      "cell_type": "code",
      "metadata": {
        "id": "OAjmyZNX1XLc",
        "colab_type": "code",
        "colab": {
          "base_uri": "https://localhost:8080/",
          "height": 139
        },
        "outputId": "27ce9950-9159-4a21-e184-ad6eb912b690"
      },
      "source": [
        "sol = minimize(fc_to_minimize_wloss, x0, bounds=bnds, method='TNC', tol=1e-3)\n",
        "\n",
        "# let us plot the result\n",
        "BP, Tn, Td = sol.x[0], sol.x[1], sol.x[2]\n",
        "objective, time, height, v_pos = run_pid_simulation([BP, Tn, Td])\n",
        "\n",
        "print(\"BP =\", round(BP, 3))\n",
        "print(\"Tn =\", round(Tn, 1))\n",
        "print(\"Td =\", round(Td, 1))\n",
        "print(\"fc obj =\", round(objective, 3))\n",
        "\n",
        "time = np.asarray(time)\n",
        "time = time - dt\n"
      ],
      "execution_count": 8,
      "outputs": [
        {
          "output_type": "stream",
          "text": [
            "/usr/local/lib/python3.6/dist-packages/scipy/optimize/minpack.py:162: RuntimeWarning: The iteration is not making good progress, as measured by the \n",
            "  improvement from the last ten iterations.\n",
            "  warnings.warn(msg, RuntimeWarning)\n"
          ],
          "name": "stderr"
        },
        {
          "output_type": "stream",
          "text": [
            "BP = 0.181\n",
            "Tn = 500.0\n",
            "Td = 0.5\n",
            "fc obj = 0.169\n"
          ],
          "name": "stdout"
        }
      ]
    },
    {
      "cell_type": "markdown",
      "metadata": {
        "id": "96xSISRi1XLi",
        "colab_type": "text"
      },
      "source": [
        "Plot of the water level evolution, using the initial PID, using the optimized PID. If `sim_time` is increased in the `run_pid_simulation` method, the oscillation of the initial_PID become visible."
      ]
    },
    {
      "cell_type": "code",
      "metadata": {
        "id": "k7rN9f8W1XLj",
        "colab_type": "code",
        "colab": {
          "base_uri": "https://localhost:8080/",
          "height": 297
        },
        "outputId": "186368d5-46e1-4603-8d38-45d8fed2d828"
      },
      "source": [
        "plt.xlabel(\"Time [s]\")\n",
        "plt.ylabel(\"Water height [m]\")\n",
        "plt.plot(time, height, color=coule[-2], linestyle=\"-\", alpha=0.75, marker='o', label='optimized_PID')\n",
        "plt.plot(time, height_0, color=coule[-3], linestyle=\"-\", alpha=0.75, marker='o', label='initial_PID')\n",
        "plt.plot(time, np.ones(len(time)) * H0, color='black', linestyle=\"--\", alpha=0.9985, marker='',label='set water height')\n",
        "\n",
        "plt.legend()\n",
        "plt.tight_layout()\n",
        "plt.show()"
      ],
      "execution_count": 9,
      "outputs": [
        {
          "output_type": "display_data",
          "data": {
            "image/png": "[encoded data removed]",
            "text/plain": [
              "<Figure size 432x288 with 1 Axes>"
            ]
          },
          "metadata": {
            "tags": [],
            "needs_background": "light"
          }
        }
      ]
    },
    {
      "cell_type": "markdown",
      "metadata": {
        "id": "cPRwFmpS1XLn",
        "colab_type": "text"
      },
      "source": [
        "### Optimization visualisation\n",
        "Let's modify slightly the `fc_to_minimize_wloss` method to extract the loss values over time, as well as the PID parameters. \n"
      ]
    },
    {
      "cell_type": "code",
      "metadata": {
        "id": "23IeXTWW1XLp",
        "colab_type": "code",
        "colab": {}
      },
      "source": [
        "objective = [] # Log the mean_diff quantity\n",
        "penalty = [] # Log the penaly quantity\n",
        "BP_ = [] # Log BP values\n",
        "Tn_ = [] # Log Tn values\n",
        "Td_ = [] # Log Td values\n",
        "\n",
        "def fc_to_minimize_wloss(x):\n",
        "    mean_diff, _, height, v_pos = run_pid_simulation(x)\n",
        "    objective.append(mean_diff)\n",
        "    BP_.append(x[0])\n",
        "    Tn_.append(x[1])\n",
        "    Td_.append(x[2])\n",
        "\n",
        "    loss = compute_loss(mean_diff,height,v_pos)\n",
        "    penalty.append(loss - mean_diff)\n",
        "    return loss"
      ],
      "execution_count": 0,
      "outputs": []
    },
    {
      "cell_type": "markdown",
      "metadata": {
        "id": "3gdDbIr31XLt",
        "colab_type": "text"
      },
      "source": [
        "The simulation is then run again."
      ]
    },
    {
      "cell_type": "code",
      "metadata": {
        "id": "QK6q4bqB1XLt",
        "colab_type": "code",
        "colab": {
          "base_uri": "https://localhost:8080/",
          "height": 69
        },
        "outputId": "0ce4111e-db60-4773-e242-3125b360c041"
      },
      "source": [
        "objective = [] \n",
        "penalty = [] \n",
        "BP_ = [] \n",
        "Tn_ = [] \n",
        "Td_ = [] \n",
        "\n",
        "sol = minimize(fc_to_minimize_wloss, x0, bounds=bnds, method='TNC', tol=1e-3)"
      ],
      "execution_count": 11,
      "outputs": [
        {
          "output_type": "stream",
          "text": [
            "/usr/local/lib/python3.6/dist-packages/scipy/optimize/minpack.py:162: RuntimeWarning: The iteration is not making good progress, as measured by the \n",
            "  improvement from the last ten iterations.\n",
            "  warnings.warn(msg, RuntimeWarning)\n"
          ],
          "name": "stderr"
        }
      ]
    },
    {
      "cell_type": "code",
      "metadata": {
        "id": "jq_48PAs1XLy",
        "colab_type": "code",
        "colab": {
          "base_uri": "https://localhost:8080/",
          "height": 297
        },
        "outputId": "8ab2a783-68a3-48f2-f68a-f5048e56b11e"
      },
      "source": [
        "x_range = range(0,len(objective))\n",
        "fig,ax = plt.subplots(2)\n",
        "plt.xlabel(\"Optimization step\")\n",
        "ax[0].set_title(\"Objective\")\n",
        "ax[0].set_yscale('log')\n",
        "ax[0].plot(x_range, objective, color=coule[-1], linestyle=\"-\", alpha=0.75)\n",
        "ax[1].set_title(\"Penalty\")\n",
        "ax[1].plot(x_range, penalty, color=coule[-2], linestyle=\"-\", alpha=0.75)\n",
        "\n",
        "\n",
        "plt.tight_layout()\n",
        "plt.show()"
      ],
      "execution_count": 12,
      "outputs": [
        {
          "output_type": "display_data",
          "data": {
            "image/png": "[encoded data removed]",
            "text/plain": [
              "<Figure size 432x288 with 2 Axes>"
            ]
          },
          "metadata": {
            "tags": [],
            "needs_background": "light"
          }
        }
      ]
    },
    {
      "cell_type": "code",
      "metadata": {
        "id": "BCEmdDQw1XL1",
        "colab_type": "code",
        "colab": {
          "base_uri": "https://localhost:8080/",
          "height": 297
        },
        "outputId": "6902db6f-71bc-4d68-8b3b-a2104a8e14c5"
      },
      "source": [
        "fig,ax = plt.subplots(3)\n",
        "ax[0].set_title(\"Bp\")\n",
        "ax[0].plot(x_range, BP_, color=coule[-3], linestyle=\"-\", alpha=0.75,  label='Bp')\n",
        "ax[1].plot(x_range, Tn_, color=coule[-4], linestyle=\"-\", alpha=0.75, label='Tn')\n",
        "ax[1].set_title(\"Tn\")\n",
        "\n",
        "ax[2].plot(x_range, Td_, color=coule[-5], linestyle=\"-\", alpha=0.75, label='Td')\n",
        "ax[2].set_title(\"Td\")\n",
        "plt.tight_layout()\n",
        "plt.show()"
      ],
      "execution_count": 13,
      "outputs": [
        {
          "output_type": "display_data",
          "data": {
            "image/png": "[encoded data removed]",
            "text/plain": [
              "<Figure size 432x288 with 3 Axes>"
            ]
          },
          "metadata": {
            "tags": [],
            "needs_background": "light"
          }
        }
      ]
    },
    {
      "cell_type": "markdown",
      "metadata": {
        "id": "ruecic291XL7",
        "colab_type": "text"
      },
      "source": [
        "It is interesting to see that the `loss` drops sharply along the differential component `Td`of the PID. The integral part of the PID `Tn`is being maximized by the optimisation."
      ]
    },
    {
      "cell_type": "code",
      "metadata": {
        "id": "Hb-usYU-1deG",
        "colab_type": "code",
        "colab": {}
      },
      "source": [
        ""
      ],
      "execution_count": 0,
      "outputs": []
    }
  ]
}
